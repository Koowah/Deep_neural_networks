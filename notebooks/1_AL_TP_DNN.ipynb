{
 "cells": [
  {
   "cell_type": "markdown",
   "metadata": {},
   "source": [
    "# First, let's load the MNIST dataset"
   ]
  },
  {
   "cell_type": "code",
   "execution_count": 362,
   "metadata": {},
   "outputs": [],
   "source": [
    "import numpy as np\n",
    "import matplotlib.pyplot as plt"
   ]
  },
  {
   "cell_type": "code",
   "execution_count": 363,
   "metadata": {},
   "outputs": [],
   "source": [
    "import requests # for alpha-binary digits\n",
    "\n",
    "import torch\n",
    "from torchvision import datasets, transforms # for MNIST"
   ]
  },
  {
   "cell_type": "markdown",
   "metadata": {},
   "source": [
    "### Downloading, preprocessing & loading MNIST"
   ]
  },
  {
   "cell_type": "code",
   "execution_count": 364,
   "metadata": {},
   "outputs": [],
   "source": [
    "# Define a transform to normalize the data\n",
    "transform = transforms.Compose([transforms.ToTensor(),\n",
    "                                transforms.Normalize((0.5,), (0.5,))])\n",
    "# Download and load the training data\n",
    "trainset = datasets.MNIST('../data/processed', download=False, train=True, transform=transform)\n",
    "trainloader = torch.utils.data.DataLoader(trainset, batch_size=64, shuffle=True)\n",
    "# Download and load the test data\n",
    "testset = datasets.MNIST('../data/processed', download=False, train=False, transform=transform)\n",
    "testloader = torch.utils.data.DataLoader(testset, batch_size=64, shuffle=True)\n"
   ]
  },
  {
   "cell_type": "code",
   "execution_count": 365,
   "metadata": {},
   "outputs": [],
   "source": [
    "dataiter = iter(trainloader)"
   ]
  },
  {
   "cell_type": "code",
   "execution_count": 366,
   "metadata": {},
   "outputs": [],
   "source": [
    "images, labels = dataiter.next()"
   ]
  },
  {
   "cell_type": "code",
   "execution_count": 367,
   "metadata": {},
   "outputs": [
    {
     "name": "stdout",
     "output_type": "stream",
     "text": [
      "torch.Size([64, 1, 28, 28]) torch.Size([64])\n"
     ]
    }
   ],
   "source": [
    "print(images.shape, labels.shape) #loading 64 images of shape 28x28"
   ]
  },
  {
   "cell_type": "code",
   "execution_count": 368,
   "metadata": {},
   "outputs": [
    {
     "data": {
      "text/plain": [
       "<matplotlib.image.AxesImage at 0x192f201c430>"
      ]
     },
     "execution_count": 368,
     "metadata": {},
     "output_type": "execute_result"
    },
    {
     "data": {
      "image/png": "[encoded data removed]",
      "text/plain": [
       "<Figure size 432x288 with 1 Axes>"
      ]
     },
     "metadata": {
      "needs_background": "light"
     },
     "output_type": "display_data"
    }
   ],
   "source": [
    "plt.imshow(images[0].squeeze(), cmap='Greys_r')"
   ]
  },
  {
   "cell_type": "markdown",
   "metadata": {},
   "source": [
    "---"
   ]
  },
  {
   "cell_type": "markdown",
   "metadata": {},
   "source": [
    "### Downloading AlphaBinary"
   ]
  },
  {
   "cell_type": "code",
   "execution_count": 369,
   "metadata": {},
   "outputs": [],
   "source": [
    "# alpha_binary_mat = requests.get('https://cs.nyu.edu/~roweis/data/binaryalphadigs.mat')"
   ]
  },
  {
   "cell_type": "code",
   "execution_count": 370,
   "metadata": {},
   "outputs": [],
   "source": [
    "# with open('../data/raw/alpha_binary.mat', 'wb') as f:\n",
    "#     f.write(alpha_binary_mat.content)"
   ]
  },
  {
   "cell_type": "markdown",
   "metadata": {},
   "source": [
    "### Preprocessing AlphaBinary"
   ]
  },
  {
   "cell_type": "code",
   "execution_count": 371,
   "metadata": {},
   "outputs": [],
   "source": [
    "import scipy.io"
   ]
  },
  {
   "cell_type": "code",
   "execution_count": 372,
   "metadata": {},
   "outputs": [],
   "source": [
    "file_mat = '../data/raw/alpha_binary.mat'\n",
    "mat = scipy.io.loadmat(file_mat)"
   ]
  },
  {
   "cell_type": "code",
   "execution_count": 373,
   "metadata": {},
   "outputs": [
    {
     "data": {
      "text/plain": [
       "dict"
      ]
     },
     "execution_count": 373,
     "metadata": {},
     "output_type": "execute_result"
    }
   ],
   "source": [
    "type(mat)"
   ]
  },
  {
   "cell_type": "code",
   "execution_count": 374,
   "metadata": {},
   "outputs": [
    {
     "data": {
      "text/plain": [
       "dict_keys(['__header__', '__version__', '__globals__', 'dat', 'numclass', 'classlabels', 'classcounts'])"
      ]
     },
     "execution_count": 374,
     "metadata": {},
     "output_type": "execute_result"
    }
   ],
   "source": [
    "mat.keys()"
   ]
  },
  {
   "cell_type": "code",
   "execution_count": 375,
   "metadata": {},
   "outputs": [
    {
     "data": {
      "text/plain": [
       "(36, 39)"
      ]
     },
     "execution_count": 375,
     "metadata": {},
     "output_type": "execute_result"
    }
   ],
   "source": [
    "mat['dat'].shape # 39 samples for each of the 36 classes - 10 digits & 26 letters"
   ]
  },
  {
   "cell_type": "code",
   "execution_count": 376,
   "metadata": {},
   "outputs": [
    {
     "data": {
      "text/plain": [
       "array([array(['0'], dtype='<U1'), array(['1'], dtype='<U1'),\n",
       "       array(['2'], dtype='<U1'), array(['3'], dtype='<U1'),\n",
       "       array(['4'], dtype='<U1'), array(['5'], dtype='<U1'),\n",
       "       array(['6'], dtype='<U1'), array(['7'], dtype='<U1'),\n",
       "       array(['8'], dtype='<U1'), array(['9'], dtype='<U1'),\n",
       "       array(['A'], dtype='<U1'), array(['B'], dtype='<U1'),\n",
       "       array(['C'], dtype='<U1'), array(['D'], dtype='<U1'),\n",
       "       array(['E'], dtype='<U1'), array(['F'], dtype='<U1'),\n",
       "       array(['G'], dtype='<U1'), array(['H'], dtype='<U1'),\n",
       "       array(['I'], dtype='<U1'), array(['J'], dtype='<U1'),\n",
       "       array(['K'], dtype='<U1'), array(['L'], dtype='<U1'),\n",
       "       array(['M'], dtype='<U1'), array(['N'], dtype='<U1'),\n",
       "       array(['O'], dtype='<U1'), array(['P'], dtype='<U1'),\n",
       "       array(['Q'], dtype='<U1'), array(['R'], dtype='<U1'),\n",
       "       array(['S'], dtype='<U1'), array(['T'], dtype='<U1'),\n",
       "       array(['U'], dtype='<U1'), array(['V'], dtype='<U1'),\n",
       "       array(['W'], dtype='<U1'), array(['X'], dtype='<U1'),\n",
       "       array(['Y'], dtype='<U1'), array(['Z'], dtype='<U1')], dtype=object)"
      ]
     },
     "execution_count": 376,
     "metadata": {},
     "output_type": "execute_result"
    }
   ],
   "source": [
    "mat['classlabels'][0]"
   ]
  },
  {
   "cell_type": "code",
   "execution_count": 377,
   "metadata": {},
   "outputs": [],
   "source": [
    "labels = np.array([label.item() for label in mat['classlabels'][0]])"
   ]
  },
  {
   "cell_type": "code",
   "execution_count": 378,
   "metadata": {},
   "outputs": [
    {
     "data": {
      "text/plain": [
       "array(['0', '1', '2', '3', '4', '5', '6', '7', '8', '9', 'A', 'B', 'C',\n",
       "       'D', 'E', 'F', 'G', 'H', 'I', 'J', 'K', 'L', 'M', 'N', 'O', 'P',\n",
       "       'Q', 'R', 'S', 'T', 'U', 'V', 'W', 'X', 'Y', 'Z'], dtype='<U1')"
      ]
     },
     "execution_count": 378,
     "metadata": {},
     "output_type": "execute_result"
    }
   ],
   "source": [
    "labels"
   ]
  },
  {
   "cell_type": "markdown",
   "metadata": {},
   "source": [
    "---"
   ]
  },
  {
   "cell_type": "code",
   "execution_count": 379,
   "metadata": {},
   "outputs": [],
   "source": [
    "images = mat['dat']"
   ]
  },
  {
   "cell_type": "code",
   "execution_count": 380,
   "metadata": {},
   "outputs": [
    {
     "data": {
      "text/plain": [
       "<matplotlib.image.AxesImage at 0x192f2129c40>"
      ]
     },
     "execution_count": 380,
     "metadata": {},
     "output_type": "execute_result"
    },
    {
     "data": {
      "image/png": "[encoded data removed]",
      "text/plain": [
       "<Figure size 432x288 with 1 Axes>"
      ]
     },
     "metadata": {
      "needs_background": "light"
     },
     "output_type": "display_data"
    }
   ],
   "source": [
    "plt.imshow(images[3][0], cmap='Greys_r')"
   ]
  },
  {
   "cell_type": "code",
   "execution_count": 381,
   "metadata": {},
   "outputs": [
    {
     "data": {
      "text/plain": [
       "<matplotlib.image.AxesImage at 0x192f2188160>"
      ]
     },
     "execution_count": 381,
     "metadata": {},
     "output_type": "execute_result"
    },
    {
     "data": {
      "image/png": "[encoded data removed]",
      "text/plain": [
       "<Figure size 432x288 with 1 Axes>"
      ]
     },
     "metadata": {
      "needs_background": "light"
     },
     "output_type": "display_data"
    }
   ],
   "source": [
    "plt.imshow(images[10][0], cmap='Greys_r')"
   ]
  },
  {
   "cell_type": "code",
   "execution_count": 382,
   "metadata": {},
   "outputs": [],
   "source": [
    "labels_array = []"
   ]
  },
  {
   "cell_type": "code",
   "execution_count": 383,
   "metadata": {},
   "outputs": [],
   "source": [
    "for index, classe in enumerate(images):\n",
    "    for image in classe:\n",
    "        labels_array.append(labels[index])\n",
    "\n",
    "labels_array = np.array(labels_array)"
   ]
  },
  {
   "cell_type": "code",
   "execution_count": 384,
   "metadata": {},
   "outputs": [
    {
     "data": {
      "text/plain": [
       "True"
      ]
     },
     "execution_count": 384,
     "metadata": {},
     "output_type": "execute_result"
    }
   ],
   "source": [
    "labels_array.shape[0] == 36*39"
   ]
  },
  {
   "cell_type": "code",
   "execution_count": 385,
   "metadata": {},
   "outputs": [
    {
     "data": {
      "text/plain": [
       "('0', '0', '1')"
      ]
     },
     "execution_count": 385,
     "metadata": {},
     "output_type": "execute_result"
    }
   ],
   "source": [
    "labels_array[0], labels_array[38], labels_array[39]"
   ]
  },
  {
   "cell_type": "markdown",
   "metadata": {},
   "source": [
    "---"
   ]
  },
  {
   "cell_type": "code",
   "execution_count": 386,
   "metadata": {},
   "outputs": [
    {
     "data": {
      "text/plain": [
       "(320,)"
      ]
     },
     "execution_count": 386,
     "metadata": {},
     "output_type": "execute_result"
    }
   ],
   "source": [
    "images[0][0].flatten().shape"
   ]
  },
  {
   "cell_type": "code",
   "execution_count": 387,
   "metadata": {},
   "outputs": [
    {
     "data": {
      "text/plain": [
       "(20, 16)"
      ]
     },
     "execution_count": 387,
     "metadata": {},
     "output_type": "execute_result"
    }
   ],
   "source": [
    "images[10][0].shape"
   ]
  },
  {
   "cell_type": "code",
   "execution_count": 388,
   "metadata": {},
   "outputs": [
    {
     "data": {
      "text/plain": [
       "(20, 16)"
      ]
     },
     "execution_count": 388,
     "metadata": {},
     "output_type": "execute_result"
    }
   ],
   "source": [
    "images[0, 1].shape"
   ]
  },
  {
   "cell_type": "code",
   "execution_count": 389,
   "metadata": {},
   "outputs": [],
   "source": [
    "def lire_alpha_digit(all_images, classes:list):\n",
    "    data = []\n",
    "    for cls in classes:\n",
    "        for image in all_images[cls]:\n",
    "            data.append(image.flatten().reshape(-1,1))\n",
    "    \n",
    "    return np.array(data)"
   ]
  },
  {
   "cell_type": "markdown",
   "metadata": {},
   "source": [
    "All our data has been loaded and is ready to be used in a python data environment !"
   ]
  },
  {
   "cell_type": "markdown",
   "metadata": {},
   "source": [
    "---"
   ]
  },
  {
   "cell_type": "markdown",
   "metadata": {},
   "source": [
    "# Creating NN classes & methods"
   ]
  },
  {
   "cell_type": "code",
   "execution_count": 390,
   "metadata": {},
   "outputs": [],
   "source": [
    "def sigmoid(x):\n",
    "    return 1 / (1 + np.exp(-x))"
   ]
  },
  {
   "cell_type": "code",
   "execution_count": 391,
   "metadata": {},
   "outputs": [],
   "source": [
    "def logistic(x,w,b):\n",
    "   xw = np.dot(x, w)\n",
    "   replicated_b = np.tile(b, (x.shape[0], 1))\n",
    "\n",
    "   return 1.0 / (1 + np.exp(- xw - b))"
   ]
  },
  {
   "cell_type": "code",
   "execution_count": 392,
   "metadata": {},
   "outputs": [],
   "source": [
    "class RBM:\n",
    "    \n",
    "    def __init__(self, n_v, n_h, W=None, b=None, c=None, k=1):\n",
    "        assert n_v != 0 and n_h != 0\n",
    "        self.n_v = n_v\n",
    "        self.n_h = n_h\n",
    "        shape = (n_h, n_v)\n",
    "        \n",
    "        self.W = W if W is not None else np.random.uniform(-1, 1, size=shape)\n",
    "        self.b = b if b is not None else np.zeros(n_v)\n",
    "        self.c = c if c is not None else np.zeros(n_h)\n",
    "\n",
    "        assert self.W.shape==shape and n_v == len(self.b) and n_h == len(self.c)\n",
    "        \n",
    "        self.k = k\n",
    "        return\n",
    "        \n",
    "    def forward(self, V):\n",
    "        n_sample, n_v = V.shape\n",
    "        \n",
    "        hsignal = np.dot(V, self.W.T) + self.c\n",
    "        assert hsignal.shape == (n_sample, self.n_h)\n",
    "        Hp = sigmoid(hsignal)\n",
    "        \n",
    "        #s = np.random.uniform(0, 1, size=hsignal.shape)\n",
    "        #Hs = (s < Hp) * 1  # same as:\n",
    "        Hs = np.random.binomial(1, Hp, size=Hp.shape)\n",
    "        return Hp, Hs\n",
    "    \n",
    "    def backward(self, H):\n",
    "        n_sample, n_h = H.shape\n",
    "        \n",
    "        vsignal = np.dot(H, self.W) + self.b\n",
    "        assert vsignal.shape == (n_sample, self.n_v)\n",
    "        #print(vsignal)\n",
    "        Vp = sigmoid(vsignal)\n",
    "        \n",
    "        s = np.random.uniform(0, 1, size=vsignal.shape)\n",
    "        Vs = (s < Vp) * 1\n",
    "        return Vp, Vs\n",
    "\n",
    "    def gibbs(self, V):  #return (probability, samples) of visible units\n",
    "        Vs = V\n",
    "        for i in range(self.k):\n",
    "            Hp, Hs = self.forward(Vs)\n",
    "            Vp, Vs = self.backward(Hs)\n",
    "            \n",
    "        return Hp, Hs, Vp, Vs\n",
    "    \n",
    "    def contrastive_divergence(self, V, learning=0.01):\n",
    "        #set_trace()\n",
    "        n_sample, n_v = V.shape\n",
    "        \n",
    "        Vs = V\n",
    "        Hp, Hs, Vp_, Vs_ = self.gibbs(Vs)   # underscore _ refers to tilde for negative sample\n",
    "        Hp_, Hs_ = self.forward(Vs_)\n",
    "\n",
    "        Vs1 = np.mean(Vs, axis=0) \n",
    "        Vs2 = np.mean(Vs_, axis=0) \n",
    "        Hp1 = np.mean(Hp, axis=0)\n",
    "        Hp2 = np.mean(Hp_, axis=0)\n",
    "        Hs1 = np.mean(Hs, axis=0)\n",
    "        Hs2 = np.mean(Hs_, axis=0)\n",
    "        \n",
    "        # note, there are variances in how to compute the gradients.\n",
    "        # Hugo suggests:     h(v1)*v1 - h(v2)*v2\n",
    "        # Bengio suggests:   h1*v1 - h(v2)*v2\n",
    "        # My derivation:     h1(v1)*v1 - h2*v2 \n",
    "        \n",
    "        Eh_b = Vs1; Evh_b = Vs2      # Evh_b refers to the Expectation (over v and h) of -logP(v) gradient wrt b\n",
    "        \n",
    "        #Eh_c = Hs1; Evh_c = Hp2  # bengio\n",
    "        Eh_c = Hp1; Evh_c = Hp2  # hugo\n",
    "        #Eh_c = Hp1; Evh_c = Hs2  # Mine\n",
    "\n",
    "        g_b = Evh_b - Eh_b  # gradient of -logP(v) wrt b\n",
    "        g_c = Evh_c - Eh_c\n",
    "\n",
    "        Eh_W = np.outer(Eh_c, Eh_b) \n",
    "        Evh_W = np.outer(Evh_c, Evh_b)\n",
    "        g_W = Evh_W - Eh_W\n",
    "    \n",
    "        self.W -= g_W * learning\n",
    "        self.b -= g_b * learning\n",
    "        self.c -= g_c * learning        \n",
    "        return\n",
    "    \n",
    "    def reconstruct(self, V):\n",
    "        Hp, Hs = self.forward(V)\n",
    "        Vp, Vs = self.backward(Hp)\n",
    "        return Vp, Vs\n",
    "    \n",
    "    def train_model(self, train_data, n_epoch=100, batch_size=10, learning=0.01):\n",
    "        for _ in range(n_epoch):\n",
    "            MSE = []\n",
    "            for x, y in train_data:\n",
    "                self.contrastive_divergence(x.T, learning)\n",
    "                reconstructed = self.reconstruct(x.T)\n",
    "                MSE.append(((x.T - reconstructed)**2).sum()/len(x))\n",
    "            print(f'MSE for epoch {_}: {np.array(MSE).mean()}')                      \n",
    "        return"
   ]
  },
  {
   "cell_type": "markdown",
   "metadata": {},
   "source": [
    "---"
   ]
  },
  {
   "cell_type": "code",
   "execution_count": 393,
   "metadata": {},
   "outputs": [],
   "source": [
    "rbm = RBM(20*16, 20*8)"
   ]
  },
  {
   "cell_type": "code",
   "execution_count": 394,
   "metadata": {},
   "outputs": [],
   "source": [
    "data = lire_alpha_digit(images, [0, 1, 2, 3, 4])"
   ]
  },
  {
   "cell_type": "code",
   "execution_count": 395,
   "metadata": {},
   "outputs": [],
   "source": [
    "train_data = list(zip(data, labels_array[:39*2]))"
   ]
  },
  {
   "cell_type": "code",
   "execution_count": 396,
   "metadata": {},
   "outputs": [
    {
     "name": "stdout",
     "output_type": "stream",
     "text": [
      "MSE for epoch 0: 0.4333772831263953\n",
      "MSE for epoch 1: 0.34544268269454487\n",
      "MSE for epoch 2: 0.30853144013434874\n",
      "MSE for epoch 3: 0.2799560278954312\n",
      "MSE for epoch 4: 0.26209147693845725\n",
      "MSE for epoch 5: 0.2522504017502742\n",
      "MSE for epoch 6: 0.23979158799438927\n",
      "MSE for epoch 7: 0.226678920669003\n",
      "MSE for epoch 8: 0.2200407165109661\n",
      "MSE for epoch 9: 0.21567769504637097\n",
      "MSE for epoch 10: 0.20633518956996297\n",
      "MSE for epoch 11: 0.19742257436149102\n",
      "MSE for epoch 12: 0.19366688533988344\n",
      "MSE for epoch 13: 0.19287501182713873\n",
      "MSE for epoch 14: 0.18193866303557485\n",
      "MSE for epoch 15: 0.1838051657953151\n",
      "MSE for epoch 16: 0.17658718383879293\n",
      "MSE for epoch 17: 0.16894048459697275\n",
      "MSE for epoch 18: 0.1660961079369778\n",
      "MSE for epoch 19: 0.16115739287905753\n",
      "MSE for epoch 20: 0.16155286306295805\n",
      "MSE for epoch 21: 0.1584937247093979\n",
      "MSE for epoch 22: 0.15388089172930233\n",
      "MSE for epoch 23: 0.15228149590841814\n",
      "MSE for epoch 24: 0.14847479530358945\n",
      "MSE for epoch 25: 0.14906202859259718\n",
      "MSE for epoch 26: 0.14317109236214795\n",
      "MSE for epoch 27: 0.14298842073361998\n",
      "MSE for epoch 28: 0.14130936584748421\n",
      "MSE for epoch 29: 0.1356161974861116\n",
      "MSE for epoch 30: 0.13497311520326993\n",
      "MSE for epoch 31: 0.12946127661582704\n",
      "MSE for epoch 32: 0.1302065010592141\n",
      "MSE for epoch 33: 0.12654398397242025\n",
      "MSE for epoch 34: 0.1268204368358838\n",
      "MSE for epoch 35: 0.12588365568282375\n",
      "MSE for epoch 36: 0.1210201670443207\n",
      "MSE for epoch 37: 0.12103357205825202\n",
      "MSE for epoch 38: 0.12106132446908692\n",
      "MSE for epoch 39: 0.1191838612996339\n",
      "MSE for epoch 40: 0.11563221426084766\n",
      "MSE for epoch 41: 0.1167867585990205\n",
      "MSE for epoch 42: 0.11315712882555758\n",
      "MSE for epoch 43: 0.11038162393368973\n",
      "MSE for epoch 44: 0.11135251939514108\n",
      "MSE for epoch 45: 0.10714405844727448\n",
      "MSE for epoch 46: 0.10849007329982352\n",
      "MSE for epoch 47: 0.10493619967952715\n",
      "MSE for epoch 48: 0.10400242178445164\n",
      "MSE for epoch 49: 0.10242020721184818\n",
      "MSE for epoch 50: 0.10259956355642758\n",
      "MSE for epoch 51: 0.1012515967323007\n",
      "MSE for epoch 52: 0.0989512356312751\n",
      "MSE for epoch 53: 0.09963753916625734\n",
      "MSE for epoch 54: 0.09687418819674838\n",
      "MSE for epoch 55: 0.09550601809601088\n",
      "MSE for epoch 56: 0.09600285754480917\n",
      "MSE for epoch 57: 0.0947719580202024\n",
      "MSE for epoch 58: 0.092634147570825\n",
      "MSE for epoch 59: 0.09285687177808499\n",
      "MSE for epoch 60: 0.09075807198398973\n",
      "MSE for epoch 61: 0.09096395800397583\n",
      "MSE for epoch 62: 0.08940732503853921\n",
      "MSE for epoch 63: 0.08798938967682057\n",
      "MSE for epoch 64: 0.08658397384967567\n",
      "MSE for epoch 65: 0.08522719828810744\n",
      "MSE for epoch 66: 0.08674323651924362\n",
      "MSE for epoch 67: 0.08488814088050341\n",
      "MSE for epoch 68: 0.08243325875820993\n",
      "MSE for epoch 69: 0.08425554829030454\n",
      "MSE for epoch 70: 0.08246120869679877\n",
      "MSE for epoch 71: 0.0831365409067769\n",
      "MSE for epoch 72: 0.08345894691240921\n",
      "MSE for epoch 73: 0.07936823403522711\n",
      "MSE for epoch 74: 0.08107808996306028\n",
      "MSE for epoch 75: 0.07897004665250426\n",
      "MSE for epoch 76: 0.07935915826460814\n",
      "MSE for epoch 77: 0.07806350536984473\n",
      "MSE for epoch 78: 0.07915856785986118\n",
      "MSE for epoch 79: 0.0777790908807744\n",
      "MSE for epoch 80: 0.0731765104608059\n",
      "MSE for epoch 81: 0.0764107382880129\n",
      "MSE for epoch 82: 0.07441081719505953\n",
      "MSE for epoch 83: 0.07406594923249644\n",
      "MSE for epoch 84: 0.07242412033692573\n",
      "MSE for epoch 85: 0.07442069400618423\n",
      "MSE for epoch 86: 0.07111585233456597\n",
      "MSE for epoch 87: 0.06931444160730488\n",
      "MSE for epoch 88: 0.07153058160670878\n",
      "MSE for epoch 89: 0.06876194912960408\n",
      "MSE for epoch 90: 0.07171589286443532\n",
      "MSE for epoch 91: 0.06938054359575678\n",
      "MSE for epoch 92: 0.06901885022199569\n",
      "MSE for epoch 93: 0.06705895558036647\n",
      "MSE for epoch 94: 0.0680220073948248\n",
      "MSE for epoch 95: 0.06744271428450824\n",
      "MSE for epoch 96: 0.06721616123887805\n",
      "MSE for epoch 97: 0.06746375924581893\n",
      "MSE for epoch 98: 0.064675114495046\n",
      "MSE for epoch 99: 0.06820886092851043\n"
     ]
    }
   ],
   "source": [
    "rbm.train_model(train_data)"
   ]
  },
  {
   "cell_type": "code",
   "execution_count": 405,
   "metadata": {},
   "outputs": [
    {
     "data": {
      "text/plain": [
       "<matplotlib.image.AxesImage at 0x192f33787f0>"
      ]
     },
     "execution_count": 405,
     "metadata": {},
     "output_type": "execute_result"
    },
    {
     "data": {
      "image/png": "[encoded data removed]",
      "text/plain": [
       "<Figure size 432x288 with 1 Axes>"
      ]
     },
     "metadata": {
      "needs_background": "light"
     },
     "output_type": "display_data"
    }
   ],
   "source": [
    "plt.imshow(data[50].reshape(20,16), cmap='Greys_r')"
   ]
  },
  {
   "cell_type": "code",
   "execution_count": 401,
   "metadata": {},
   "outputs": [
    {
     "data": {
      "text/plain": [
       "<matplotlib.image.AxesImage at 0x192f224fd30>"
      ]
     },
     "execution_count": 401,
     "metadata": {},
     "output_type": "execute_result"
    },
    {
     "data": {
      "image/png": "[encoded data removed]",
      "text/plain": [
       "<Figure size 432x288 with 1 Axes>"
      ]
     },
     "metadata": {
      "needs_background": "light"
     },
     "output_type": "display_data"
    }
   ],
   "source": [
    "plt.imshow(rbm.reconstruct(data[5].T)[0].reshape(20,16), cmap='Greys_r')"
   ]
  }
 ],
 "metadata": {
  "interpreter": {
   "hash": "7e2f77450d574f743a6d9d7e6faf87aa64c8f9c3d83f2013a355475f93227b48"
  },
  "kernelspec": {
   "display_name": "Python 3.8.8 ('data')",
   "language": "python",
   "name": "python3"
  },
  "language_info": {
   "codemirror_mode": {
    "name": "ipython",
    "version": 3
   },
   "file_extension": ".py",
   "mimetype": "text/x-python",
   "name": "python",
   "nbconvert_exporter": "python",
   "pygments_lexer": "ipython3",
   "version": "3.8.8"
  },
  "orig_nbformat": 4
 },
 "nbformat": 4,
 "nbformat_minor": 2
}
