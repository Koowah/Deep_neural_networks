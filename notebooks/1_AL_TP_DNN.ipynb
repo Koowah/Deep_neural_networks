{
 "cells": [
  {
   "cell_type": "markdown",
   "metadata": {},
   "source": [
    "# First, let's load the MNIST dataset"
   ]
  },
  {
   "cell_type": "code",
   "execution_count": 2,
   "metadata": {},
   "outputs": [],
   "source": [
    "import numpy as np\n",
    "import matplotlib.pyplot as plt"
   ]
  },
  {
   "cell_type": "code",
   "execution_count": 3,
   "metadata": {},
   "outputs": [],
   "source": [
    "import requests # for alpha-binary digits\n",
    "\n",
    "import torch\n",
    "from torchvision import datasets, transforms # for MNIST"
   ]
  },
  {
   "cell_type": "markdown",
   "metadata": {},
   "source": [
    "### Downloading, preprocessing & loading MNIST"
   ]
  },
  {
   "cell_type": "code",
   "execution_count": 4,
   "metadata": {},
   "outputs": [],
   "source": [
    "# Define a transform to normalize the data\n",
    "transform = transforms.Compose([transforms.ToTensor(),\n",
    "                                transforms.Normalize((0.5,), (0.5,))])\n",
    "# Download and load the training data\n",
    "trainset = datasets.MNIST('../data/processed', download=False, train=True, transform=transform)\n",
    "trainloader = torch.utils.data.DataLoader(trainset, batch_size=64, shuffle=True)\n",
    "# Download and load the test data\n",
    "testset = datasets.MNIST('../data/processed', download=False, train=False, transform=transform)\n",
    "testloader = torch.utils.data.DataLoader(testset, batch_size=64, shuffle=True)\n"
   ]
  },
  {
   "cell_type": "code",
   "execution_count": 5,
   "metadata": {},
   "outputs": [],
   "source": [
    "dataiter = iter(trainloader)"
   ]
  },
  {
   "cell_type": "code",
   "execution_count": 6,
   "metadata": {},
   "outputs": [],
   "source": [
    "images, labels = dataiter.next()"
   ]
  },
  {
   "cell_type": "code",
   "execution_count": 7,
   "metadata": {},
   "outputs": [
    {
     "name": "stdout",
     "output_type": "stream",
     "text": [
      "torch.Size([64, 1, 28, 28]) torch.Size([64])\n"
     ]
    }
   ],
   "source": [
    "print(images.shape, labels.shape) #loading 64 images of shape 28x28"
   ]
  },
  {
   "cell_type": "code",
   "execution_count": 8,
   "metadata": {},
   "outputs": [
    {
     "data": {
      "text/plain": [
       "<matplotlib.image.AxesImage at 0x1fc7caddb20>"
      ]
     },
     "execution_count": 8,
     "metadata": {},
     "output_type": "execute_result"
    },
    {
     "data": {
      "image/png": "[encoded data removed]",
      "text/plain": [
       "<Figure size 432x288 with 1 Axes>"
      ]
     },
     "metadata": {
      "needs_background": "light"
     },
     "output_type": "display_data"
    }
   ],
   "source": [
    "plt.imshow(images[0].squeeze(), cmap='Greys_r')"
   ]
  },
  {
   "cell_type": "markdown",
   "metadata": {},
   "source": [
    "---"
   ]
  },
  {
   "cell_type": "markdown",
   "metadata": {},
   "source": [
    "### Downloading AlphaBinary"
   ]
  },
  {
   "cell_type": "code",
   "execution_count": 9,
   "metadata": {},
   "outputs": [],
   "source": [
    "# alpha_binary_mat = requests.get('https://cs.nyu.edu/~roweis/data/binaryalphadigs.mat')"
   ]
  },
  {
   "cell_type": "code",
   "execution_count": 10,
   "metadata": {},
   "outputs": [],
   "source": [
    "# with open('../data/raw/alpha_binary.mat', 'wb') as f:\n",
    "#     f.write(alpha_binary_mat.content)"
   ]
  },
  {
   "cell_type": "markdown",
   "metadata": {},
   "source": [
    "### Preprocessing AlphaBinary"
   ]
  },
  {
   "cell_type": "code",
   "execution_count": 11,
   "metadata": {},
   "outputs": [],
   "source": [
    "import scipy.io"
   ]
  },
  {
   "cell_type": "code",
   "execution_count": 12,
   "metadata": {},
   "outputs": [],
   "source": [
    "file_mat = '../data/raw/alpha_binary.mat'\n",
    "mat = scipy.io.loadmat(file_mat)"
   ]
  },
  {
   "cell_type": "code",
   "execution_count": 13,
   "metadata": {},
   "outputs": [
    {
     "data": {
      "text/plain": [
       "dict"
      ]
     },
     "execution_count": 13,
     "metadata": {},
     "output_type": "execute_result"
    }
   ],
   "source": [
    "type(mat)"
   ]
  },
  {
   "cell_type": "code",
   "execution_count": 14,
   "metadata": {},
   "outputs": [
    {
     "data": {
      "text/plain": [
       "dict_keys(['__header__', '__version__', '__globals__', 'dat', 'numclass', 'classlabels', 'classcounts'])"
      ]
     },
     "execution_count": 14,
     "metadata": {},
     "output_type": "execute_result"
    }
   ],
   "source": [
    "mat.keys()"
   ]
  },
  {
   "cell_type": "code",
   "execution_count": 15,
   "metadata": {},
   "outputs": [
    {
     "data": {
      "text/plain": [
       "(36, 39)"
      ]
     },
     "execution_count": 15,
     "metadata": {},
     "output_type": "execute_result"
    }
   ],
   "source": [
    "mat['dat'].shape # 39 samples for each of the 36 classes - 10 digits & 26 letters"
   ]
  },
  {
   "cell_type": "code",
   "execution_count": 16,
   "metadata": {},
   "outputs": [
    {
     "data": {
      "text/plain": [
       "array([array(['0'], dtype='<U1'), array(['1'], dtype='<U1'),\n",
       "       array(['2'], dtype='<U1'), array(['3'], dtype='<U1'),\n",
       "       array(['4'], dtype='<U1'), array(['5'], dtype='<U1'),\n",
       "       array(['6'], dtype='<U1'), array(['7'], dtype='<U1'),\n",
       "       array(['8'], dtype='<U1'), array(['9'], dtype='<U1'),\n",
       "       array(['A'], dtype='<U1'), array(['B'], dtype='<U1'),\n",
       "       array(['C'], dtype='<U1'), array(['D'], dtype='<U1'),\n",
       "       array(['E'], dtype='<U1'), array(['F'], dtype='<U1'),\n",
       "       array(['G'], dtype='<U1'), array(['H'], dtype='<U1'),\n",
       "       array(['I'], dtype='<U1'), array(['J'], dtype='<U1'),\n",
       "       array(['K'], dtype='<U1'), array(['L'], dtype='<U1'),\n",
       "       array(['M'], dtype='<U1'), array(['N'], dtype='<U1'),\n",
       "       array(['O'], dtype='<U1'), array(['P'], dtype='<U1'),\n",
       "       array(['Q'], dtype='<U1'), array(['R'], dtype='<U1'),\n",
       "       array(['S'], dtype='<U1'), array(['T'], dtype='<U1'),\n",
       "       array(['U'], dtype='<U1'), array(['V'], dtype='<U1'),\n",
       "       array(['W'], dtype='<U1'), array(['X'], dtype='<U1'),\n",
       "       array(['Y'], dtype='<U1'), array(['Z'], dtype='<U1')], dtype=object)"
      ]
     },
     "execution_count": 16,
     "metadata": {},
     "output_type": "execute_result"
    }
   ],
   "source": [
    "mat['classlabels'][0]"
   ]
  },
  {
   "cell_type": "code",
   "execution_count": 17,
   "metadata": {},
   "outputs": [],
   "source": [
    "labels = np.array([label.item() for label in mat['classlabels'][0]])"
   ]
  },
  {
   "cell_type": "code",
   "execution_count": 18,
   "metadata": {},
   "outputs": [
    {
     "data": {
      "text/plain": [
       "array(['0', '1', '2', '3', '4', '5', '6', '7', '8', '9', 'A', 'B', 'C',\n",
       "       'D', 'E', 'F', 'G', 'H', 'I', 'J', 'K', 'L', 'M', 'N', 'O', 'P',\n",
       "       'Q', 'R', 'S', 'T', 'U', 'V', 'W', 'X', 'Y', 'Z'], dtype='<U1')"
      ]
     },
     "execution_count": 18,
     "metadata": {},
     "output_type": "execute_result"
    }
   ],
   "source": [
    "labels"
   ]
  },
  {
   "cell_type": "markdown",
   "metadata": {},
   "source": [
    "---"
   ]
  },
  {
   "cell_type": "code",
   "execution_count": 19,
   "metadata": {},
   "outputs": [],
   "source": [
    "images = mat['dat']"
   ]
  },
  {
   "cell_type": "code",
   "execution_count": 20,
   "metadata": {},
   "outputs": [
    {
     "data": {
      "text/plain": [
       "<matplotlib.image.AxesImage at 0x1fc7cedd0d0>"
      ]
     },
     "execution_count": 20,
     "metadata": {},
     "output_type": "execute_result"
    },
    {
     "data": {
      "image/png": "[encoded data removed]",
      "text/plain": [
       "<Figure size 432x288 with 1 Axes>"
      ]
     },
     "metadata": {
      "needs_background": "light"
     },
     "output_type": "display_data"
    }
   ],
   "source": [
    "plt.imshow(images[3][0], cmap='Greys_r')"
   ]
  },
  {
   "cell_type": "code",
   "execution_count": 21,
   "metadata": {},
   "outputs": [
    {
     "data": {
      "text/plain": [
       "<matplotlib.image.AxesImage at 0x1fc7cf34d60>"
      ]
     },
     "execution_count": 21,
     "metadata": {},
     "output_type": "execute_result"
    },
    {
     "data": {
      "image/png": "[encoded data removed]",
      "text/plain": [
       "<Figure size 432x288 with 1 Axes>"
      ]
     },
     "metadata": {
      "needs_background": "light"
     },
     "output_type": "display_data"
    }
   ],
   "source": [
    "plt.imshow(images[10][0], cmap='Greys_r')"
   ]
  },
  {
   "cell_type": "code",
   "execution_count": 22,
   "metadata": {},
   "outputs": [],
   "source": [
    "labels_array = []"
   ]
  },
  {
   "cell_type": "code",
   "execution_count": 23,
   "metadata": {},
   "outputs": [],
   "source": [
    "for index, classe in enumerate(images):\n",
    "    for image in classe:\n",
    "        labels_array.append(labels[index])\n",
    "\n",
    "labels_array = np.array(labels_array)"
   ]
  },
  {
   "cell_type": "code",
   "execution_count": 24,
   "metadata": {},
   "outputs": [
    {
     "data": {
      "text/plain": [
       "True"
      ]
     },
     "execution_count": 24,
     "metadata": {},
     "output_type": "execute_result"
    }
   ],
   "source": [
    "labels_array.shape[0] == 36*39"
   ]
  },
  {
   "cell_type": "code",
   "execution_count": 25,
   "metadata": {},
   "outputs": [
    {
     "data": {
      "text/plain": [
       "('0', '0', '1')"
      ]
     },
     "execution_count": 25,
     "metadata": {},
     "output_type": "execute_result"
    }
   ],
   "source": [
    "labels_array[0], labels_array[38], labels_array[39]"
   ]
  },
  {
   "cell_type": "markdown",
   "metadata": {},
   "source": [
    "---"
   ]
  },
  {
   "cell_type": "code",
   "execution_count": 26,
   "metadata": {},
   "outputs": [
    {
     "data": {
      "text/plain": [
       "(320,)"
      ]
     },
     "execution_count": 26,
     "metadata": {},
     "output_type": "execute_result"
    }
   ],
   "source": [
    "images[0][0].flatten().shape"
   ]
  },
  {
   "cell_type": "code",
   "execution_count": 27,
   "metadata": {},
   "outputs": [
    {
     "data": {
      "text/plain": [
       "(20, 16)"
      ]
     },
     "execution_count": 27,
     "metadata": {},
     "output_type": "execute_result"
    }
   ],
   "source": [
    "images[10][0].shape"
   ]
  },
  {
   "cell_type": "code",
   "execution_count": 28,
   "metadata": {},
   "outputs": [
    {
     "data": {
      "text/plain": [
       "(20, 16)"
      ]
     },
     "execution_count": 28,
     "metadata": {},
     "output_type": "execute_result"
    }
   ],
   "source": [
    "images[0, 1].shape"
   ]
  },
  {
   "cell_type": "code",
   "execution_count": 29,
   "metadata": {},
   "outputs": [],
   "source": [
    "def lire_alpha_digit(all_images, classes:list):\n",
    "    data = []\n",
    "    for cls in classes:\n",
    "        for image in all_images[cls]:\n",
    "            data.append(image.flatten().reshape(-1,1))\n",
    "    \n",
    "    return np.array(data)"
   ]
  },
  {
   "cell_type": "markdown",
   "metadata": {},
   "source": [
    "All our data has been loaded and is ready to be used in a python data environment !"
   ]
  },
  {
   "cell_type": "markdown",
   "metadata": {},
   "source": [
    "---"
   ]
  },
  {
   "cell_type": "markdown",
   "metadata": {},
   "source": [
    "# Creating NN classes & methods"
   ]
  },
  {
   "cell_type": "code",
   "execution_count": 30,
   "metadata": {},
   "outputs": [],
   "source": [
    "def sigmoid(x):\n",
    "    return 1 / (1 + np.exp(-x))"
   ]
  },
  {
   "cell_type": "code",
   "execution_count": 31,
   "metadata": {},
   "outputs": [],
   "source": [
    "def logistic(x,w,b):\n",
    "   xw = np.dot(x, w)\n",
    "   replicated_b = np.tile(b, (x.shape[0], 1))\n",
    "\n",
    "   return 1.0 / (1 + np.exp(- xw - b))"
   ]
  },
  {
   "cell_type": "code",
   "execution_count": 32,
   "metadata": {},
   "outputs": [],
   "source": [
    "class RBM:\n",
    "    \n",
    "    def __init__(self, n_v, n_h, W=None, b=None, c=None, k=1):\n",
    "        assert n_v != 0 and n_h != 0\n",
    "        self.n_v = n_v\n",
    "        self.n_h = n_h\n",
    "        shape = (n_h, n_v)\n",
    "        \n",
    "        self.W = W if W is not None else np.random.uniform(-1, 1, size=shape)\n",
    "        self.b = b if b is not None else np.zeros(n_v)\n",
    "        self.c = c if c is not None else np.zeros(n_h)\n",
    "\n",
    "        assert self.W.shape==shape and n_v == len(self.b) and n_h == len(self.c)\n",
    "        \n",
    "        self.k = k\n",
    "        return\n",
    "        \n",
    "    def forward(self, V):\n",
    "        n_sample, n_v = V.shape\n",
    "        \n",
    "        hsignal = np.dot(V, self.W.T) + self.c\n",
    "        assert hsignal.shape == (n_sample, self.n_h)\n",
    "        Hp = sigmoid(hsignal)\n",
    "        \n",
    "        #s = np.random.uniform(0, 1, size=hsignal.shape)\n",
    "        #Hs = (s < Hp) * 1  # same as:\n",
    "        Hs = np.random.binomial(1, Hp, size=Hp.shape)\n",
    "        return Hp, Hs\n",
    "    \n",
    "    def backward(self, H):\n",
    "        n_sample, n_h = H.shape\n",
    "        \n",
    "        vsignal = np.dot(H, self.W) + self.b\n",
    "        assert vsignal.shape == (n_sample, self.n_v)\n",
    "        #print(vsignal)\n",
    "        Vp = sigmoid(vsignal)\n",
    "        \n",
    "        s = np.random.uniform(0, 1, size=vsignal.shape)\n",
    "        Vs = (s < Vp) * 1\n",
    "        return Vp, Vs\n",
    "\n",
    "    def gibbs(self, V):  #return (probability, samples) of visible units\n",
    "        Vs = V\n",
    "        for i in range(self.k):\n",
    "            Hp, Hs = self.forward(Vs)\n",
    "            Vp, Vs = self.backward(Hs)\n",
    "            \n",
    "        return Hp, Hs, Vp, Vs\n",
    "    \n",
    "    def contrastive_divergence(self, V, learning=0.01):\n",
    "        #set_trace()\n",
    "        n_sample, n_v = V.shape\n",
    "        \n",
    "        Vs = V\n",
    "        Hp, Hs, Vp_, Vs_ = self.gibbs(Vs)   # underscore _ refers to tilde for negative sample\n",
    "        Hp_, Hs_ = self.forward(Vs_)\n",
    "\n",
    "        Vs1 = np.mean(Vs, axis=0) \n",
    "        Vs2 = np.mean(Vs_, axis=0) \n",
    "        Hp1 = np.mean(Hp, axis=0)\n",
    "        Hp2 = np.mean(Hp_, axis=0)\n",
    "        Hs1 = np.mean(Hs, axis=0)\n",
    "        Hs2 = np.mean(Hs_, axis=0)\n",
    "        \n",
    "        # note, there are variances in how to compute the gradients.\n",
    "        # Hugo suggests:     h(v1)*v1 - h(v2)*v2\n",
    "        # Bengio suggests:   h1*v1 - h(v2)*v2\n",
    "        # My derivation:     h1(v1)*v1 - h2*v2 \n",
    "        \n",
    "        Eh_b = Vs1; Evh_b = Vs2      # Evh_b refers to the Expectation (over v and h) of -logP(v) gradient wrt b\n",
    "        \n",
    "        #Eh_c = Hs1; Evh_c = Hp2  # bengio\n",
    "        Eh_c = Hp1; Evh_c = Hp2  # hugo\n",
    "        #Eh_c = Hp1; Evh_c = Hs2  # Mine\n",
    "\n",
    "        g_b = Evh_b - Eh_b  # gradient of -logP(v) wrt b\n",
    "        g_c = Evh_c - Eh_c\n",
    "\n",
    "        Eh_W = np.outer(Eh_c, Eh_b) \n",
    "        Evh_W = np.outer(Evh_c, Evh_b)\n",
    "        g_W = Evh_W - Eh_W\n",
    "    \n",
    "        self.W -= g_W * learning\n",
    "        self.b -= g_b * learning\n",
    "        self.c -= g_c * learning        \n",
    "        return\n",
    "    \n",
    "    def reconstruct(self, V):\n",
    "        Hp, Hs = self.forward(V)\n",
    "        Vp, Vs = self.backward(Hp)\n",
    "        return Vp, Vs\n",
    "    \n",
    "    def train_model(self, train_data, n_epoch=100, batch_size=10, learning=0.01):\n",
    "        for _ in range(n_epoch):\n",
    "            MSE = []\n",
    "            for x, y in train_data:\n",
    "                self.contrastive_divergence(x.T, learning)\n",
    "                reconstructed = self.reconstruct(x.T)\n",
    "                MSE.append(((x.T - reconstructed)**2).sum()/len(x))\n",
    "            print(f'MSE for epoch {_}: {np.array(MSE).mean()}')                      \n",
    "        return"
   ]
  },
  {
   "cell_type": "markdown",
   "metadata": {},
   "source": [
    "---"
   ]
  },
  {
   "cell_type": "code",
   "execution_count": 59,
   "metadata": {},
   "outputs": [],
   "source": [
    "rbm = RBM(20*16, 20*8)"
   ]
  },
  {
   "cell_type": "code",
   "execution_count": 60,
   "metadata": {},
   "outputs": [],
   "source": [
    "data = lire_alpha_digit(images, [0, 1, 2, 3, 4, 5, 6, 7, 8, 9])"
   ]
  },
  {
   "cell_type": "code",
   "execution_count": 61,
   "metadata": {},
   "outputs": [],
   "source": [
    "train_data = list(zip(data, labels_array[:39*2]))"
   ]
  },
  {
   "cell_type": "code",
   "execution_count": 62,
   "metadata": {},
   "outputs": [
    {
     "name": "stdout",
     "output_type": "stream",
     "text": [
      "MSE for epoch 0: 0.427968443094409\n",
      "MSE for epoch 1: 0.3500099245476203\n",
      "MSE for epoch 2: 0.31103086209004016\n",
      "MSE for epoch 3: 0.2827592951775687\n",
      "MSE for epoch 4: 0.2665078214831117\n",
      "MSE for epoch 5: 0.24677643377353561\n",
      "MSE for epoch 6: 0.23882224341193015\n",
      "MSE for epoch 7: 0.2279492659781437\n",
      "MSE for epoch 8: 0.21589754475384168\n",
      "MSE for epoch 9: 0.21328077935553574\n",
      "MSE for epoch 10: 0.20717455902052684\n",
      "MSE for epoch 11: 0.19955331877804092\n",
      "MSE for epoch 12: 0.19475683335243962\n",
      "MSE for epoch 13: 0.18708196102051242\n",
      "MSE for epoch 14: 0.18308912379387313\n",
      "MSE for epoch 15: 0.1776083703476986\n",
      "MSE for epoch 16: 0.16922318488047133\n",
      "MSE for epoch 17: 0.17095046479504802\n",
      "MSE for epoch 18: 0.16347890061108636\n",
      "MSE for epoch 19: 0.16245737007599953\n",
      "MSE for epoch 20: 0.1571304657735012\n",
      "MSE for epoch 21: 0.15301489740109156\n",
      "MSE for epoch 22: 0.15076434408300676\n",
      "MSE for epoch 23: 0.14571008492942011\n",
      "MSE for epoch 24: 0.1432254401894068\n",
      "MSE for epoch 25: 0.14562016513836193\n",
      "MSE for epoch 26: 0.13594686725401303\n",
      "MSE for epoch 27: 0.1361202169986519\n",
      "MSE for epoch 28: 0.13138822824750773\n",
      "MSE for epoch 29: 0.1312718328429836\n",
      "MSE for epoch 30: 0.1323557320753149\n",
      "MSE for epoch 31: 0.12835059183138556\n",
      "MSE for epoch 32: 0.12413678178126958\n",
      "MSE for epoch 33: 0.12172266501646917\n",
      "MSE for epoch 34: 0.12099433369157123\n",
      "MSE for epoch 35: 0.11890803506379086\n",
      "MSE for epoch 36: 0.11653499459595242\n",
      "MSE for epoch 37: 0.11356015209762316\n",
      "MSE for epoch 38: 0.11433232070518089\n",
      "MSE for epoch 39: 0.11210447314110258\n",
      "MSE for epoch 40: 0.11164120439202008\n",
      "MSE for epoch 41: 0.10710206478794365\n",
      "MSE for epoch 42: 0.10645329920865954\n",
      "MSE for epoch 43: 0.10742970434146602\n",
      "MSE for epoch 44: 0.1063634890249935\n",
      "MSE for epoch 45: 0.10254923827297198\n",
      "MSE for epoch 46: 0.10106052457274647\n",
      "MSE for epoch 47: 0.09942747094281298\n",
      "MSE for epoch 48: 0.09879317031542707\n",
      "MSE for epoch 49: 0.09869728165071193\n",
      "MSE for epoch 50: 0.09300544953680671\n",
      "MSE for epoch 51: 0.09253848760887598\n",
      "MSE for epoch 52: 0.0916527893182621\n",
      "MSE for epoch 53: 0.0904626439999416\n",
      "MSE for epoch 54: 0.09228546289064928\n",
      "MSE for epoch 55: 0.08880183803829225\n",
      "MSE for epoch 56: 0.08749410330080404\n",
      "MSE for epoch 57: 0.08807969332772768\n",
      "MSE for epoch 58: 0.08548992696969394\n",
      "MSE for epoch 59: 0.0887174965063546\n",
      "MSE for epoch 60: 0.08848366690467707\n",
      "MSE for epoch 61: 0.0844336101987456\n",
      "MSE for epoch 62: 0.0855475925134998\n",
      "MSE for epoch 63: 0.08306391291693611\n",
      "MSE for epoch 64: 0.08115890244052472\n",
      "MSE for epoch 65: 0.08186420490850109\n",
      "MSE for epoch 66: 0.07876023152004899\n",
      "MSE for epoch 67: 0.07721657904793476\n",
      "MSE for epoch 68: 0.07859194493376938\n",
      "MSE for epoch 69: 0.07929021691941916\n",
      "MSE for epoch 70: 0.07657050648584006\n",
      "MSE for epoch 71: 0.0769057413892319\n",
      "MSE for epoch 72: 0.07426490357406619\n",
      "MSE for epoch 73: 0.07320753547920371\n",
      "MSE for epoch 74: 0.07405895098590128\n",
      "MSE for epoch 75: 0.07289447837160017\n",
      "MSE for epoch 76: 0.07327698462092277\n",
      "MSE for epoch 77: 0.07087401686639304\n",
      "MSE for epoch 78: 0.07048868069843141\n",
      "MSE for epoch 79: 0.06778444799635859\n",
      "MSE for epoch 80: 0.06778516513053418\n",
      "MSE for epoch 81: 0.06868651100176046\n",
      "MSE for epoch 82: 0.06753117517321289\n",
      "MSE for epoch 83: 0.06728151460388483\n",
      "MSE for epoch 84: 0.06810043783514164\n",
      "MSE for epoch 85: 0.06742208712031991\n",
      "MSE for epoch 86: 0.06714793002849936\n",
      "MSE for epoch 87: 0.06380303790391603\n",
      "MSE for epoch 88: 0.06518309940308833\n",
      "MSE for epoch 89: 0.06475765544638634\n",
      "MSE for epoch 90: 0.06421292005157286\n",
      "MSE for epoch 91: 0.06412076186683897\n",
      "MSE for epoch 92: 0.06440515838585324\n",
      "MSE for epoch 93: 0.05946529708013607\n",
      "MSE for epoch 94: 0.06064535467719131\n",
      "MSE for epoch 95: 0.059565226262893844\n",
      "MSE for epoch 96: 0.061389336843655315\n",
      "MSE for epoch 97: 0.059506588562827485\n",
      "MSE for epoch 98: 0.06097157441066414\n",
      "MSE for epoch 99: 0.059691190078733546\n"
     ]
    }
   ],
   "source": [
    "rbm.train_model(train_data)"
   ]
  },
  {
   "cell_type": "code",
   "execution_count": 77,
   "metadata": {},
   "outputs": [
    {
     "data": {
      "text/plain": [
       "<matplotlib.image.AxesImage at 0x1fc7fb873a0>"
      ]
     },
     "execution_count": 77,
     "metadata": {},
     "output_type": "execute_result"
    },
    {
     "data": {
      "image/png": "[encoded data removed]",
      "text/plain": [
       "<Figure size 432x288 with 1 Axes>"
      ]
     },
     "metadata": {
      "needs_background": "light"
     },
     "output_type": "display_data"
    }
   ],
   "source": [
    "plt.imshow(data[39*0].reshape(20,16), cmap='Greys_r')"
   ]
  },
  {
   "cell_type": "code",
   "execution_count": 76,
   "metadata": {},
   "outputs": [
    {
     "data": {
      "text/plain": [
       "<matplotlib.image.AxesImage at 0x1fc7eb5f0d0>"
      ]
     },
     "execution_count": 76,
     "metadata": {},
     "output_type": "execute_result"
    },
    {
     "data": {
      "image/png": "[encoded data removed]",
      "text/plain": [
       "<Figure size 432x288 with 1 Axes>"
      ]
     },
     "metadata": {
      "needs_background": "light"
     },
     "output_type": "display_data"
    }
   ],
   "source": [
    "plt.imshow(rbm.reconstruct(data[39*0].T)[0].reshape(20,16), cmap='Greys_r')"
   ]
  }
 ],
 "metadata": {
  "interpreter": {
   "hash": "7e2f77450d574f743a6d9d7e6faf87aa64c8f9c3d83f2013a355475f93227b48"
  },
  "kernelspec": {
   "display_name": "Python 3.8.8 ('data')",
   "language": "python",
   "name": "python3"
  },
  "language_info": {
   "codemirror_mode": {
    "name": "ipython",
    "version": 3
   },
   "file_extension": ".py",
   "mimetype": "text/x-python",
   "name": "python",
   "nbconvert_exporter": "python",
   "pygments_lexer": "ipython3",
   "version": "3.8.8"
  },
  "orig_nbformat": 4
 },
 "nbformat": 4,
 "nbformat_minor": 2
}
