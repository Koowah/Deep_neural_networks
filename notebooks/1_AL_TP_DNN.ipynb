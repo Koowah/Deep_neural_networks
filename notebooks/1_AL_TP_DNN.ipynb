{
 "cells": [
  {
   "cell_type": "markdown",
   "metadata": {},
   "source": [
    "# First, let's load the MNIST dataset"
   ]
  },
  {
   "cell_type": "code",
   "execution_count": 1,
   "metadata": {},
   "outputs": [],
   "source": [
    "import numpy as np\n",
    "import matplotlib.pyplot as plt"
   ]
  },
  {
   "cell_type": "code",
   "execution_count": 2,
   "metadata": {},
   "outputs": [],
   "source": [
    "import requests # for alpha-binary digits\n",
    "\n",
    "import torch\n",
    "from torchvision import datasets, transforms # for MNIST"
   ]
  },
  {
   "cell_type": "markdown",
   "metadata": {},
   "source": [
    "### Downloading, preprocessing & loading MNIST"
   ]
  },
  {
   "cell_type": "code",
   "execution_count": 3,
   "metadata": {},
   "outputs": [],
   "source": [
    "# Define a transform to normalize the data\n",
    "transform = transforms.Compose([transforms.ToTensor(),\n",
    "                                transforms.Normalize((0.5,), (0.5,))])\n",
    "# Download and load the training data\n",
    "trainset = datasets.MNIST('../data/processed', download=False, train=True, transform=transform)\n",
    "trainloader = torch.utils.data.DataLoader(trainset, batch_size=64, shuffle=True)\n",
    "# Download and load the test data\n",
    "testset = datasets.MNIST('../data/processed', download=False, train=False, transform=transform)\n",
    "testloader = torch.utils.data.DataLoader(testset, batch_size=64, shuffle=True)\n"
   ]
  },
  {
   "cell_type": "code",
   "execution_count": 4,
   "metadata": {},
   "outputs": [],
   "source": [
    "dataiter = iter(trainloader)"
   ]
  },
  {
   "cell_type": "code",
   "execution_count": 5,
   "metadata": {},
   "outputs": [],
   "source": [
    "images, labels = dataiter.next()"
   ]
  },
  {
   "cell_type": "code",
   "execution_count": 6,
   "metadata": {},
   "outputs": [
    {
     "name": "stdout",
     "output_type": "stream",
     "text": [
      "torch.Size([64, 1, 28, 28]) torch.Size([64])\n"
     ]
    }
   ],
   "source": [
    "print(images.shape, labels.shape) #loading 64 images of shape 28x28"
   ]
  },
  {
   "cell_type": "code",
   "execution_count": 7,
   "metadata": {},
   "outputs": [
    {
     "data": {
      "text/plain": [
       "<matplotlib.image.AxesImage at 0x192f54efe20>"
      ]
     },
     "execution_count": 7,
     "metadata": {},
     "output_type": "execute_result"
    },
    {
     "data": {
      "image/png": "[encoded data removed]",
      "text/plain": [
       "<Figure size 432x288 with 1 Axes>"
      ]
     },
     "metadata": {
      "needs_background": "light"
     },
     "output_type": "display_data"
    }
   ],
   "source": [
    "plt.imshow(images[0].squeeze(), cmap='Greys_r')"
   ]
  },
  {
   "cell_type": "markdown",
   "metadata": {},
   "source": [
    "---"
   ]
  },
  {
   "cell_type": "markdown",
   "metadata": {},
   "source": [
    "### Downloading AlphaBinary"
   ]
  },
  {
   "cell_type": "code",
   "execution_count": 8,
   "metadata": {},
   "outputs": [],
   "source": [
    "# alpha_binary_mat = requests.get('https://cs.nyu.edu/~roweis/data/binaryalphadigs.mat')"
   ]
  },
  {
   "cell_type": "code",
   "execution_count": 9,
   "metadata": {},
   "outputs": [],
   "source": [
    "# with open('../data/raw/alpha_binary.mat', 'wb') as f:\n",
    "#     f.write(alpha_binary_mat.content)"
   ]
  },
  {
   "cell_type": "markdown",
   "metadata": {},
   "source": [
    "### Preprocessing AlphaBinary"
   ]
  },
  {
   "cell_type": "code",
   "execution_count": 10,
   "metadata": {},
   "outputs": [],
   "source": [
    "import scipy.io"
   ]
  },
  {
   "cell_type": "code",
   "execution_count": 11,
   "metadata": {},
   "outputs": [],
   "source": [
    "file_mat = '../data/raw/alpha_binary.mat'\n",
    "mat = scipy.io.loadmat(file_mat)"
   ]
  },
  {
   "cell_type": "code",
   "execution_count": 12,
   "metadata": {},
   "outputs": [
    {
     "data": {
      "text/plain": [
       "dict"
      ]
     },
     "execution_count": 12,
     "metadata": {},
     "output_type": "execute_result"
    }
   ],
   "source": [
    "type(mat)"
   ]
  },
  {
   "cell_type": "code",
   "execution_count": 13,
   "metadata": {},
   "outputs": [
    {
     "data": {
      "text/plain": [
       "dict_keys(['__header__', '__version__', '__globals__', 'dat', 'numclass', 'classlabels', 'classcounts'])"
      ]
     },
     "execution_count": 13,
     "metadata": {},
     "output_type": "execute_result"
    }
   ],
   "source": [
    "mat.keys()"
   ]
  },
  {
   "cell_type": "code",
   "execution_count": 14,
   "metadata": {},
   "outputs": [
    {
     "data": {
      "text/plain": [
       "(36, 39)"
      ]
     },
     "execution_count": 14,
     "metadata": {},
     "output_type": "execute_result"
    }
   ],
   "source": [
    "mat['dat'].shape # 39 samples for each of the 36 classes - 10 digits & 26 letters"
   ]
  },
  {
   "cell_type": "code",
   "execution_count": 15,
   "metadata": {},
   "outputs": [
    {
     "data": {
      "text/plain": [
       "array([array(['0'], dtype='<U1'), array(['1'], dtype='<U1'),\n",
       "       array(['2'], dtype='<U1'), array(['3'], dtype='<U1'),\n",
       "       array(['4'], dtype='<U1'), array(['5'], dtype='<U1'),\n",
       "       array(['6'], dtype='<U1'), array(['7'], dtype='<U1'),\n",
       "       array(['8'], dtype='<U1'), array(['9'], dtype='<U1'),\n",
       "       array(['A'], dtype='<U1'), array(['B'], dtype='<U1'),\n",
       "       array(['C'], dtype='<U1'), array(['D'], dtype='<U1'),\n",
       "       array(['E'], dtype='<U1'), array(['F'], dtype='<U1'),\n",
       "       array(['G'], dtype='<U1'), array(['H'], dtype='<U1'),\n",
       "       array(['I'], dtype='<U1'), array(['J'], dtype='<U1'),\n",
       "       array(['K'], dtype='<U1'), array(['L'], dtype='<U1'),\n",
       "       array(['M'], dtype='<U1'), array(['N'], dtype='<U1'),\n",
       "       array(['O'], dtype='<U1'), array(['P'], dtype='<U1'),\n",
       "       array(['Q'], dtype='<U1'), array(['R'], dtype='<U1'),\n",
       "       array(['S'], dtype='<U1'), array(['T'], dtype='<U1'),\n",
       "       array(['U'], dtype='<U1'), array(['V'], dtype='<U1'),\n",
       "       array(['W'], dtype='<U1'), array(['X'], dtype='<U1'),\n",
       "       array(['Y'], dtype='<U1'), array(['Z'], dtype='<U1')], dtype=object)"
      ]
     },
     "execution_count": 15,
     "metadata": {},
     "output_type": "execute_result"
    }
   ],
   "source": [
    "mat['classlabels'][0]"
   ]
  },
  {
   "cell_type": "code",
   "execution_count": 16,
   "metadata": {},
   "outputs": [],
   "source": [
    "labels = np.array([label.item() for label in mat['classlabels'][0]])"
   ]
  },
  {
   "cell_type": "code",
   "execution_count": 17,
   "metadata": {},
   "outputs": [
    {
     "data": {
      "text/plain": [
       "array(['0', '1', '2', '3', '4', '5', '6', '7', '8', '9', 'A', 'B', 'C',\n",
       "       'D', 'E', 'F', 'G', 'H', 'I', 'J', 'K', 'L', 'M', 'N', 'O', 'P',\n",
       "       'Q', 'R', 'S', 'T', 'U', 'V', 'W', 'X', 'Y', 'Z'], dtype='<U1')"
      ]
     },
     "execution_count": 17,
     "metadata": {},
     "output_type": "execute_result"
    }
   ],
   "source": [
    "labels"
   ]
  },
  {
   "cell_type": "markdown",
   "metadata": {},
   "source": [
    "---"
   ]
  },
  {
   "cell_type": "code",
   "execution_count": 18,
   "metadata": {},
   "outputs": [],
   "source": [
    "images = mat['dat']"
   ]
  },
  {
   "cell_type": "code",
   "execution_count": 19,
   "metadata": {},
   "outputs": [
    {
     "data": {
      "text/plain": [
       "<matplotlib.image.AxesImage at 0x192f58ee370>"
      ]
     },
     "execution_count": 19,
     "metadata": {},
     "output_type": "execute_result"
    },
    {
     "data": {
      "image/png": "[encoded data removed]",
      "text/plain": [
       "<Figure size 432x288 with 1 Axes>"
      ]
     },
     "metadata": {
      "needs_background": "light"
     },
     "output_type": "display_data"
    }
   ],
   "source": [
    "plt.imshow(images[3][0], cmap='Greys_r')"
   ]
  },
  {
   "cell_type": "code",
   "execution_count": 20,
   "metadata": {},
   "outputs": [
    {
     "data": {
      "text/plain": [
       "<matplotlib.image.AxesImage at 0x192f59540d0>"
      ]
     },
     "execution_count": 20,
     "metadata": {},
     "output_type": "execute_result"
    },
    {
     "data": {
      "image/png": "[encoded data removed]",
      "text/plain": [
       "<Figure size 432x288 with 1 Axes>"
      ]
     },
     "metadata": {
      "needs_background": "light"
     },
     "output_type": "display_data"
    }
   ],
   "source": [
    "plt.imshow(images[10][0], cmap='Greys_r')"
   ]
  },
  {
   "cell_type": "code",
   "execution_count": 21,
   "metadata": {},
   "outputs": [],
   "source": [
    "labels_array = []"
   ]
  },
  {
   "cell_type": "code",
   "execution_count": 22,
   "metadata": {},
   "outputs": [],
   "source": [
    "for index, classe in enumerate(images):\n",
    "    for image in classe:\n",
    "        labels_array.append(labels[index])\n",
    "\n",
    "labels_array = np.array(labels_array)"
   ]
  },
  {
   "cell_type": "code",
   "execution_count": 23,
   "metadata": {},
   "outputs": [
    {
     "data": {
      "text/plain": [
       "True"
      ]
     },
     "execution_count": 23,
     "metadata": {},
     "output_type": "execute_result"
    }
   ],
   "source": [
    "labels_array.shape[0] == 36*39"
   ]
  },
  {
   "cell_type": "code",
   "execution_count": 24,
   "metadata": {},
   "outputs": [
    {
     "data": {
      "text/plain": [
       "('0', '0', '1')"
      ]
     },
     "execution_count": 24,
     "metadata": {},
     "output_type": "execute_result"
    }
   ],
   "source": [
    "labels_array[0], labels_array[38], labels_array[39]"
   ]
  },
  {
   "cell_type": "markdown",
   "metadata": {},
   "source": [
    "---"
   ]
  },
  {
   "cell_type": "code",
   "execution_count": 85,
   "metadata": {},
   "outputs": [
    {
     "data": {
      "text/plain": [
       "(320,)"
      ]
     },
     "execution_count": 85,
     "metadata": {},
     "output_type": "execute_result"
    }
   ],
   "source": [
    "images[0][0].flatten().shape"
   ]
  },
  {
   "cell_type": "code",
   "execution_count": 32,
   "metadata": {},
   "outputs": [
    {
     "data": {
      "text/plain": [
       "(20, 16)"
      ]
     },
     "execution_count": 32,
     "metadata": {},
     "output_type": "execute_result"
    }
   ],
   "source": [
    "images[10][0].shape"
   ]
  },
  {
   "cell_type": "code",
   "execution_count": 275,
   "metadata": {},
   "outputs": [
    {
     "data": {
      "text/plain": [
       "(20, 16)"
      ]
     },
     "execution_count": 275,
     "metadata": {},
     "output_type": "execute_result"
    }
   ],
   "source": [
    "images[0, 1].shape"
   ]
  },
  {
   "cell_type": "code",
   "execution_count": 303,
   "metadata": {},
   "outputs": [],
   "source": [
    "def lire_alpha_digit(all_images, classes:list):\n",
    "    data = []\n",
    "    for cls in classes:\n",
    "        for image in all_images[cls]:\n",
    "            data.append(image.flatten().reshape(-1,1))\n",
    "    \n",
    "    return np.array(data)"
   ]
  },
  {
   "cell_type": "markdown",
   "metadata": {},
   "source": [
    "All our data has been loaded and is ready to be used in a python data environment !"
   ]
  },
  {
   "cell_type": "markdown",
   "metadata": {},
   "source": [
    "---"
   ]
  },
  {
   "cell_type": "markdown",
   "metadata": {},
   "source": [
    "# Creating NN classes & methods"
   ]
  },
  {
   "cell_type": "code",
   "execution_count": 25,
   "metadata": {},
   "outputs": [],
   "source": [
    "def sigmoid(x):\n",
    "    return 1 / (1 + np.exp(-x))"
   ]
  },
  {
   "cell_type": "code",
   "execution_count": null,
   "metadata": {},
   "outputs": [],
   "source": [
    "def logistic(x,w,b):\n",
    "   xw = np.dot(x, w)\n",
    "   replicated_b = np.tile(b, (x.shape[0], 1))\n",
    "\n",
    "   return 1.0 / (1 + np.exp(- xw - b))"
   ]
  },
  {
   "cell_type": "code",
   "execution_count": 340,
   "metadata": {},
   "outputs": [],
   "source": [
    "class RBM:\n",
    "    \n",
    "    def __init__(self, n_v, n_h, W=None, b=None, c=None, k=1):\n",
    "        assert n_v != 0 and n_h != 0\n",
    "        self.n_v = n_v\n",
    "        self.n_h = n_h\n",
    "        shape = (n_h, n_v)\n",
    "        \n",
    "        self.W = W if W is not None else np.random.uniform(-1, 1, size=shape)\n",
    "        self.b = b if b is not None else np.zeros(n_v)\n",
    "        self.c = c if c is not None else np.zeros(n_h)\n",
    "\n",
    "        assert self.W.shape==shape and n_v == len(self.b) and n_h == len(self.c)\n",
    "        \n",
    "        self.k = k\n",
    "        return\n",
    "        \n",
    "    def forward(self, V):\n",
    "        n_sample, n_v = V.shape\n",
    "        \n",
    "        hsignal = np.dot(V, self.W.T) + self.c\n",
    "        assert hsignal.shape == (n_sample, self.n_h)\n",
    "        Hp = sigmoid(hsignal)\n",
    "        \n",
    "        #s = np.random.uniform(0, 1, size=hsignal.shape)\n",
    "        #Hs = (s < Hp) * 1  # same as:\n",
    "        Hs = np.random.binomial(1, Hp, size=Hp.shape)\n",
    "        return Hp, Hs\n",
    "    \n",
    "    def backward(self, H):\n",
    "        n_sample, n_h = H.shape\n",
    "        \n",
    "        vsignal = np.dot(H, self.W) + self.b\n",
    "        assert vsignal.shape == (n_sample, self.n_v)\n",
    "        #print(vsignal)\n",
    "        Vp = sigmoid(vsignal)\n",
    "        \n",
    "        s = np.random.uniform(0, 1, size=vsignal.shape)\n",
    "        Vs = (s < Vp) * 1\n",
    "        return Vp, Vs\n",
    "\n",
    "    def gibbs(self, V):  #return (probability, samples) of visible units\n",
    "        Vs = V\n",
    "        for i in range(self.k):\n",
    "            Hp, Hs = self.forward(Vs)\n",
    "            Vp, Vs = self.backward(Hs)\n",
    "            \n",
    "        return Hp, Hs, Vp, Vs\n",
    "    \n",
    "    def contrastive_divergence(self, V, learning=0.01):\n",
    "        #set_trace()\n",
    "        n_sample, n_v = V.shape\n",
    "        \n",
    "        Vs = V\n",
    "        Hp, Hs, Vp_, Vs_ = self.gibbs(Vs)   # underscore _ refers to tilde for negative sample\n",
    "        Hp_, Hs_ = self.forward(Vs_)\n",
    "\n",
    "        Vs1 = np.mean(Vs, axis=0) \n",
    "        Vs2 = np.mean(Vs_, axis=0) \n",
    "        Hp1 = np.mean(Hp, axis=0)\n",
    "        Hp2 = np.mean(Hp_, axis=0)\n",
    "        Hs1 = np.mean(Hs, axis=0)\n",
    "        Hs2 = np.mean(Hs_, axis=0)\n",
    "        \n",
    "        # note, there are variances in how to compute the gradients.\n",
    "        # Hugo suggests:     h(v1)*v1 - h(v2)*v2\n",
    "        # Bengio suggests:   h1*v1 - h(v2)*v2\n",
    "        # My derivation:     h1(v1)*v1 - h2*v2 \n",
    "        \n",
    "        Eh_b = Vs1; Evh_b = Vs2      # Evh_b refers to the Expectation (over v and h) of -logP(v) gradient wrt b\n",
    "        \n",
    "        #Eh_c = Hs1; Evh_c = Hp2  # bengio\n",
    "        Eh_c = Hp1; Evh_c = Hp2  # hugo\n",
    "        #Eh_c = Hp1; Evh_c = Hs2  # Mine\n",
    "\n",
    "        g_b = Evh_b - Eh_b  # gradient of -logP(v) wrt b\n",
    "        g_c = Evh_c - Eh_c\n",
    "\n",
    "        Eh_W = np.outer(Eh_c, Eh_b) \n",
    "        Evh_W = np.outer(Evh_c, Evh_b)\n",
    "        g_W = Evh_W - Eh_W\n",
    "    \n",
    "        self.W -= g_W * learning\n",
    "        self.b -= g_b * learning\n",
    "        self.c -= g_c * learning        \n",
    "        return\n",
    "    \n",
    "    def reconstruct(self, V):\n",
    "        Hp, Hs = self.forward(V)\n",
    "        Vp, Vs = self.backward(Hp)\n",
    "        return Vp, Vs\n",
    "    \n",
    "    def train_model(self, train_data, n_epoch=100, batch_size=10, learning=0.01):\n",
    "        for _ in range(n_epoch):\n",
    "            MSE = []\n",
    "            for x, y in train_data:\n",
    "                self.contrastive_divergence(x.T, learning)\n",
    "                reconstructed = self.reconstruct(x.T)\n",
    "                MSE.append(((x.T - reconstructed)**2).sum()/len(x))\n",
    "            print(f'MSE for epoch {_}: {np.array(MSE).mean()}')                      \n",
    "        return"
   ]
  },
  {
   "cell_type": "markdown",
   "metadata": {},
   "source": [
    "---"
   ]
  },
  {
   "cell_type": "code",
   "execution_count": 350,
   "metadata": {},
   "outputs": [],
   "source": [
    "rbm = RBM(20*16, 20*8)"
   ]
  },
  {
   "cell_type": "code",
   "execution_count": 351,
   "metadata": {},
   "outputs": [],
   "source": [
    "data = lire_alpha_digit(images, [0, 1, 2, 3, 4])"
   ]
  },
  {
   "cell_type": "code",
   "execution_count": 352,
   "metadata": {},
   "outputs": [],
   "source": [
    "train_data = list(zip(data, labels_array[:39*2]))"
   ]
  },
  {
   "cell_type": "code",
   "execution_count": 353,
   "metadata": {},
   "outputs": [
    {
     "name": "stdout",
     "output_type": "stream",
     "text": [
      "MSE for epoch 0: 0.44662384455724646\n",
      "MSE for epoch 1: 0.3542033393600201\n",
      "MSE for epoch 2: 0.3129665066843187\n",
      "MSE for epoch 3: 0.2831644081155895\n",
      "MSE for epoch 4: 0.2646969455967021\n",
      "MSE for epoch 5: 0.2520492314481804\n",
      "MSE for epoch 6: 0.24001457506939447\n",
      "MSE for epoch 7: 0.23133357105198285\n",
      "MSE for epoch 8: 0.21726235546704023\n",
      "MSE for epoch 9: 0.21214236359662828\n",
      "MSE for epoch 10: 0.20647998797873007\n",
      "MSE for epoch 11: 0.1990961435295243\n",
      "MSE for epoch 12: 0.1954266122486074\n",
      "MSE for epoch 13: 0.18729113632742905\n",
      "MSE for epoch 14: 0.18561402592325096\n",
      "MSE for epoch 15: 0.18170017062595667\n",
      "MSE for epoch 16: 0.17783347227114224\n",
      "MSE for epoch 17: 0.17280124814473588\n",
      "MSE for epoch 18: 0.16602744477270534\n",
      "MSE for epoch 19: 0.16158463115765662\n",
      "MSE for epoch 20: 0.1588654730649958\n",
      "MSE for epoch 21: 0.15853451088813886\n",
      "MSE for epoch 22: 0.15302078685674056\n",
      "MSE for epoch 23: 0.15151174470605833\n",
      "MSE for epoch 24: 0.15007018164731237\n",
      "MSE for epoch 25: 0.1469768603009732\n",
      "MSE for epoch 26: 0.14153459549528008\n",
      "MSE for epoch 27: 0.14032717279121307\n",
      "MSE for epoch 28: 0.13999337564668665\n",
      "MSE for epoch 29: 0.1330743372525957\n",
      "MSE for epoch 30: 0.1335321672213873\n",
      "MSE for epoch 31: 0.13080349565151653\n",
      "MSE for epoch 32: 0.12816364616146253\n",
      "MSE for epoch 33: 0.12875433785066612\n",
      "MSE for epoch 34: 0.1263035785558893\n",
      "MSE for epoch 35: 0.12287129258334768\n",
      "MSE for epoch 36: 0.12412277534034462\n",
      "MSE for epoch 37: 0.11941201785146315\n",
      "MSE for epoch 38: 0.11633826645426126\n",
      "MSE for epoch 39: 0.1212721790116278\n",
      "MSE for epoch 40: 0.11537665368653986\n",
      "MSE for epoch 41: 0.11650103055885928\n",
      "MSE for epoch 42: 0.11606846684049917\n",
      "MSE for epoch 43: 0.11102644287219955\n",
      "MSE for epoch 44: 0.10955054693457836\n",
      "MSE for epoch 45: 0.10984109667131704\n",
      "MSE for epoch 46: 0.10634292091738345\n",
      "MSE for epoch 47: 0.10492167215104295\n",
      "MSE for epoch 48: 0.10466858500831219\n",
      "MSE for epoch 49: 0.10002341680069583\n",
      "MSE for epoch 50: 0.10009937840430289\n",
      "MSE for epoch 51: 0.1029662921833363\n",
      "MSE for epoch 52: 0.10150221908819608\n",
      "MSE for epoch 53: 0.09923301363034591\n",
      "MSE for epoch 54: 0.09698090176592526\n",
      "MSE for epoch 55: 0.09413493021483643\n",
      "MSE for epoch 56: 0.09553491508943597\n",
      "MSE for epoch 57: 0.09740512752612843\n",
      "MSE for epoch 58: 0.09609361477911052\n",
      "MSE for epoch 59: 0.09041443874511229\n",
      "MSE for epoch 60: 0.09393338813144782\n",
      "MSE for epoch 61: 0.0905615821899349\n",
      "MSE for epoch 62: 0.09023822512111296\n",
      "MSE for epoch 63: 0.08933828160872456\n",
      "MSE for epoch 64: 0.08965586552503832\n",
      "MSE for epoch 65: 0.08611532129766915\n",
      "MSE for epoch 66: 0.08418639137755746\n",
      "MSE for epoch 67: 0.08600022113376088\n",
      "MSE for epoch 68: 0.08573834512438551\n",
      "MSE for epoch 69: 0.08363833973540317\n",
      "MSE for epoch 70: 0.08177542892758326\n",
      "MSE for epoch 71: 0.08475878448474647\n",
      "MSE for epoch 72: 0.08096354370610158\n",
      "MSE for epoch 73: 0.08196437107609633\n",
      "MSE for epoch 74: 0.08139696608281649\n",
      "MSE for epoch 75: 0.07995994279348821\n",
      "MSE for epoch 76: 0.08133863801908021\n",
      "MSE for epoch 77: 0.07741876052786004\n",
      "MSE for epoch 78: 0.07767324862987088\n",
      "MSE for epoch 79: 0.07514975036154195\n",
      "MSE for epoch 80: 0.07419526490397337\n",
      "MSE for epoch 81: 0.07782324869875072\n",
      "MSE for epoch 82: 0.0720515103042129\n",
      "MSE for epoch 83: 0.07513305749982901\n",
      "MSE for epoch 84: 0.07204066021990739\n",
      "MSE for epoch 85: 0.07280296341689182\n",
      "MSE for epoch 86: 0.07117967297519125\n",
      "MSE for epoch 87: 0.06926695325190632\n",
      "MSE for epoch 88: 0.07104217575402025\n",
      "MSE for epoch 89: 0.07050453615123263\n",
      "MSE for epoch 90: 0.06677679606080268\n",
      "MSE for epoch 91: 0.06810090197768359\n",
      "MSE for epoch 92: 0.06810969499300454\n",
      "MSE for epoch 93: 0.07001444627539961\n",
      "MSE for epoch 94: 0.06888111623090816\n",
      "MSE for epoch 95: 0.06936766895815281\n",
      "MSE for epoch 96: 0.06863806614207205\n",
      "MSE for epoch 97: 0.06839425818815392\n",
      "MSE for epoch 98: 0.06740826226625923\n",
      "MSE for epoch 99: 0.06357097433074829\n"
     ]
    }
   ],
   "source": [
    "rbm.train_model(train_data)"
   ]
  },
  {
   "cell_type": "code",
   "execution_count": 354,
   "metadata": {},
   "outputs": [],
   "source": [
    "test = rbm.forward(data[5].T)"
   ]
  },
  {
   "cell_type": "code",
   "execution_count": 355,
   "metadata": {},
   "outputs": [
    {
     "data": {
      "text/plain": [
       "(1, 160)"
      ]
     },
     "execution_count": 355,
     "metadata": {},
     "output_type": "execute_result"
    }
   ],
   "source": [
    "test[0].shape"
   ]
  },
  {
   "cell_type": "code",
   "execution_count": 356,
   "metadata": {},
   "outputs": [],
   "source": [
    "b_test = rbm.backward(test[0])"
   ]
  },
  {
   "cell_type": "code",
   "execution_count": 357,
   "metadata": {},
   "outputs": [
    {
     "data": {
      "text/plain": [
       "<matplotlib.image.AxesImage at 0x192f6fa0bb0>"
      ]
     },
     "execution_count": 357,
     "metadata": {},
     "output_type": "execute_result"
    },
    {
     "data": {
      "image/png": "[encoded data removed]",
      "text/plain": [
       "<Figure size 432x288 with 1 Axes>"
      ]
     },
     "metadata": {
      "needs_background": "light"
     },
     "output_type": "display_data"
    }
   ],
   "source": [
    "plt.imshow(data[5].reshape(20,16), cmap='Greys_r')"
   ]
  },
  {
   "cell_type": "code",
   "execution_count": 358,
   "metadata": {},
   "outputs": [
    {
     "data": {
      "text/plain": [
       "<matplotlib.image.AxesImage at 0x192f7008190>"
      ]
     },
     "execution_count": 358,
     "metadata": {},
     "output_type": "execute_result"
    },
    {
     "data": {
      "image/png": "[encoded data removed]",
      "text/plain": [
       "<Figure size 432x288 with 1 Axes>"
      ]
     },
     "metadata": {
      "needs_background": "light"
     },
     "output_type": "display_data"
    }
   ],
   "source": [
    "plt.imshow(b_test[0].reshape(20,16), cmap='Greys_r')"
   ]
  },
  {
   "cell_type": "code",
   "execution_count": 359,
   "metadata": {},
   "outputs": [
    {
     "data": {
      "text/plain": [
       "array([[0, 0, 0, 0, 0, 0, 1, 1, 1, 1, 1, 1, 0, 0, 0, 0, 0, 0, 0, 0, 0, 1,\n",
       "        1, 1, 1, 1, 1, 1, 0, 0, 0, 0, 0, 0, 0, 0, 1, 1, 1, 1, 1, 1, 1, 1,\n",
       "        1, 0, 0, 0, 0, 0, 0, 1, 1, 1, 1, 1, 1, 1, 1, 1, 1, 0, 0, 0, 0, 0,\n",
       "        1, 1, 1, 1, 1, 1, 1, 1, 1, 1, 1, 1, 0, 0, 0, 1, 1, 1, 1, 1, 0, 0,\n",
       "        0, 0, 1, 1, 1, 1, 1, 0, 0, 1, 1, 1, 1, 0, 0, 0, 0, 0, 0, 1, 1, 1,\n",
       "        1, 1, 0, 1, 1, 1, 0, 0, 0, 0, 0, 0, 0, 0, 1, 1, 1, 1, 1, 1, 1, 1,\n",
       "        0, 0, 0, 0, 0, 0, 0, 0, 0, 1, 1, 1, 1, 1, 1, 0, 0, 0, 0, 0, 0, 0,\n",
       "        0, 0, 0, 1, 1, 1, 1, 1, 1, 0, 0, 0, 0, 0, 0, 0, 0, 0, 0, 1, 1, 1,\n",
       "        1, 1, 1, 0, 0, 0, 0, 0, 0, 0, 0, 0, 0, 1, 1, 1, 1, 1, 0, 0, 0, 0,\n",
       "        0, 0, 0, 0, 0, 0, 0, 1, 1, 1, 1, 1, 1, 0, 0, 0, 0, 0, 0, 0, 0, 0,\n",
       "        0, 1, 1, 1, 1, 1, 1, 1, 0, 0, 0, 0, 0, 0, 0, 0, 0, 1, 1, 1, 0, 1,\n",
       "        1, 1, 1, 0, 0, 0, 0, 0, 0, 0, 0, 1, 1, 1, 0, 1, 1, 1, 1, 1, 0, 0,\n",
       "        0, 0, 0, 0, 0, 1, 1, 1, 0, 1, 1, 1, 1, 1, 1, 1, 1, 1, 0, 0, 1, 1,\n",
       "        1, 1, 0, 0, 1, 1, 1, 1, 1, 1, 1, 1, 1, 1, 1, 1, 1, 1, 0, 0, 0, 0,\n",
       "        0, 1, 1, 1, 1, 1, 1, 1, 1, 1, 1, 0]], dtype=uint8)"
      ]
     },
     "execution_count": 359,
     "metadata": {},
     "output_type": "execute_result"
    }
   ],
   "source": [
    "data[5].T"
   ]
  },
  {
   "cell_type": "code",
   "execution_count": 360,
   "metadata": {},
   "outputs": [
    {
     "data": {
      "text/plain": [
       "array([[3.49158222e-05, 6.83412362e-05, 1.60462082e-04, 4.63867748e-03,\n",
       "        1.73163706e-02, 1.04666604e-01, 9.72783825e-01, 9.88887336e-01,\n",
       "        7.08511738e-01, 7.87650204e-01, 4.66209723e-01, 1.54358653e-01,\n",
       "        7.08282852e-05, 7.21072941e-04, 9.04389483e-04, 3.03732013e-03,\n",
       "        1.08019933e-04, 5.28142539e-05, 1.56733621e-02, 2.47474783e-02,\n",
       "        7.10257229e-01, 9.99884587e-01, 9.99999987e-01, 9.99995128e-01,\n",
       "        9.42802639e-01, 9.92128067e-01, 9.59387725e-01, 8.42707692e-01,\n",
       "        3.47845790e-02, 4.48020891e-02, 7.20941767e-03, 1.42138686e-03,\n",
       "        1.50529308e-05, 2.46151281e-04, 2.60264230e-02, 3.96481250e-01,\n",
       "        9.99913884e-01, 9.99987728e-01, 9.99813406e-01, 9.99610422e-01,\n",
       "        9.10305647e-01, 9.48817828e-01, 9.97145858e-01, 9.63849120e-01,\n",
       "        8.94200707e-01, 2.45081640e-02, 1.12727038e-02, 7.41807689e-04,\n",
       "        9.15102892e-04, 1.63354564e-02, 2.83938765e-01, 9.38618372e-01,\n",
       "        9.92413542e-01, 9.99095208e-01, 9.03988233e-01, 9.97464276e-01,\n",
       "        8.99598875e-01, 9.97666287e-01, 9.99670282e-01, 9.95772963e-01,\n",
       "        9.89462141e-01, 1.55759053e-01, 1.00616316e-01, 1.24924839e-02,\n",
       "        6.04571172e-04, 7.02068471e-02, 9.99328915e-01, 9.99985408e-01,\n",
       "        9.93190651e-01, 9.79202921e-01, 9.66983545e-01, 8.70325414e-01,\n",
       "        7.43298192e-01, 7.88929666e-01, 9.94777434e-01, 9.90840359e-01,\n",
       "        9.92491877e-01, 9.73918781e-01, 2.08334524e-01, 1.15506866e-02,\n",
       "        2.60703141e-03, 8.98944402e-01, 9.99206543e-01, 9.96456355e-01,\n",
       "        9.68296876e-01, 6.13783002e-01, 1.01403341e-01, 1.70251212e-02,\n",
       "        1.85282024e-02, 2.58471621e-01, 8.39878371e-01, 9.61313682e-01,\n",
       "        9.73589333e-01, 9.87376191e-01, 9.81199782e-01, 2.08781940e-01,\n",
       "        4.49396712e-02, 9.99761672e-01, 9.92352243e-01, 9.53717906e-01,\n",
       "        9.12910952e-01, 5.53165646e-02, 1.52275529e-03, 6.65230521e-02,\n",
       "        7.15530186e-03, 2.15425508e-02, 1.08273964e-01, 8.98239700e-01,\n",
       "        9.81398636e-01, 9.99854114e-01, 9.68283604e-01, 9.50272473e-01,\n",
       "        1.75254963e-02, 9.99994086e-01, 9.93816599e-01, 8.87248882e-01,\n",
       "        4.83350415e-03, 2.27387569e-02, 1.05727368e-03, 8.59289372e-04,\n",
       "        4.57538226e-04, 2.27448142e-04, 2.34712729e-04, 1.57303666e-01,\n",
       "        7.46510276e-01, 9.99954561e-01, 9.99723592e-01, 9.20684248e-01,\n",
       "        9.10174477e-01, 9.99365042e-01, 9.86870702e-01, 7.10575831e-01,\n",
       "        6.04416425e-04, 1.48827560e-04, 1.55019097e-04, 3.41282395e-04,\n",
       "        1.06385199e-04, 5.80184652e-05, 3.49993593e-04, 1.85781965e-02,\n",
       "        3.75255298e-01, 9.98823474e-01, 9.99768213e-01, 9.98729186e-01,\n",
       "        9.86654574e-01, 9.98302972e-01, 9.53330631e-01, 3.44089980e-02,\n",
       "        4.11818852e-05, 2.56155888e-04, 3.71821151e-04, 3.02236169e-04,\n",
       "        6.91249312e-04, 3.25618391e-05, 1.98376151e-05, 2.75202029e-02,\n",
       "        3.33493877e-02, 9.49859664e-01, 9.97131767e-01, 9.97471912e-01,\n",
       "        9.15555985e-01, 9.97684963e-01, 7.18216027e-01, 7.40855761e-03,\n",
       "        7.25645345e-04, 2.48523126e-05, 4.59539241e-06, 1.20969370e-04,\n",
       "        6.72186536e-06, 2.30568065e-05, 2.81178754e-05, 2.64269750e-03,\n",
       "        5.74124885e-03, 7.60659581e-01, 9.99660216e-01, 9.99779962e-01,\n",
       "        9.45276357e-01, 9.88014768e-01, 8.86985015e-01, 3.63389202e-04,\n",
       "        3.94569611e-03, 4.43431859e-06, 1.31652426e-05, 6.71638691e-05,\n",
       "        2.11939418e-04, 1.95923254e-05, 3.88502286e-04, 1.25171096e-04,\n",
       "        1.09452279e-03, 4.03416453e-01, 8.26260967e-01, 9.99957741e-01,\n",
       "        9.18391745e-01, 9.99801603e-01, 1.20652785e-01, 7.57043531e-03,\n",
       "        2.47565821e-06, 2.55919660e-04, 2.87498819e-04, 6.34266304e-05,\n",
       "        2.58933414e-04, 2.92755399e-04, 8.68494559e-06, 1.93035641e-03,\n",
       "        1.26218939e-02, 8.77088515e-01, 8.84289887e-01, 9.99860255e-01,\n",
       "        9.65504416e-01, 9.99737833e-01, 9.81978924e-01, 4.57805244e-03,\n",
       "        1.33518517e-04, 4.65142106e-05, 1.19374340e-05, 1.13114028e-04,\n",
       "        9.62084131e-04, 3.35576636e-04, 1.42683446e-04, 1.03501465e-03,\n",
       "        1.52743191e-04, 4.78515742e-01, 8.47137076e-01, 9.99270750e-01,\n",
       "        8.26248809e-01, 9.99808978e-01, 9.98316640e-01, 8.79838120e-01,\n",
       "        3.48985513e-04, 4.53215859e-05, 6.04262105e-06, 7.04595151e-05,\n",
       "        1.67199362e-04, 7.94447528e-04, 1.38690658e-03, 1.15156056e-03,\n",
       "        2.90095954e-03, 7.48615231e-01, 9.59538261e-01, 9.91605504e-01,\n",
       "        1.07091902e-01, 9.99893553e-01, 9.85299229e-01, 9.19783967e-01,\n",
       "        4.40237194e-01, 1.92538774e-04, 1.87860385e-03, 1.45241090e-04,\n",
       "        3.54911737e-03, 8.57769896e-04, 8.36348365e-04, 4.74055174e-03,\n",
       "        2.43168807e-01, 9.03348562e-01, 4.30586908e-01, 9.96934561e-01,\n",
       "        4.46824922e-03, 9.80820623e-01, 9.99797172e-01, 9.83232559e-01,\n",
       "        7.03888578e-01, 6.61571698e-01, 5.49452316e-02, 9.81497527e-02,\n",
       "        1.18331843e-03, 5.83359091e-03, 1.27823975e-01, 8.21918964e-02,\n",
       "        1.62872499e-01, 8.83214522e-01, 9.84695368e-01, 9.88942655e-01,\n",
       "        5.67028408e-03, 9.32343889e-01, 9.97732291e-01, 9.99773717e-01,\n",
       "        9.96782766e-01, 9.79092326e-01, 9.36747059e-01, 8.48549933e-01,\n",
       "        7.18157870e-01, 5.81237455e-01, 1.21363039e-01, 4.77300154e-01,\n",
       "        9.47822997e-01, 9.98769808e-01, 9.99667703e-01, 9.14287616e-01,\n",
       "        6.50839997e-04, 7.92850031e-02, 9.89203866e-01, 9.99822755e-01,\n",
       "        9.99963031e-01, 9.99967325e-01, 9.99935767e-01, 9.98950661e-01,\n",
       "        9.97429478e-01, 9.78300416e-01, 9.95625512e-01, 9.00114580e-01,\n",
       "        9.78829091e-01, 9.97736876e-01, 9.10026767e-01, 7.51937006e-01,\n",
       "        1.69493067e-03, 8.50554356e-03, 3.62206376e-02, 3.55687009e-01,\n",
       "        7.92077476e-01, 9.99979231e-01, 9.99999993e-01, 9.99999998e-01,\n",
       "        9.82803619e-01, 9.99969337e-01, 9.99311430e-01, 9.92968095e-01,\n",
       "        9.94748608e-01, 8.98160438e-01, 7.71840664e-01, 6.65274384e-02]])"
      ]
     },
     "execution_count": 360,
     "metadata": {},
     "output_type": "execute_result"
    }
   ],
   "source": [
    "b_test[0]"
   ]
  },
  {
   "cell_type": "code",
   "execution_count": 361,
   "metadata": {},
   "outputs": [
    {
     "data": {
      "text/plain": [
       "0.03962202249073836"
      ]
     },
     "execution_count": 361,
     "metadata": {},
     "output_type": "execute_result"
    }
   ],
   "source": [
    "((data[5].T - b_test[0])**2).sum()/160"
   ]
  }
 ],
 "metadata": {
  "interpreter": {
   "hash": "7e2f77450d574f743a6d9d7e6faf87aa64c8f9c3d83f2013a355475f93227b48"
  },
  "kernelspec": {
   "display_name": "Python 3.8.8 ('data')",
   "language": "python",
   "name": "python3"
  },
  "language_info": {
   "codemirror_mode": {
    "name": "ipython",
    "version": 3
   },
   "file_extension": ".py",
   "mimetype": "text/x-python",
   "name": "python",
   "nbconvert_exporter": "python",
   "pygments_lexer": "ipython3",
   "version": "3.8.8"
  },
  "orig_nbformat": 4
 },
 "nbformat": 4,
 "nbformat_minor": 2
}
