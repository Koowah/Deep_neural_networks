{
 "cells": [
  {
   "cell_type": "markdown",
   "metadata": {},
   "source": [
    "# First, let's load the MNIST dataset"
   ]
  },
  {
   "cell_type": "code",
   "execution_count": 1,
   "metadata": {},
   "outputs": [],
   "source": [
    "import numpy as np\n",
    "import matplotlib.pyplot as plt"
   ]
  },
  {
   "cell_type": "code",
   "execution_count": 4,
   "metadata": {},
   "outputs": [
    {
     "ename": "ModuleNotFoundError",
     "evalue": "No module named 'torch'",
     "output_type": "error",
     "traceback": [
      "\u001b[1;31m---------------------------------------------------------------------------\u001b[0m",
      "\u001b[1;31mModuleNotFoundError\u001b[0m                       Traceback (most recent call last)",
      "\u001b[1;32m<ipython-input-4-797e344fc36a>\u001b[0m in \u001b[0;36m<module>\u001b[1;34m\u001b[0m\n\u001b[0;32m      1\u001b[0m \u001b[1;32mimport\u001b[0m \u001b[0mrequests\u001b[0m \u001b[1;31m# for alpha-binary digits\u001b[0m\u001b[1;33m\u001b[0m\u001b[1;33m\u001b[0m\u001b[0m\n\u001b[0;32m      2\u001b[0m \u001b[1;33m\u001b[0m\u001b[0m\n\u001b[1;32m----> 3\u001b[1;33m \u001b[1;32mimport\u001b[0m \u001b[0mtorch\u001b[0m\u001b[1;33m\u001b[0m\u001b[1;33m\u001b[0m\u001b[0m\n\u001b[0m\u001b[0;32m      4\u001b[0m \u001b[1;32mfrom\u001b[0m \u001b[0mtorchvision\u001b[0m \u001b[1;32mimport\u001b[0m \u001b[0mdatasets\u001b[0m\u001b[1;33m,\u001b[0m \u001b[0mtransforms\u001b[0m \u001b[1;31m# for MNIST\u001b[0m\u001b[1;33m\u001b[0m\u001b[1;33m\u001b[0m\u001b[0m\n",
      "\u001b[1;31mModuleNotFoundError\u001b[0m: No module named 'torch'"
     ]
    }
   ],
   "source": [
    "import requests # for alpha-binary digits\n",
    "\n",
    "# import torch\n",
    "# from torchvision import datasets, transforms # for MNIST"
   ]
  },
  {
   "cell_type": "markdown",
   "metadata": {},
   "source": [
    "### Downloading, preprocessing & loading MNIST"
   ]
  },
  {
   "cell_type": "code",
   "execution_count": null,
   "metadata": {},
   "outputs": [],
   "source": [
    "# Define a transform to normalize the data\n",
    "transform = transforms.Compose([transforms.ToTensor(),\n",
    "                                transforms.Normalize((0.5,), (0.5,))])\n",
    "# Download and load the training data\n",
    "trainset = datasets.MNIST('../data/processed', download=False, train=True, transform=transform)\n",
    "trainloader = torch.utils.data.DataLoader(trainset, batch_size=64, shuffle=True)\n",
    "# Download and load the test data\n",
    "testset = datasets.MNIST('../data/processed', download=False, train=False, transform=transform)\n",
    "testloader = torch.utils.data.DataLoader(testset, batch_size=64, shuffle=True)\n"
   ]
  },
  {
   "cell_type": "code",
   "execution_count": null,
   "metadata": {},
   "outputs": [],
   "source": [
    "dataiter = iter(trainloader)"
   ]
  },
  {
   "cell_type": "code",
   "execution_count": null,
   "metadata": {},
   "outputs": [],
   "source": [
    "images, labels = dataiter.next()"
   ]
  },
  {
   "cell_type": "code",
   "execution_count": null,
   "metadata": {},
   "outputs": [
    {
     "name": "stdout",
     "output_type": "stream",
     "text": [
      "torch.Size([64, 1, 28, 28]) torch.Size([64])\n"
     ]
    }
   ],
   "source": [
    "print(images.shape, labels.shape) #loading 64 images of shape 28x28"
   ]
  },
  {
   "cell_type": "code",
   "execution_count": null,
   "metadata": {},
   "outputs": [
    {
     "data": {
      "text/plain": [
       "<matplotlib.image.AxesImage at 0x1fc7caddb20>"
      ]
     },
     "execution_count": 8,
     "metadata": {},
     "output_type": "execute_result"
    },
    {
     "data": {
      "image/png": "[encoded data removed]",
      "text/plain": [
       "<Figure size 432x288 with 1 Axes>"
      ]
     },
     "metadata": {
      "needs_background": "light"
     },
     "output_type": "display_data"
    }
   ],
   "source": [
    "plt.imshow(images[0].squeeze(), cmap='Greys_r')"
   ]
  },
  {
   "cell_type": "markdown",
   "metadata": {},
   "source": [
    "---"
   ]
  },
  {
   "cell_type": "markdown",
   "metadata": {},
   "source": [
    "### Downloading AlphaBinary"
   ]
  },
  {
   "cell_type": "code",
   "execution_count": 7,
   "metadata": {},
   "outputs": [],
   "source": [
    "# alpha_binary_mat = requests.get('https://cs.nyu.edu/~roweis/data/binaryalphadigs.mat')"
   ]
  },
  {
   "cell_type": "code",
   "execution_count": 8,
   "metadata": {},
   "outputs": [],
   "source": [
    "# with open('../data/raw/alpha_binary.mat', 'wb') as f:\n",
    "    # f.write(alpha_binary_mat.content)"
   ]
  },
  {
   "cell_type": "markdown",
   "metadata": {},
   "source": [
    "### Preprocessing AlphaBinary"
   ]
  },
  {
   "cell_type": "code",
   "execution_count": 2,
   "metadata": {},
   "outputs": [],
   "source": [
    "import scipy.io"
   ]
  },
  {
   "cell_type": "code",
   "execution_count": 3,
   "metadata": {},
   "outputs": [],
   "source": [
    "file_mat = '../data/raw/alpha_binary.mat'\n",
    "mat = scipy.io.loadmat(file_mat)"
   ]
  },
  {
   "cell_type": "code",
   "execution_count": 4,
   "metadata": {},
   "outputs": [
    {
     "data": {
      "text/plain": [
       "dict"
      ]
     },
     "execution_count": 4,
     "metadata": {},
     "output_type": "execute_result"
    }
   ],
   "source": [
    "type(mat)"
   ]
  },
  {
   "cell_type": "code",
   "execution_count": 5,
   "metadata": {},
   "outputs": [
    {
     "data": {
      "text/plain": [
       "dict_keys(['__header__', '__version__', '__globals__', 'dat', 'numclass', 'classlabels', 'classcounts'])"
      ]
     },
     "execution_count": 5,
     "metadata": {},
     "output_type": "execute_result"
    }
   ],
   "source": [
    "mat.keys()"
   ]
  },
  {
   "cell_type": "code",
   "execution_count": 6,
   "metadata": {},
   "outputs": [
    {
     "data": {
      "text/plain": [
       "(36, 39)"
      ]
     },
     "execution_count": 6,
     "metadata": {},
     "output_type": "execute_result"
    }
   ],
   "source": [
    "mat['dat'].shape # 39 samples for each of the 36 classes - 10 digits & 26 letters"
   ]
  },
  {
   "cell_type": "code",
   "execution_count": 7,
   "metadata": {},
   "outputs": [
    {
     "data": {
      "text/plain": [
       "array([array(['0'], dtype='<U1'), array(['1'], dtype='<U1'),\n",
       "       array(['2'], dtype='<U1'), array(['3'], dtype='<U1'),\n",
       "       array(['4'], dtype='<U1'), array(['5'], dtype='<U1'),\n",
       "       array(['6'], dtype='<U1'), array(['7'], dtype='<U1'),\n",
       "       array(['8'], dtype='<U1'), array(['9'], dtype='<U1'),\n",
       "       array(['A'], dtype='<U1'), array(['B'], dtype='<U1'),\n",
       "       array(['C'], dtype='<U1'), array(['D'], dtype='<U1'),\n",
       "       array(['E'], dtype='<U1'), array(['F'], dtype='<U1'),\n",
       "       array(['G'], dtype='<U1'), array(['H'], dtype='<U1'),\n",
       "       array(['I'], dtype='<U1'), array(['J'], dtype='<U1'),\n",
       "       array(['K'], dtype='<U1'), array(['L'], dtype='<U1'),\n",
       "       array(['M'], dtype='<U1'), array(['N'], dtype='<U1'),\n",
       "       array(['O'], dtype='<U1'), array(['P'], dtype='<U1'),\n",
       "       array(['Q'], dtype='<U1'), array(['R'], dtype='<U1'),\n",
       "       array(['S'], dtype='<U1'), array(['T'], dtype='<U1'),\n",
       "       array(['U'], dtype='<U1'), array(['V'], dtype='<U1'),\n",
       "       array(['W'], dtype='<U1'), array(['X'], dtype='<U1'),\n",
       "       array(['Y'], dtype='<U1'), array(['Z'], dtype='<U1')], dtype=object)"
      ]
     },
     "execution_count": 7,
     "metadata": {},
     "output_type": "execute_result"
    }
   ],
   "source": [
    "mat['classlabels'][0]"
   ]
  },
  {
   "cell_type": "code",
   "execution_count": 8,
   "metadata": {},
   "outputs": [],
   "source": [
    "labels = np.array([label.item() for label in mat['classlabels'][0]])"
   ]
  },
  {
   "cell_type": "code",
   "execution_count": 9,
   "metadata": {},
   "outputs": [
    {
     "data": {
      "text/plain": [
       "array(['0', '1', '2', '3', '4', '5', '6', '7', '8', '9', 'A', 'B', 'C',\n",
       "       'D', 'E', 'F', 'G', 'H', 'I', 'J', 'K', 'L', 'M', 'N', 'O', 'P',\n",
       "       'Q', 'R', 'S', 'T', 'U', 'V', 'W', 'X', 'Y', 'Z'], dtype='<U1')"
      ]
     },
     "execution_count": 9,
     "metadata": {},
     "output_type": "execute_result"
    }
   ],
   "source": [
    "labels"
   ]
  },
  {
   "cell_type": "markdown",
   "metadata": {},
   "source": [
    "---"
   ]
  },
  {
   "cell_type": "code",
   "execution_count": 10,
   "metadata": {},
   "outputs": [],
   "source": [
    "images = mat['dat']"
   ]
  },
  {
   "cell_type": "code",
   "execution_count": 11,
   "metadata": {},
   "outputs": [
    {
     "data": {
      "text/plain": [
       "<matplotlib.image.AxesImage at 0x2fb0c16dc40>"
      ]
     },
     "execution_count": 11,
     "metadata": {},
     "output_type": "execute_result"
    },
    {
     "data": {
      "image/png": "[encoded data removed]",
      "text/plain": [
       "<Figure size 432x288 with 1 Axes>"
      ]
     },
     "metadata": {
      "needs_background": "light"
     },
     "output_type": "display_data"
    }
   ],
   "source": [
    "plt.imshow(images[3][0], cmap='Greys_r')"
   ]
  },
  {
   "cell_type": "code",
   "execution_count": 12,
   "metadata": {},
   "outputs": [
    {
     "data": {
      "text/plain": [
       "<matplotlib.image.AxesImage at 0x2fb0c4ac1f0>"
      ]
     },
     "execution_count": 12,
     "metadata": {},
     "output_type": "execute_result"
    },
    {
     "data": {
      "image/png": "[encoded data removed]",
      "text/plain": [
       "<Figure size 432x288 with 1 Axes>"
      ]
     },
     "metadata": {
      "needs_background": "light"
     },
     "output_type": "display_data"
    }
   ],
   "source": [
    "plt.imshow(images[10][0], cmap='Greys_r')"
   ]
  },
  {
   "cell_type": "code",
   "execution_count": 13,
   "metadata": {},
   "outputs": [],
   "source": [
    "labels_array = []"
   ]
  },
  {
   "cell_type": "code",
   "execution_count": 14,
   "metadata": {},
   "outputs": [],
   "source": [
    "for index, classe in enumerate(images):\n",
    "    for image in classe:\n",
    "        labels_array.append(labels[index])\n",
    "\n",
    "labels_array = np.array(labels_array)"
   ]
  },
  {
   "cell_type": "code",
   "execution_count": 15,
   "metadata": {},
   "outputs": [
    {
     "data": {
      "text/plain": [
       "True"
      ]
     },
     "execution_count": 15,
     "metadata": {},
     "output_type": "execute_result"
    }
   ],
   "source": [
    "labels_array.shape[0] == 36*39"
   ]
  },
  {
   "cell_type": "code",
   "execution_count": 16,
   "metadata": {},
   "outputs": [
    {
     "data": {
      "text/plain": [
       "('0', '0', '1')"
      ]
     },
     "execution_count": 16,
     "metadata": {},
     "output_type": "execute_result"
    }
   ],
   "source": [
    "labels_array[0], labels_array[38], labels_array[39]"
   ]
  },
  {
   "cell_type": "markdown",
   "metadata": {},
   "source": [
    "---"
   ]
  },
  {
   "cell_type": "code",
   "execution_count": 17,
   "metadata": {},
   "outputs": [
    {
     "data": {
      "text/plain": [
       "(320,)"
      ]
     },
     "execution_count": 17,
     "metadata": {},
     "output_type": "execute_result"
    }
   ],
   "source": [
    "images[0][0].flatten().shape"
   ]
  },
  {
   "cell_type": "code",
   "execution_count": 18,
   "metadata": {},
   "outputs": [
    {
     "data": {
      "text/plain": [
       "(20, 16)"
      ]
     },
     "execution_count": 18,
     "metadata": {},
     "output_type": "execute_result"
    }
   ],
   "source": [
    "images[10][0].shape"
   ]
  },
  {
   "cell_type": "code",
   "execution_count": 19,
   "metadata": {},
   "outputs": [
    {
     "data": {
      "text/plain": [
       "(20, 16)"
      ]
     },
     "execution_count": 19,
     "metadata": {},
     "output_type": "execute_result"
    }
   ],
   "source": [
    "images[0, 1].shape"
   ]
  },
  {
   "cell_type": "code",
   "execution_count": 20,
   "metadata": {},
   "outputs": [],
   "source": [
    "def lire_alpha_digit(all_images, classes:list):\n",
    "    data = []\n",
    "    for cls in classes:\n",
    "        for image in all_images[cls]:\n",
    "            data.append(image.flatten().reshape(-1,1))\n",
    "    \n",
    "    return np.array(data)"
   ]
  },
  {
   "cell_type": "markdown",
   "metadata": {},
   "source": [
    "All our data has been loaded and is ready to be used in a python data environment !"
   ]
  },
  {
   "cell_type": "markdown",
   "metadata": {},
   "source": [
    "---"
   ]
  },
  {
   "cell_type": "markdown",
   "metadata": {},
   "source": [
    "# Creating NN classes & methods"
   ]
  },
  {
   "cell_type": "code",
   "execution_count": 21,
   "metadata": {},
   "outputs": [],
   "source": [
    "def sigmoid(x):\n",
    "    return 1 / (1 + np.exp(-x))"
   ]
  },
  {
   "cell_type": "code",
   "execution_count": 22,
   "metadata": {},
   "outputs": [],
   "source": [
    "def logistic(x,w,b):\n",
    "   xw = np.dot(x, w)\n",
    "   replicated_b = np.tile(b, (x.shape[0], 1))\n",
    "\n",
    "   return 1.0 / (1 + np.exp(- xw - b))"
   ]
  },
  {
   "cell_type": "code",
   "execution_count": 167,
   "metadata": {},
   "outputs": [],
   "source": [
    "class RBM:\n",
    "    \n",
    "    def __init__(self, n_v, n_h, W=None, b=None, c=None, k=1):\n",
    "        assert n_v != 0 and n_h != 0\n",
    "        self.n_v = n_v\n",
    "        self.n_h = n_h\n",
    "        shape = (n_h, n_v)\n",
    "        \n",
    "        self.W = W if W is not None else np.random.uniform(-1, 1, size=shape)\n",
    "        self.b = b if b is not None else np.zeros(n_v)\n",
    "        self.c = c if c is not None else np.zeros(n_h)\n",
    "\n",
    "        assert self.W.shape==shape and n_v == len(self.b) and n_h == len(self.c)\n",
    "        \n",
    "        self.k = k\n",
    "        return\n",
    "        \n",
    "    def forward(self, V):\n",
    "        n_sample, n_v = V.shape\n",
    "        \n",
    "        hsignal = np.dot(V, self.W.T) + self.c\n",
    "        assert hsignal.shape == (n_sample, self.n_h)\n",
    "        Hp = sigmoid(hsignal)\n",
    "        \n",
    "        #s = np.random.uniform(0, 1, size=hsignal.shape)\n",
    "        #Hs = (s < Hp) * 1  # same as:\n",
    "        Hs = np.random.binomial(1, Hp, size=Hp.shape)\n",
    "        return Hp, Hs\n",
    "    \n",
    "    def backward(self, H):\n",
    "        n_sample, n_h = H.shape\n",
    "        \n",
    "        vsignal = np.dot(H, self.W) + self.b\n",
    "        assert vsignal.shape == (n_sample, self.n_v)\n",
    "        #print(vsignal)\n",
    "        Vp = sigmoid(vsignal)\n",
    "        \n",
    "        s = np.random.uniform(0, 1, size=vsignal.shape)\n",
    "        Vs = (s < Vp) * 1\n",
    "        return Vp, Vs\n",
    "\n",
    "    def gibbs(self, V):  #return (probability, samples) of visible units\n",
    "        Vs = V\n",
    "        for i in range(self.k):\n",
    "            Hp, Hs = self.forward(Vs)\n",
    "            Vp, Vs = self.backward(Hs)\n",
    "            \n",
    "        return Hp, Hs, Vp, Vs\n",
    "    \n",
    "    def contrastive_divergence(self, V, learning=0.01):\n",
    "        #set_trace()\n",
    "        n_sample, n_v = V.shape\n",
    "        \n",
    "        Vs = V\n",
    "        Hp, Hs, Vp_, Vs_ = self.gibbs(Vs)   # underscore _ refers to tilde for negative sample\n",
    "        Hp_, Hs_ = self.forward(Vs_)\n",
    "\n",
    "        Vs1 = np.mean(Vs, axis=0) \n",
    "        Vs2 = np.mean(Vs_, axis=0) \n",
    "        Hp1 = np.mean(Hp, axis=0)\n",
    "        Hp2 = np.mean(Hp_, axis=0)\n",
    "        Hs1 = np.mean(Hs, axis=0)\n",
    "        Hs2 = np.mean(Hs_, axis=0)\n",
    "        \n",
    "        # note, there are variances in how to compute the gradients.\n",
    "        # Hugo suggests:     h(v1)*v1 - h(v2)*v2\n",
    "        # Bengio suggests:   h1*v1 - h(v2)*v2\n",
    "        # My derivation:     h1(v1)*v1 - h2*v2 \n",
    "        \n",
    "        Eh_b = Vs1; Evh_b = Vs2      # Evh_b refers to the Expectation (over v and h) of -logP(v) gradient wrt b\n",
    "        \n",
    "        #Eh_c = Hs1; Evh_c = Hp2  # bengio\n",
    "        Eh_c = Hp1; Evh_c = Hp2  # hugo\n",
    "        #Eh_c = Hp1; Evh_c = Hs2  # Mine\n",
    "\n",
    "        g_b = Evh_b - Eh_b  # gradient of -logP(v) wrt b\n",
    "        g_c = Evh_c - Eh_c\n",
    "\n",
    "        Eh_W = np.outer(Eh_c, Eh_b) \n",
    "        Evh_W = np.outer(Evh_c, Evh_b)\n",
    "        g_W = Evh_W - Eh_W\n",
    "    \n",
    "        self.W -= g_W * learning\n",
    "        self.b -= g_b * learning\n",
    "        self.c -= g_c * learning        \n",
    "        return\n",
    "    \n",
    "    def reconstruct(self, V):\n",
    "        Hp, Hs = self.forward(V)\n",
    "        Vp, Vs = self.backward(Hp)\n",
    "        return Vp, Vs\n",
    "    \n",
    "    def train_model(self, train_data, n_epoch=100, batch_size=10, learning=0.01):\n",
    "        for _ in range(n_epoch):\n",
    "            MSE = []\n",
    "            data = train_data.copy()\n",
    "            np.random.shuffle(data)\n",
    "            for x, y in data:\n",
    "                self.contrastive_divergence(x.T, learning)\n",
    "                reconstructed = self.reconstruct(x.T)\n",
    "                MSE.append(((x.T - reconstructed)**2).sum()/len(x))\n",
    "            print(f'MSE for epoch {_}: {np.array(MSE).mean()}')                      \n",
    "        return\n",
    "    \n",
    "    def generate_image(self, iter_gibbs, number_image):\n",
    "        images = []\n",
    "        for _ in range(number_image):\n",
    "            v = np.zeros(self.n_v).reshape(1, -1)\n",
    "            for _ in range(iter_gibbs):\n",
    "                _, v = self.reconstruct(v)\n",
    "            images.append(v)\n",
    "        return images"
   ]
  },
  {
   "cell_type": "markdown",
   "metadata": {},
   "source": [
    "---"
   ]
  },
  {
   "cell_type": "code",
   "execution_count": 168,
   "metadata": {},
   "outputs": [],
   "source": [
    "rbm = RBM(20*16, 20*8)"
   ]
  },
  {
   "cell_type": "code",
   "execution_count": 169,
   "metadata": {},
   "outputs": [],
   "source": [
    "data = lire_alpha_digit(images, [0, 1, 2, 3, 4, 5, 6, 7, 8, 9])"
   ]
  },
  {
   "cell_type": "code",
   "execution_count": 170,
   "metadata": {},
   "outputs": [],
   "source": [
    "train_data = list(zip(data, labels_array[:39*10]))"
   ]
  },
  {
   "cell_type": "code",
   "execution_count": 171,
   "metadata": {},
   "outputs": [
    {
     "data": {
      "text/plain": [
       "(array([[0],\n",
       "        [0],\n",
       "        [0],\n",
       "        [0],\n",
       "        [0],\n",
       "        [1],\n",
       "        [1],\n",
       "        [1],\n",
       "        [1],\n",
       "        [1],\n",
       "        [1],\n",
       "        [1],\n",
       "        [1],\n",
       "        [0],\n",
       "        [0],\n",
       "        [0],\n",
       "        [0],\n",
       "        [0],\n",
       "        [1],\n",
       "        [1],\n",
       "        [1],\n",
       "        [1],\n",
       "        [1],\n",
       "        [1],\n",
       "        [1],\n",
       "        [1],\n",
       "        [1],\n",
       "        [1],\n",
       "        [1],\n",
       "        [1],\n",
       "        [1],\n",
       "        [1],\n",
       "        [0],\n",
       "        [1],\n",
       "        [1],\n",
       "        [1],\n",
       "        [1],\n",
       "        [1],\n",
       "        [1],\n",
       "        [1],\n",
       "        [1],\n",
       "        [1],\n",
       "        [1],\n",
       "        [1],\n",
       "        [1],\n",
       "        [1],\n",
       "        [1],\n",
       "        [1],\n",
       "        [0],\n",
       "        [1],\n",
       "        [1],\n",
       "        [1],\n",
       "        [1],\n",
       "        [1],\n",
       "        [1],\n",
       "        [1],\n",
       "        [1],\n",
       "        [0],\n",
       "        [0],\n",
       "        [1],\n",
       "        [1],\n",
       "        [1],\n",
       "        [1],\n",
       "        [1],\n",
       "        [0],\n",
       "        [1],\n",
       "        [1],\n",
       "        [1],\n",
       "        [1],\n",
       "        [1],\n",
       "        [1],\n",
       "        [1],\n",
       "        [1],\n",
       "        [0],\n",
       "        [0],\n",
       "        [0],\n",
       "        [1],\n",
       "        [1],\n",
       "        [1],\n",
       "        [1],\n",
       "        [0],\n",
       "        [1],\n",
       "        [1],\n",
       "        [1],\n",
       "        [1],\n",
       "        [1],\n",
       "        [1],\n",
       "        [1],\n",
       "        [1],\n",
       "        [0],\n",
       "        [0],\n",
       "        [0],\n",
       "        [0],\n",
       "        [1],\n",
       "        [1],\n",
       "        [1],\n",
       "        [0],\n",
       "        [1],\n",
       "        [1],\n",
       "        [1],\n",
       "        [1],\n",
       "        [0],\n",
       "        [0],\n",
       "        [1],\n",
       "        [0],\n",
       "        [0],\n",
       "        [0],\n",
       "        [0],\n",
       "        [0],\n",
       "        [0],\n",
       "        [1],\n",
       "        [1],\n",
       "        [0],\n",
       "        [1],\n",
       "        [1],\n",
       "        [1],\n",
       "        [1],\n",
       "        [0],\n",
       "        [0],\n",
       "        [0],\n",
       "        [0],\n",
       "        [0],\n",
       "        [0],\n",
       "        [0],\n",
       "        [0],\n",
       "        [0],\n",
       "        [1],\n",
       "        [1],\n",
       "        [1],\n",
       "        [1],\n",
       "        [1],\n",
       "        [1],\n",
       "        [1],\n",
       "        [0],\n",
       "        [0],\n",
       "        [0],\n",
       "        [0],\n",
       "        [0],\n",
       "        [0],\n",
       "        [0],\n",
       "        [0],\n",
       "        [0],\n",
       "        [1],\n",
       "        [1],\n",
       "        [1],\n",
       "        [1],\n",
       "        [1],\n",
       "        [1],\n",
       "        [0],\n",
       "        [0],\n",
       "        [0],\n",
       "        [0],\n",
       "        [0],\n",
       "        [0],\n",
       "        [0],\n",
       "        [0],\n",
       "        [0],\n",
       "        [0],\n",
       "        [0],\n",
       "        [1],\n",
       "        [1],\n",
       "        [1],\n",
       "        [1],\n",
       "        [0],\n",
       "        [0],\n",
       "        [0],\n",
       "        [0],\n",
       "        [0],\n",
       "        [0],\n",
       "        [0],\n",
       "        [0],\n",
       "        [0],\n",
       "        [0],\n",
       "        [0],\n",
       "        [1],\n",
       "        [1],\n",
       "        [1],\n",
       "        [1],\n",
       "        [1],\n",
       "        [0],\n",
       "        [0],\n",
       "        [0],\n",
       "        [0],\n",
       "        [0],\n",
       "        [0],\n",
       "        [0],\n",
       "        [0],\n",
       "        [0],\n",
       "        [0],\n",
       "        [0],\n",
       "        [1],\n",
       "        [1],\n",
       "        [1],\n",
       "        [1],\n",
       "        [1],\n",
       "        [0],\n",
       "        [0],\n",
       "        [0],\n",
       "        [0],\n",
       "        [0],\n",
       "        [0],\n",
       "        [0],\n",
       "        [0],\n",
       "        [0],\n",
       "        [0],\n",
       "        [0],\n",
       "        [1],\n",
       "        [1],\n",
       "        [1],\n",
       "        [1],\n",
       "        [1],\n",
       "        [0],\n",
       "        [0],\n",
       "        [0],\n",
       "        [0],\n",
       "        [0],\n",
       "        [0],\n",
       "        [0],\n",
       "        [0],\n",
       "        [0],\n",
       "        [0],\n",
       "        [0],\n",
       "        [1],\n",
       "        [1],\n",
       "        [1],\n",
       "        [1],\n",
       "        [1],\n",
       "        [0],\n",
       "        [0],\n",
       "        [0],\n",
       "        [0],\n",
       "        [0],\n",
       "        [0],\n",
       "        [0],\n",
       "        [0],\n",
       "        [0],\n",
       "        [0],\n",
       "        [0],\n",
       "        [1],\n",
       "        [1],\n",
       "        [1],\n",
       "        [1],\n",
       "        [1],\n",
       "        [1],\n",
       "        [0],\n",
       "        [0],\n",
       "        [0],\n",
       "        [0],\n",
       "        [0],\n",
       "        [0],\n",
       "        [0],\n",
       "        [0],\n",
       "        [0],\n",
       "        [1],\n",
       "        [1],\n",
       "        [1],\n",
       "        [1],\n",
       "        [1],\n",
       "        [1],\n",
       "        [1],\n",
       "        [1],\n",
       "        [0],\n",
       "        [0],\n",
       "        [0],\n",
       "        [0],\n",
       "        [0],\n",
       "        [0],\n",
       "        [1],\n",
       "        [1],\n",
       "        [1],\n",
       "        [1],\n",
       "        [1],\n",
       "        [0],\n",
       "        [1],\n",
       "        [1],\n",
       "        [1],\n",
       "        [1],\n",
       "        [1],\n",
       "        [1],\n",
       "        [0],\n",
       "        [0],\n",
       "        [1],\n",
       "        [1],\n",
       "        [1],\n",
       "        [1],\n",
       "        [1],\n",
       "        [1],\n",
       "        [1],\n",
       "        [0],\n",
       "        [1],\n",
       "        [1],\n",
       "        [1],\n",
       "        [1],\n",
       "        [1],\n",
       "        [1],\n",
       "        [1],\n",
       "        [1],\n",
       "        [1],\n",
       "        [1],\n",
       "        [1],\n",
       "        [1],\n",
       "        [1],\n",
       "        [1],\n",
       "        [1],\n",
       "        [0],\n",
       "        [1],\n",
       "        [1],\n",
       "        [1],\n",
       "        [1],\n",
       "        [1],\n",
       "        [1],\n",
       "        [1],\n",
       "        [1],\n",
       "        [1],\n",
       "        [1],\n",
       "        [1],\n",
       "        [1],\n",
       "        [1],\n",
       "        [1],\n",
       "        [0]], dtype=uint8),\n",
       " '0')"
      ]
     },
     "execution_count": 171,
     "metadata": {},
     "output_type": "execute_result"
    }
   ],
   "source": [
    "train_data[7]"
   ]
  },
  {
   "cell_type": "code",
   "execution_count": 172,
   "metadata": {},
   "outputs": [
    {
     "name": "stdout",
     "output_type": "stream",
     "text": [
      "MSE for epoch 0: 0.43277102102924675\n",
      "MSE for epoch 1: 0.3841013644912049\n",
      "MSE for epoch 2: 0.35013177466057493\n",
      "MSE for epoch 3: 0.3259411031532072\n",
      "MSE for epoch 4: 0.308392738354979\n",
      "MSE for epoch 5: 0.29463872869293545\n",
      "MSE for epoch 6: 0.2824061699230367\n",
      "MSE for epoch 7: 0.2718463659356671\n",
      "MSE for epoch 8: 0.26319050087653606\n",
      "MSE for epoch 9: 0.2540062929010914\n",
      "MSE for epoch 10: 0.24663312051940894\n",
      "MSE for epoch 11: 0.2381473778964212\n",
      "MSE for epoch 12: 0.23275046418044806\n",
      "MSE for epoch 13: 0.22650927770508122\n",
      "MSE for epoch 14: 0.22209347842454186\n",
      "MSE for epoch 15: 0.21659431462095857\n",
      "MSE for epoch 16: 0.21257226384016645\n",
      "MSE for epoch 17: 0.20865676893899668\n",
      "MSE for epoch 18: 0.20373147353438506\n",
      "MSE for epoch 19: 0.2002499469688979\n",
      "MSE for epoch 20: 0.19604957079213803\n",
      "MSE for epoch 21: 0.1925127018156042\n",
      "MSE for epoch 22: 0.1908469226248383\n",
      "MSE for epoch 23: 0.18704721541908045\n",
      "MSE for epoch 24: 0.18364158716889545\n",
      "MSE for epoch 25: 0.18012993871306637\n",
      "MSE for epoch 26: 0.17868260785691795\n",
      "MSE for epoch 27: 0.17543413473458705\n",
      "MSE for epoch 28: 0.17303543655596298\n",
      "MSE for epoch 29: 0.17204797071799746\n",
      "MSE for epoch 30: 0.16870099267150848\n",
      "MSE for epoch 31: 0.16636557394319967\n",
      "MSE for epoch 32: 0.16669201352459337\n",
      "MSE for epoch 33: 0.16306947258349555\n",
      "MSE for epoch 34: 0.1618153668468577\n",
      "MSE for epoch 35: 0.15975332560249372\n",
      "MSE for epoch 36: 0.1572619359203361\n",
      "MSE for epoch 37: 0.15552080073733124\n",
      "MSE for epoch 38: 0.15376063397761955\n",
      "MSE for epoch 39: 0.1524628449327421\n",
      "MSE for epoch 40: 0.1521406019494402\n",
      "MSE for epoch 41: 0.14696952649634526\n",
      "MSE for epoch 42: 0.14838506207732044\n",
      "MSE for epoch 43: 0.14551282391943335\n",
      "MSE for epoch 44: 0.14409475855166187\n",
      "MSE for epoch 45: 0.14323932869240982\n",
      "MSE for epoch 46: 0.1428317656358651\n",
      "MSE for epoch 47: 0.14085457075939437\n",
      "MSE for epoch 48: 0.13842604260794922\n",
      "MSE for epoch 49: 0.13899484803236567\n",
      "MSE for epoch 50: 0.13722075218475827\n",
      "MSE for epoch 51: 0.13545548554084907\n",
      "MSE for epoch 52: 0.13380529192588717\n",
      "MSE for epoch 53: 0.13206209075106087\n",
      "MSE for epoch 54: 0.13251314862730007\n",
      "MSE for epoch 55: 0.13169170181018228\n",
      "MSE for epoch 56: 0.13070643446006297\n",
      "MSE for epoch 57: 0.12900965866863195\n",
      "MSE for epoch 58: 0.12723158196435688\n",
      "MSE for epoch 59: 0.12781654837174716\n",
      "MSE for epoch 60: 0.1257093205607708\n",
      "MSE for epoch 61: 0.12413980907237442\n",
      "MSE for epoch 62: 0.1235409746051935\n",
      "MSE for epoch 63: 0.12237792021699458\n",
      "MSE for epoch 64: 0.12217096195563558\n",
      "MSE for epoch 65: 0.12249518377900562\n",
      "MSE for epoch 66: 0.11963072536929804\n",
      "MSE for epoch 67: 0.11983574519770744\n",
      "MSE for epoch 68: 0.1175201722141348\n",
      "MSE for epoch 69: 0.11676465514599672\n",
      "MSE for epoch 70: 0.11812364115310521\n",
      "MSE for epoch 71: 0.11651702500022525\n",
      "MSE for epoch 72: 0.1154103711685195\n",
      "MSE for epoch 73: 0.11517015022761407\n",
      "MSE for epoch 74: 0.11379180248335534\n",
      "MSE for epoch 75: 0.11288437641998628\n",
      "MSE for epoch 76: 0.11201283201392093\n",
      "MSE for epoch 77: 0.11125105072752338\n",
      "MSE for epoch 78: 0.11091501429579205\n",
      "MSE for epoch 79: 0.10971209562487172\n",
      "MSE for epoch 80: 0.10929419369702296\n",
      "MSE for epoch 81: 0.11008807542052901\n",
      "MSE for epoch 82: 0.1080363128409084\n",
      "MSE for epoch 83: 0.10747784471271404\n",
      "MSE for epoch 84: 0.10712089415068204\n",
      "MSE for epoch 85: 0.10612115249734956\n",
      "MSE for epoch 86: 0.10430937282793346\n",
      "MSE for epoch 87: 0.10578591410122015\n",
      "MSE for epoch 88: 0.10514627161233654\n",
      "MSE for epoch 89: 0.10366284636635355\n",
      "MSE for epoch 90: 0.10311704625636844\n",
      "MSE for epoch 91: 0.10300761121832497\n",
      "MSE for epoch 92: 0.1022808943870197\n",
      "MSE for epoch 93: 0.10188798914802176\n",
      "MSE for epoch 94: 0.10178043177271587\n",
      "MSE for epoch 95: 0.10062623880796545\n",
      "MSE for epoch 96: 0.09947553048443056\n",
      "MSE for epoch 97: 0.09844353633403394\n",
      "MSE for epoch 98: 0.09820127560402396\n",
      "MSE for epoch 99: 0.09911368528740243\n",
      "MSE for epoch 100: 0.09748764035129862\n",
      "MSE for epoch 101: 0.09807742765479442\n",
      "MSE for epoch 102: 0.09709624218937978\n",
      "MSE for epoch 103: 0.09699769098490929\n",
      "MSE for epoch 104: 0.09665145326396746\n",
      "MSE for epoch 105: 0.09439408956029598\n",
      "MSE for epoch 106: 0.09458674339902251\n",
      "MSE for epoch 107: 0.09543864107107967\n",
      "MSE for epoch 108: 0.0946274408062079\n",
      "MSE for epoch 109: 0.09434325158990702\n",
      "MSE for epoch 110: 0.09276873827670655\n",
      "MSE for epoch 111: 0.09290220862536969\n",
      "MSE for epoch 112: 0.09211254094680817\n",
      "MSE for epoch 113: 0.09179164363823793\n",
      "MSE for epoch 114: 0.09159394497513103\n",
      "MSE for epoch 115: 0.09084732724955076\n",
      "MSE for epoch 116: 0.09086525310242968\n",
      "MSE for epoch 117: 0.08996891579466569\n",
      "MSE for epoch 118: 0.09081749559996737\n",
      "MSE for epoch 119: 0.08962857070806765\n",
      "MSE for epoch 120: 0.08863139463449932\n",
      "MSE for epoch 121: 0.0882798733296909\n",
      "MSE for epoch 122: 0.08736746144195222\n",
      "MSE for epoch 123: 0.08656852588115406\n",
      "MSE for epoch 124: 0.08665649150336736\n",
      "MSE for epoch 125: 0.08733696658813768\n",
      "MSE for epoch 126: 0.08708980898320802\n",
      "MSE for epoch 127: 0.0867179639822051\n",
      "MSE for epoch 128: 0.0863032970197662\n",
      "MSE for epoch 129: 0.0865697661062171\n",
      "MSE for epoch 130: 0.08557179005677115\n",
      "MSE for epoch 131: 0.08485868300471634\n",
      "MSE for epoch 132: 0.08502326995958531\n",
      "MSE for epoch 133: 0.08309313521574621\n",
      "MSE for epoch 134: 0.08371839742763149\n",
      "MSE for epoch 135: 0.08318250752535092\n",
      "MSE for epoch 136: 0.08366899776574538\n",
      "MSE for epoch 137: 0.08355937776341228\n",
      "MSE for epoch 138: 0.08329000676375467\n",
      "MSE for epoch 139: 0.08250003021811207\n",
      "MSE for epoch 140: 0.08157127777093748\n",
      "MSE for epoch 141: 0.08058614233717293\n",
      "MSE for epoch 142: 0.08092115911244928\n",
      "MSE for epoch 143: 0.08002217464104013\n",
      "MSE for epoch 144: 0.08079375661835429\n",
      "MSE for epoch 145: 0.08104757249532606\n",
      "MSE for epoch 146: 0.08008843839624527\n",
      "MSE for epoch 147: 0.07907330253334748\n",
      "MSE for epoch 148: 0.08054103844809596\n",
      "MSE for epoch 149: 0.07849505176445883\n",
      "MSE for epoch 150: 0.07846735831916186\n",
      "MSE for epoch 151: 0.07838716765778833\n",
      "MSE for epoch 152: 0.07819060566404158\n",
      "MSE for epoch 153: 0.07818755888629308\n",
      "MSE for epoch 154: 0.0778528274909433\n",
      "MSE for epoch 155: 0.07735292636223531\n",
      "MSE for epoch 156: 0.07720801976483986\n",
      "MSE for epoch 157: 0.07646239307952019\n",
      "MSE for epoch 158: 0.07526504918025911\n",
      "MSE for epoch 159: 0.0763510158646877\n",
      "MSE for epoch 160: 0.07659645763022109\n",
      "MSE for epoch 161: 0.075911402800552\n",
      "MSE for epoch 162: 0.07530482453685891\n",
      "MSE for epoch 163: 0.07555682317355181\n",
      "MSE for epoch 164: 0.0746137046726191\n",
      "MSE for epoch 165: 0.07339792965417397\n",
      "MSE for epoch 166: 0.07446014577925644\n",
      "MSE for epoch 167: 0.07410610794079035\n",
      "MSE for epoch 168: 0.07399805204281826\n",
      "MSE for epoch 169: 0.07273510097696129\n",
      "MSE for epoch 170: 0.07359160941708369\n",
      "MSE for epoch 171: 0.07387443105262356\n",
      "MSE for epoch 172: 0.07315033974598215\n",
      "MSE for epoch 173: 0.07307145337616108\n",
      "MSE for epoch 174: 0.07255102070767555\n",
      "MSE for epoch 175: 0.07261462363816654\n",
      "MSE for epoch 176: 0.07240576310452615\n",
      "MSE for epoch 177: 0.07194926069955977\n",
      "MSE for epoch 178: 0.07167904120923546\n",
      "MSE for epoch 179: 0.07198972239239045\n",
      "MSE for epoch 180: 0.0710687698641446\n",
      "MSE for epoch 181: 0.07084534435242791\n",
      "MSE for epoch 182: 0.07032537548686707\n",
      "MSE for epoch 183: 0.0707072570249318\n",
      "MSE for epoch 184: 0.06908833103818947\n",
      "MSE for epoch 185: 0.0699988487484998\n",
      "MSE for epoch 186: 0.07064740046727613\n",
      "MSE for epoch 187: 0.06913120801555259\n",
      "MSE for epoch 188: 0.06959447044247047\n",
      "MSE for epoch 189: 0.06842039467610021\n",
      "MSE for epoch 190: 0.06920217436227556\n",
      "MSE for epoch 191: 0.06914110769407726\n",
      "MSE for epoch 192: 0.06855031417380696\n",
      "MSE for epoch 193: 0.06864201826624224\n",
      "MSE for epoch 194: 0.06888489643276742\n",
      "MSE for epoch 195: 0.06756022299706219\n",
      "MSE for epoch 196: 0.06720218995688813\n",
      "MSE for epoch 197: 0.06733740510568252\n",
      "MSE for epoch 198: 0.06722840217590587\n",
      "MSE for epoch 199: 0.06711064070574549\n",
      "MSE for epoch 200: 0.0664954586497606\n",
      "MSE for epoch 201: 0.06704922135277629\n",
      "MSE for epoch 202: 0.06644543321730881\n",
      "MSE for epoch 203: 0.06613052280865442\n",
      "MSE for epoch 204: 0.06601391662617263\n",
      "MSE for epoch 205: 0.06524437841701339\n",
      "MSE for epoch 206: 0.06506033168695638\n",
      "MSE for epoch 207: 0.06474543327351585\n",
      "MSE for epoch 208: 0.06575024311687981\n",
      "MSE for epoch 209: 0.06500311072500205\n",
      "MSE for epoch 210: 0.06528746145167388\n",
      "MSE for epoch 211: 0.06390874673139095\n",
      "MSE for epoch 212: 0.06543869353930802\n",
      "MSE for epoch 213: 0.06501722425711834\n",
      "MSE for epoch 214: 0.06367118384923597\n",
      "MSE for epoch 215: 0.06490810003367141\n",
      "MSE for epoch 216: 0.0642266417758259\n",
      "MSE for epoch 217: 0.06351487316940183\n",
      "MSE for epoch 218: 0.0631991033004495\n",
      "MSE for epoch 219: 0.06382055656149332\n",
      "MSE for epoch 220: 0.06319389954354279\n",
      "MSE for epoch 221: 0.06348790246214141\n",
      "MSE for epoch 222: 0.06363224204391797\n",
      "MSE for epoch 223: 0.06272453622109976\n",
      "MSE for epoch 224: 0.062430288806360444\n",
      "MSE for epoch 225: 0.06180118028115656\n",
      "MSE for epoch 226: 0.06195775872899978\n",
      "MSE for epoch 227: 0.06293072775968253\n",
      "MSE for epoch 228: 0.06175435479415835\n",
      "MSE for epoch 229: 0.06150627149630064\n",
      "MSE for epoch 230: 0.061806449443292805\n",
      "MSE for epoch 231: 0.061458434533069935\n",
      "MSE for epoch 232: 0.062051134299161925\n",
      "MSE for epoch 233: 0.06177326875407015\n",
      "MSE for epoch 234: 0.06140188208378832\n",
      "MSE for epoch 235: 0.060838850232337975\n",
      "MSE for epoch 236: 0.060328415568352674\n",
      "MSE for epoch 237: 0.06014521811522214\n",
      "MSE for epoch 238: 0.060369578210464896\n",
      "MSE for epoch 239: 0.05936391932093292\n",
      "MSE for epoch 240: 0.06014596114177069\n",
      "MSE for epoch 241: 0.06019519398847048\n",
      "MSE for epoch 242: 0.059546679384862106\n",
      "MSE for epoch 243: 0.06040382432161132\n",
      "MSE for epoch 244: 0.05910830731174069\n",
      "MSE for epoch 245: 0.05919421039611253\n",
      "MSE for epoch 246: 0.05883544137216943\n",
      "MSE for epoch 247: 0.05876397306848444\n",
      "MSE for epoch 248: 0.05871846186885888\n",
      "MSE for epoch 249: 0.05847276532096421\n",
      "MSE for epoch 250: 0.058354838503039144\n",
      "MSE for epoch 251: 0.05721012398783444\n",
      "MSE for epoch 252: 0.05795454799790528\n",
      "MSE for epoch 253: 0.05845046102299652\n",
      "MSE for epoch 254: 0.058325468296723505\n",
      "MSE for epoch 255: 0.0582575634469983\n",
      "MSE for epoch 256: 0.05742139817236848\n",
      "MSE for epoch 257: 0.058772262108893365\n",
      "MSE for epoch 258: 0.057143313554717474\n",
      "MSE for epoch 259: 0.05689956305248079\n",
      "MSE for epoch 260: 0.05715431741414674\n",
      "MSE for epoch 261: 0.05734476943085626\n",
      "MSE for epoch 262: 0.05732688858819863\n",
      "MSE for epoch 263: 0.057410660491952877\n",
      "MSE for epoch 264: 0.05732948907441241\n",
      "MSE for epoch 265: 0.05659754083037092\n",
      "MSE for epoch 266: 0.056958983467851464\n",
      "MSE for epoch 267: 0.05595747942203723\n",
      "MSE for epoch 268: 0.0561042110921396\n",
      "MSE for epoch 269: 0.05587616687739511\n",
      "MSE for epoch 270: 0.05612121009642235\n",
      "MSE for epoch 271: 0.05553038390907719\n",
      "MSE for epoch 272: 0.05626631762501322\n",
      "MSE for epoch 273: 0.05493598492113291\n",
      "MSE for epoch 274: 0.055298083231992645\n",
      "MSE for epoch 275: 0.05503806225024843\n",
      "MSE for epoch 276: 0.05428406952500714\n",
      "MSE for epoch 277: 0.05541438259210579\n",
      "MSE for epoch 278: 0.054906344409015845\n",
      "MSE for epoch 279: 0.05451833681666707\n",
      "MSE for epoch 280: 0.05489295318736217\n",
      "MSE for epoch 281: 0.05416947270139991\n",
      "MSE for epoch 282: 0.05370995258580859\n",
      "MSE for epoch 283: 0.054977013638758905\n",
      "MSE for epoch 284: 0.05334136154143628\n",
      "MSE for epoch 285: 0.053780263032115964\n",
      "MSE for epoch 286: 0.05378285705114321\n",
      "MSE for epoch 287: 0.05492138827123143\n",
      "MSE for epoch 288: 0.05398441795810602\n",
      "MSE for epoch 289: 0.05369451191571561\n",
      "MSE for epoch 290: 0.05302780539618755\n",
      "MSE for epoch 291: 0.052643907769225846\n",
      "MSE for epoch 292: 0.05308663817241621\n",
      "MSE for epoch 293: 0.05313150621349908\n",
      "MSE for epoch 294: 0.05348658347866442\n",
      "MSE for epoch 295: 0.052428614898131325\n",
      "MSE for epoch 296: 0.052296406552752056\n",
      "MSE for epoch 297: 0.05173974768250095\n",
      "MSE for epoch 298: 0.05183807411584457\n",
      "MSE for epoch 299: 0.05283007706960777\n"
     ]
    }
   ],
   "source": [
    "rbm.train_model(train_data, n_epoch=300)"
   ]
  },
  {
   "cell_type": "code",
   "execution_count": 173,
   "metadata": {},
   "outputs": [
    {
     "data": {
      "text/plain": [
       "<matplotlib.image.AxesImage at 0x2fb113c2c70>"
      ]
     },
     "execution_count": 173,
     "metadata": {},
     "output_type": "execute_result"
    },
    {
     "data": {
      "image/png": "[encoded data removed]",
      "text/plain": [
       "<Figure size 432x288 with 1 Axes>"
      ]
     },
     "metadata": {
      "needs_background": "light"
     },
     "output_type": "display_data"
    }
   ],
   "source": [
    "plt.imshow(data[39*6].reshape(20,16), cmap='Greys_r')"
   ]
  },
  {
   "cell_type": "code",
   "execution_count": 177,
   "metadata": {},
   "outputs": [
    {
     "data": {
      "text/plain": [
       "<matplotlib.image.AxesImage at 0x2fb114cfa90>"
      ]
     },
     "execution_count": 177,
     "metadata": {},
     "output_type": "execute_result"
    },
    {
     "data": {
      "image/png": "[encoded data removed]",
      "text/plain": [
       "<Figure size 432x288 with 1 Axes>"
      ]
     },
     "metadata": {
      "needs_background": "light"
     },
     "output_type": "display_data"
    }
   ],
   "source": [
    "plt.imshow(rbm.reconstruct(data[39*6].T)[0].reshape(20,16), cmap='Greys_r')"
   ]
  },
  {
   "cell_type": "code",
   "execution_count": 175,
   "metadata": {},
   "outputs": [],
   "source": [
    "generated_images = rbm.generate_image(iter_gibbs=100, number_image=100)"
   ]
  },
  {
   "cell_type": "code",
   "execution_count": 194,
   "metadata": {},
   "outputs": [
    {
     "data": {
      "text/plain": [
       "<matplotlib.image.AxesImage at 0x2fb12a9f0a0>"
      ]
     },
     "execution_count": 194,
     "metadata": {},
     "output_type": "execute_result"
    },
    {
     "data": {
      "image/png": "[encoded data removed]",
      "text/plain": [
       "<Figure size 432x288 with 1 Axes>"
      ]
     },
     "metadata": {
      "needs_background": "light"
     },
     "output_type": "display_data"
    }
   ],
   "source": [
    "plt.imshow(generated_images[55].reshape(20,16), cmap='Greys_r')"
   ]
  }
 ],
 "metadata": {
  "interpreter": {
   "hash": "7e2f77450d574f743a6d9d7e6faf87aa64c8f9c3d83f2013a355475f93227b48"
  },
  "kernelspec": {
   "display_name": "Python 3.8.8 ('data')",
   "language": "python",
   "name": "python3"
  },
  "language_info": {
   "codemirror_mode": {
    "name": "ipython",
    "version": 3
   },
   "file_extension": ".py",
   "mimetype": "text/x-python",
   "name": "python",
   "nbconvert_exporter": "python",
   "pygments_lexer": "ipython3",
   "version": "3.8.8"
  },
  "orig_nbformat": 4
 },
 "nbformat": 4,
 "nbformat_minor": 2
}
