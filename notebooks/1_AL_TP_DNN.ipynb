{
 "cells": [
  {
   "cell_type": "markdown",
   "metadata": {},
   "source": [
    "# First, let's load the MNIST dataset"
   ]
  },
  {
   "cell_type": "code",
   "execution_count": 3,
   "metadata": {},
   "outputs": [],
   "source": [
    "import numpy as np\n",
    "import matplotlib.pyplot as plt"
   ]
  },
  {
   "cell_type": "code",
   "execution_count": 4,
   "metadata": {},
   "outputs": [
    {
     "ename": "ModuleNotFoundError",
     "evalue": "No module named 'torch'",
     "output_type": "error",
     "traceback": [
      "\u001b[1;31m---------------------------------------------------------------------------\u001b[0m",
      "\u001b[1;31mModuleNotFoundError\u001b[0m                       Traceback (most recent call last)",
      "\u001b[1;32m<ipython-input-4-797e344fc36a>\u001b[0m in \u001b[0;36m<module>\u001b[1;34m\u001b[0m\n\u001b[0;32m      1\u001b[0m \u001b[1;32mimport\u001b[0m \u001b[0mrequests\u001b[0m \u001b[1;31m# for alpha-binary digits\u001b[0m\u001b[1;33m\u001b[0m\u001b[1;33m\u001b[0m\u001b[0m\n\u001b[0;32m      2\u001b[0m \u001b[1;33m\u001b[0m\u001b[0m\n\u001b[1;32m----> 3\u001b[1;33m \u001b[1;32mimport\u001b[0m \u001b[0mtorch\u001b[0m\u001b[1;33m\u001b[0m\u001b[1;33m\u001b[0m\u001b[0m\n\u001b[0m\u001b[0;32m      4\u001b[0m \u001b[1;32mfrom\u001b[0m \u001b[0mtorchvision\u001b[0m \u001b[1;32mimport\u001b[0m \u001b[0mdatasets\u001b[0m\u001b[1;33m,\u001b[0m \u001b[0mtransforms\u001b[0m \u001b[1;31m# for MNIST\u001b[0m\u001b[1;33m\u001b[0m\u001b[1;33m\u001b[0m\u001b[0m\n",
      "\u001b[1;31mModuleNotFoundError\u001b[0m: No module named 'torch'"
     ]
    }
   ],
   "source": [
    "import requests # for alpha-binary digits\n",
    "\n",
    "# import torch\n",
    "# from torchvision import datasets, transforms # for MNIST"
   ]
  },
  {
   "cell_type": "markdown",
   "metadata": {},
   "source": [
    "### Downloading, preprocessing & loading MNIST"
   ]
  },
  {
   "cell_type": "code",
   "execution_count": null,
   "metadata": {},
   "outputs": [],
   "source": [
    "# Define a transform to normalize the data\n",
    "transform = transforms.Compose([transforms.ToTensor(),\n",
    "                                transforms.Normalize((0.5,), (0.5,))])\n",
    "# Download and load the training data\n",
    "trainset = datasets.MNIST('../data/processed', download=False, train=True, transform=transform)\n",
    "trainloader = torch.utils.data.DataLoader(trainset, batch_size=64, shuffle=True)\n",
    "# Download and load the test data\n",
    "testset = datasets.MNIST('../data/processed', download=False, train=False, transform=transform)\n",
    "testloader = torch.utils.data.DataLoader(testset, batch_size=64, shuffle=True)\n"
   ]
  },
  {
   "cell_type": "code",
   "execution_count": null,
   "metadata": {},
   "outputs": [],
   "source": [
    "dataiter = iter(trainloader)"
   ]
  },
  {
   "cell_type": "code",
   "execution_count": null,
   "metadata": {},
   "outputs": [],
   "source": [
    "images, labels = dataiter.next()"
   ]
  },
  {
   "cell_type": "code",
   "execution_count": null,
   "metadata": {},
   "outputs": [
    {
     "name": "stdout",
     "output_type": "stream",
     "text": [
      "torch.Size([64, 1, 28, 28]) torch.Size([64])\n"
     ]
    }
   ],
   "source": [
    "print(images.shape, labels.shape) #loading 64 images of shape 28x28"
   ]
  },
  {
   "cell_type": "code",
   "execution_count": null,
   "metadata": {},
   "outputs": [
    {
     "data": {
      "text/plain": [
       "<matplotlib.image.AxesImage at 0x1fc7caddb20>"
      ]
     },
     "execution_count": 8,
     "metadata": {},
     "output_type": "execute_result"
    },
    {
     "data": {
      "image/png": "[encoded data removed]",
      "text/plain": [
       "<Figure size 432x288 with 1 Axes>"
      ]
     },
     "metadata": {
      "needs_background": "light"
     },
     "output_type": "display_data"
    }
   ],
   "source": [
    "plt.imshow(images[0].squeeze(), cmap='Greys_r')"
   ]
  },
  {
   "cell_type": "markdown",
   "metadata": {},
   "source": [
    "---"
   ]
  },
  {
   "cell_type": "markdown",
   "metadata": {},
   "source": [
    "### Downloading AlphaBinary"
   ]
  },
  {
   "cell_type": "code",
   "execution_count": 7,
   "metadata": {},
   "outputs": [],
   "source": [
    "# alpha_binary_mat = requests.get('https://cs.nyu.edu/~roweis/data/binaryalphadigs.mat')"
   ]
  },
  {
   "cell_type": "code",
   "execution_count": 8,
   "metadata": {},
   "outputs": [],
   "source": [
    "# with open('../data/raw/alpha_binary.mat', 'wb') as f:\n",
    "    # f.write(alpha_binary_mat.content)"
   ]
  },
  {
   "cell_type": "markdown",
   "metadata": {},
   "source": [
    "### Preprocessing AlphaBinary"
   ]
  },
  {
   "cell_type": "code",
   "execution_count": 4,
   "metadata": {},
   "outputs": [],
   "source": [
    "import scipy.io"
   ]
  },
  {
   "cell_type": "code",
   "execution_count": 5,
   "metadata": {},
   "outputs": [],
   "source": [
    "file_mat = '../data/raw/alpha_binary.mat'\n",
    "mat = scipy.io.loadmat(file_mat)"
   ]
  },
  {
   "cell_type": "code",
   "execution_count": 6,
   "metadata": {},
   "outputs": [
    {
     "data": {
      "text/plain": [
       "dict"
      ]
     },
     "execution_count": 6,
     "metadata": {},
     "output_type": "execute_result"
    }
   ],
   "source": [
    "type(mat)"
   ]
  },
  {
   "cell_type": "code",
   "execution_count": 7,
   "metadata": {},
   "outputs": [
    {
     "data": {
      "text/plain": [
       "dict_keys(['__header__', '__version__', '__globals__', 'dat', 'numclass', 'classlabels', 'classcounts'])"
      ]
     },
     "execution_count": 7,
     "metadata": {},
     "output_type": "execute_result"
    }
   ],
   "source": [
    "mat.keys()"
   ]
  },
  {
   "cell_type": "code",
   "execution_count": 8,
   "metadata": {},
   "outputs": [
    {
     "data": {
      "text/plain": [
       "(36, 39)"
      ]
     },
     "execution_count": 8,
     "metadata": {},
     "output_type": "execute_result"
    }
   ],
   "source": [
    "mat['dat'].shape # 39 samples for each of the 36 classes - 10 digits & 26 letters"
   ]
  },
  {
   "cell_type": "code",
   "execution_count": 9,
   "metadata": {},
   "outputs": [
    {
     "data": {
      "text/plain": [
       "array([array(['0'], dtype='<U1'), array(['1'], dtype='<U1'),\n",
       "       array(['2'], dtype='<U1'), array(['3'], dtype='<U1'),\n",
       "       array(['4'], dtype='<U1'), array(['5'], dtype='<U1'),\n",
       "       array(['6'], dtype='<U1'), array(['7'], dtype='<U1'),\n",
       "       array(['8'], dtype='<U1'), array(['9'], dtype='<U1'),\n",
       "       array(['A'], dtype='<U1'), array(['B'], dtype='<U1'),\n",
       "       array(['C'], dtype='<U1'), array(['D'], dtype='<U1'),\n",
       "       array(['E'], dtype='<U1'), array(['F'], dtype='<U1'),\n",
       "       array(['G'], dtype='<U1'), array(['H'], dtype='<U1'),\n",
       "       array(['I'], dtype='<U1'), array(['J'], dtype='<U1'),\n",
       "       array(['K'], dtype='<U1'), array(['L'], dtype='<U1'),\n",
       "       array(['M'], dtype='<U1'), array(['N'], dtype='<U1'),\n",
       "       array(['O'], dtype='<U1'), array(['P'], dtype='<U1'),\n",
       "       array(['Q'], dtype='<U1'), array(['R'], dtype='<U1'),\n",
       "       array(['S'], dtype='<U1'), array(['T'], dtype='<U1'),\n",
       "       array(['U'], dtype='<U1'), array(['V'], dtype='<U1'),\n",
       "       array(['W'], dtype='<U1'), array(['X'], dtype='<U1'),\n",
       "       array(['Y'], dtype='<U1'), array(['Z'], dtype='<U1')], dtype=object)"
      ]
     },
     "execution_count": 9,
     "metadata": {},
     "output_type": "execute_result"
    }
   ],
   "source": [
    "mat['classlabels'][0]"
   ]
  },
  {
   "cell_type": "code",
   "execution_count": 10,
   "metadata": {},
   "outputs": [],
   "source": [
    "labels = np.array([label.item() for label in mat['classlabels'][0]])"
   ]
  },
  {
   "cell_type": "code",
   "execution_count": 11,
   "metadata": {},
   "outputs": [
    {
     "data": {
      "text/plain": [
       "array(['0', '1', '2', '3', '4', '5', '6', '7', '8', '9', 'A', 'B', 'C',\n",
       "       'D', 'E', 'F', 'G', 'H', 'I', 'J', 'K', 'L', 'M', 'N', 'O', 'P',\n",
       "       'Q', 'R', 'S', 'T', 'U', 'V', 'W', 'X', 'Y', 'Z'], dtype='<U1')"
      ]
     },
     "execution_count": 11,
     "metadata": {},
     "output_type": "execute_result"
    }
   ],
   "source": [
    "labels"
   ]
  },
  {
   "cell_type": "markdown",
   "metadata": {},
   "source": [
    "---"
   ]
  },
  {
   "cell_type": "code",
   "execution_count": 12,
   "metadata": {},
   "outputs": [],
   "source": [
    "images = mat['dat']"
   ]
  },
  {
   "cell_type": "code",
   "execution_count": 13,
   "metadata": {},
   "outputs": [
    {
     "data": {
      "text/plain": [
       "<matplotlib.image.AxesImage at 0x21e0094df40>"
      ]
     },
     "execution_count": 13,
     "metadata": {},
     "output_type": "execute_result"
    },
    {
     "data": {
      "image/png": "[encoded data removed]",
      "text/plain": [
       "<Figure size 432x288 with 1 Axes>"
      ]
     },
     "metadata": {
      "needs_background": "light"
     },
     "output_type": "display_data"
    }
   ],
   "source": [
    "plt.imshow(images[3][0], cmap='Greys_r')"
   ]
  },
  {
   "cell_type": "code",
   "execution_count": 14,
   "metadata": {},
   "outputs": [
    {
     "data": {
      "text/plain": [
       "<matplotlib.image.AxesImage at 0x21e00c914c0>"
      ]
     },
     "execution_count": 14,
     "metadata": {},
     "output_type": "execute_result"
    },
    {
     "data": {
      "image/png": "[encoded data removed]",
      "text/plain": [
       "<Figure size 432x288 with 1 Axes>"
      ]
     },
     "metadata": {
      "needs_background": "light"
     },
     "output_type": "display_data"
    }
   ],
   "source": [
    "plt.imshow(images[10][0], cmap='Greys_r')"
   ]
  },
  {
   "cell_type": "code",
   "execution_count": 15,
   "metadata": {},
   "outputs": [],
   "source": [
    "labels_array = []"
   ]
  },
  {
   "cell_type": "code",
   "execution_count": 16,
   "metadata": {},
   "outputs": [],
   "source": [
    "for index, classe in enumerate(images):\n",
    "    for image in classe:\n",
    "        labels_array.append(labels[index])\n",
    "\n",
    "labels_array = np.array(labels_array)"
   ]
  },
  {
   "cell_type": "code",
   "execution_count": 17,
   "metadata": {},
   "outputs": [
    {
     "data": {
      "text/plain": [
       "True"
      ]
     },
     "execution_count": 17,
     "metadata": {},
     "output_type": "execute_result"
    }
   ],
   "source": [
    "labels_array.shape[0] == 36*39"
   ]
  },
  {
   "cell_type": "code",
   "execution_count": 18,
   "metadata": {},
   "outputs": [
    {
     "data": {
      "text/plain": [
       "('0', '0', '1')"
      ]
     },
     "execution_count": 18,
     "metadata": {},
     "output_type": "execute_result"
    }
   ],
   "source": [
    "labels_array[0], labels_array[38], labels_array[39]"
   ]
  },
  {
   "cell_type": "markdown",
   "metadata": {},
   "source": [
    "---"
   ]
  },
  {
   "cell_type": "code",
   "execution_count": 19,
   "metadata": {},
   "outputs": [
    {
     "data": {
      "text/plain": [
       "(320,)"
      ]
     },
     "execution_count": 19,
     "metadata": {},
     "output_type": "execute_result"
    }
   ],
   "source": [
    "images[0][0].flatten().shape"
   ]
  },
  {
   "cell_type": "code",
   "execution_count": 20,
   "metadata": {},
   "outputs": [
    {
     "data": {
      "text/plain": [
       "(20, 16)"
      ]
     },
     "execution_count": 20,
     "metadata": {},
     "output_type": "execute_result"
    }
   ],
   "source": [
    "images[0][0].shape"
   ]
  },
  {
   "cell_type": "code",
   "execution_count": 21,
   "metadata": {},
   "outputs": [],
   "source": [
    "def lire_alpha_digit(all_images, classes:list):\n",
    "    data = []\n",
    "    for cls in classes:\n",
    "        for image in all_images[cls]:\n",
    "            data.append(image.flatten().reshape(-1,1))\n",
    "    \n",
    "    return np.array(data)"
   ]
  },
  {
   "cell_type": "markdown",
   "metadata": {},
   "source": [
    "All our data has been loaded and is ready to be used in a python data environment !"
   ]
  },
  {
   "cell_type": "markdown",
   "metadata": {},
   "source": [
    "---"
   ]
  },
  {
   "cell_type": "markdown",
   "metadata": {},
   "source": [
    "# Creating NN classes & methods\n",
    "### RBM"
   ]
  },
  {
   "cell_type": "code",
   "execution_count": 22,
   "metadata": {},
   "outputs": [],
   "source": [
    "def sigmoid(x):\n",
    "    return 1 / (1 + np.exp(-x))"
   ]
  },
  {
   "cell_type": "code",
   "execution_count": 23,
   "metadata": {},
   "outputs": [],
   "source": [
    "def logistic(x,w,b):\n",
    "   xw = np.dot(x, w)\n",
    "   replicated_b = np.tile(b, (x.shape[0], 1))\n",
    "\n",
    "   return 1.0 / (1 + np.exp(- xw - b))"
   ]
  },
  {
   "cell_type": "code",
   "execution_count": 24,
   "metadata": {},
   "outputs": [],
   "source": [
    "class RBM:\n",
    "    \n",
    "    def __init__(self, n_v, n_h, W=None, b=None, c=None, k=1):\n",
    "        assert n_v != 0 and n_h != 0\n",
    "        self.n_v = n_v\n",
    "        self.n_h = n_h\n",
    "        shape = (n_h, n_v)\n",
    "        \n",
    "        self.W = W if W is not None else np.random.uniform(-1, 1, size=shape)\n",
    "        self.b = b if b is not None else np.zeros(n_v)\n",
    "        self.c = c if c is not None else np.zeros(n_h)\n",
    "\n",
    "        assert self.W.shape==shape and n_v == len(self.b) and n_h == len(self.c)\n",
    "        \n",
    "        self.k = k\n",
    "        return\n",
    "        \n",
    "    def forward(self, V):\n",
    "        n_sample, n_v = V.shape\n",
    "        \n",
    "        hsignal = np.dot(V, self.W.T) + self.c\n",
    "        assert hsignal.shape == (n_sample, self.n_h)\n",
    "        Hp = sigmoid(hsignal)\n",
    "        \n",
    "        #s = np.random.uniform(0, 1, size=hsignal.shape)\n",
    "        #Hs = (s < Hp) * 1  # same as:\n",
    "        Hs = np.random.binomial(1, Hp, size=Hp.shape)\n",
    "        return Hp, Hs\n",
    "    \n",
    "    def backward(self, H):\n",
    "        n_sample, n_h = H.shape\n",
    "        \n",
    "        vsignal = np.dot(H, self.W) + self.b\n",
    "        assert vsignal.shape == (n_sample, self.n_v)\n",
    "        #print(vsignal)\n",
    "        Vp = sigmoid(vsignal)\n",
    "        \n",
    "        s = np.random.uniform(0, 1, size=vsignal.shape)\n",
    "        Vs = (s < Vp) * 1\n",
    "        return Vp, Vs\n",
    "\n",
    "    def gibbs(self, V):  #return (probability, samples) of visible units\n",
    "        Vs = V\n",
    "        for i in range(self.k):\n",
    "            Hp, Hs = self.forward(Vs)\n",
    "            Vp, Vs = self.backward(Hs)\n",
    "            \n",
    "        return Hp, Hs, Vp, Vs\n",
    "    \n",
    "    def contrastive_divergence(self, V, learning=0.01):\n",
    "        #set_trace()\n",
    "        n_sample, n_v = V.shape\n",
    "        \n",
    "        Vs = V\n",
    "        Hp, Hs, Vp_, Vs_ = self.gibbs(Vs)   # underscore _ refers to tilde for negative sample\n",
    "        Hp_, Hs_ = self.forward(Vs_)\n",
    "\n",
    "        Vs1 = np.mean(Vs, axis=0) \n",
    "        Vs2 = np.mean(Vs_, axis=0) \n",
    "        Hp1 = np.mean(Hp, axis=0)\n",
    "        Hp2 = np.mean(Hp_, axis=0)\n",
    "        Hs1 = np.mean(Hs, axis=0)\n",
    "        Hs2 = np.mean(Hs_, axis=0)\n",
    "        \n",
    "        # note, there are variances in how to compute the gradients.\n",
    "        # Hugo suggests:     h(v1)*v1 - h(v2)*v2\n",
    "        # Bengio suggests:   h1*v1 - h(v2)*v2\n",
    "        # My derivation:     h1(v1)*v1 - h2*v2 \n",
    "        \n",
    "        Eh_b = Vs1; Evh_b = Vs2      # Evh_b refers to the Expectation (over v and h) of -logP(v) gradient wrt b\n",
    "        \n",
    "        #Eh_c = Hs1; Evh_c = Hp2  # bengio\n",
    "        Eh_c = Hp1; Evh_c = Hp2  # hugo\n",
    "        #Eh_c = Hp1; Evh_c = Hs2  # Mine\n",
    "\n",
    "        g_b = Evh_b - Eh_b  # gradient of -logP(v) wrt b\n",
    "        g_c = Evh_c - Eh_c\n",
    "\n",
    "        Eh_W = np.outer(Eh_c, Eh_b) \n",
    "        Evh_W = np.outer(Evh_c, Evh_b)\n",
    "        g_W = Evh_W - Eh_W\n",
    "    \n",
    "        self.W -= g_W * learning\n",
    "        self.b -= g_b * learning\n",
    "        self.c -= g_c * learning        \n",
    "        return\n",
    "    \n",
    "    def reconstruct(self, V):\n",
    "        Hp, Hs = self.forward(V)\n",
    "        Vp, Vs = self.backward(Hp)\n",
    "        return Vp, Vs\n",
    "    \n",
    "    def train_model(self, train_data, n_epoch=100, batch_size=10, learning=0.01):\n",
    "        for _ in range(n_epoch):\n",
    "            MSE = []\n",
    "            data = train_data.copy()\n",
    "            np.random.shuffle(data)\n",
    "            for x in data:\n",
    "                self.contrastive_divergence(x.T, learning)\n",
    "                reconstructed = self.reconstruct(x.T)\n",
    "                MSE.append(((x.T - reconstructed)**2).sum()/len(x))\n",
    "            print(f'MSE for epoch {_}: {np.array(MSE).mean()}')                      \n",
    "        return\n",
    "    \n",
    "    def generate_image(self, iter_gibbs, number_image):\n",
    "        images = []\n",
    "        for _ in range(number_image):\n",
    "            v = np.zeros(self.n_v).reshape(1, -1)\n",
    "            for _ in range(iter_gibbs):\n",
    "                _, v = self.reconstruct(v)\n",
    "            images.append(v)\n",
    "        return images"
   ]
  },
  {
   "cell_type": "markdown",
   "metadata": {},
   "source": [
    "---"
   ]
  },
  {
   "cell_type": "code",
   "execution_count": 27,
   "metadata": {},
   "outputs": [],
   "source": [
    "rbm = RBM(20*16, 20*8)"
   ]
  },
  {
   "cell_type": "code",
   "execution_count": 28,
   "metadata": {},
   "outputs": [],
   "source": [
    "data = lire_alpha_digit(images, [0, 1, 2])"
   ]
  },
  {
   "cell_type": "code",
   "execution_count": 29,
   "metadata": {},
   "outputs": [],
   "source": [
    "# train_data = list(zip(data, labels_array[:39*3]))"
   ]
  },
  {
   "cell_type": "code",
   "execution_count": 30,
   "metadata": {},
   "outputs": [
    {
     "name": "stdout",
     "output_type": "stream",
     "text": [
      "MSE for epoch 0: 0.4319331750591681\n",
      "MSE for epoch 1: 0.3614230211788333\n",
      "MSE for epoch 2: 0.3213852960073422\n",
      "MSE for epoch 3: 0.29636541179495807\n",
      "MSE for epoch 4: 0.2799738540656677\n",
      "MSE for epoch 5: 0.2622202961537549\n",
      "MSE for epoch 6: 0.24985763423291468\n",
      "MSE for epoch 7: 0.2370433076905137\n",
      "MSE for epoch 8: 0.2331360712693306\n",
      "MSE for epoch 9: 0.2211448645646698\n",
      "MSE for epoch 10: 0.21528874182486127\n",
      "MSE for epoch 11: 0.20484305284210239\n",
      "MSE for epoch 12: 0.1966981152293319\n",
      "MSE for epoch 13: 0.19226622565619983\n",
      "MSE for epoch 14: 0.1884218012201715\n",
      "MSE for epoch 15: 0.18419116391020296\n",
      "MSE for epoch 16: 0.1807247391993347\n",
      "MSE for epoch 17: 0.17275727606352637\n",
      "MSE for epoch 18: 0.16740586196033774\n",
      "MSE for epoch 19: 0.16353921909159647\n",
      "MSE for epoch 20: 0.16226351316872653\n",
      "MSE for epoch 21: 0.15775539508097836\n",
      "MSE for epoch 22: 0.15592087276521002\n",
      "MSE for epoch 23: 0.14987356556853845\n",
      "MSE for epoch 24: 0.14384707375119798\n",
      "MSE for epoch 25: 0.14260554939893055\n",
      "MSE for epoch 26: 0.14077391972669248\n",
      "MSE for epoch 27: 0.13940104578813153\n",
      "MSE for epoch 28: 0.13472926651239395\n",
      "MSE for epoch 29: 0.13046403020522254\n",
      "MSE for epoch 30: 0.13113665299569546\n",
      "MSE for epoch 31: 0.1295169819374096\n",
      "MSE for epoch 32: 0.1263334567562563\n",
      "MSE for epoch 33: 0.12461652298086756\n",
      "MSE for epoch 34: 0.12226657908992387\n",
      "MSE for epoch 35: 0.12156357249221648\n",
      "MSE for epoch 36: 0.11621109175228726\n",
      "MSE for epoch 37: 0.1136626231815626\n",
      "MSE for epoch 38: 0.11243938018175714\n",
      "MSE for epoch 39: 0.11081018303612876\n",
      "MSE for epoch 40: 0.10954450742409282\n",
      "MSE for epoch 41: 0.11060184771256412\n",
      "MSE for epoch 42: 0.10897603786365018\n",
      "MSE for epoch 43: 0.10702203456623732\n",
      "MSE for epoch 44: 0.10268015503032012\n",
      "MSE for epoch 45: 0.10174399834443545\n",
      "MSE for epoch 46: 0.10146668244046787\n",
      "MSE for epoch 47: 0.09866650849123311\n",
      "MSE for epoch 48: 0.09695171370886727\n",
      "MSE for epoch 49: 0.0968230844075635\n",
      "MSE for epoch 50: 0.09668761910542863\n",
      "MSE for epoch 51: 0.09434585506143929\n",
      "MSE for epoch 52: 0.09399463068911287\n",
      "MSE for epoch 53: 0.09254292198635992\n",
      "MSE for epoch 54: 0.09099592442968536\n",
      "MSE for epoch 55: 0.09008314017131991\n",
      "MSE for epoch 56: 0.09047044731726185\n",
      "MSE for epoch 57: 0.08706562331663388\n",
      "MSE for epoch 58: 0.08648833069752197\n",
      "MSE for epoch 59: 0.0849517545437394\n",
      "MSE for epoch 60: 0.08462750929605078\n",
      "MSE for epoch 61: 0.08447112996611479\n",
      "MSE for epoch 62: 0.08333134897420101\n",
      "MSE for epoch 63: 0.0810157763356138\n",
      "MSE for epoch 64: 0.08249377455943827\n",
      "MSE for epoch 65: 0.07860667901852561\n",
      "MSE for epoch 66: 0.07995311389005395\n",
      "MSE for epoch 67: 0.07874988526378596\n",
      "MSE for epoch 68: 0.07848007368363748\n",
      "MSE for epoch 69: 0.07692934005838738\n",
      "MSE for epoch 70: 0.07756565763230701\n",
      "MSE for epoch 71: 0.07670511860519323\n",
      "MSE for epoch 72: 0.07404844744773144\n",
      "MSE for epoch 73: 0.07481229198214107\n",
      "MSE for epoch 74: 0.07143834549733703\n",
      "MSE for epoch 75: 0.07235261879254538\n",
      "MSE for epoch 76: 0.07059292741008498\n",
      "MSE for epoch 77: 0.07034091717753733\n",
      "MSE for epoch 78: 0.0714832923879498\n",
      "MSE for epoch 79: 0.06707110022867646\n",
      "MSE for epoch 80: 0.0694461988844955\n",
      "MSE for epoch 81: 0.06982962611355492\n",
      "MSE for epoch 82: 0.06778372046946268\n",
      "MSE for epoch 83: 0.06703286771297362\n",
      "MSE for epoch 84: 0.06598861397680769\n",
      "MSE for epoch 85: 0.06546932121771118\n",
      "MSE for epoch 86: 0.06460775658719996\n",
      "MSE for epoch 87: 0.06425461469969657\n",
      "MSE for epoch 88: 0.06464305776736623\n",
      "MSE for epoch 89: 0.06469570845614873\n",
      "MSE for epoch 90: 0.06382919467577107\n",
      "MSE for epoch 91: 0.06293526922164426\n",
      "MSE for epoch 92: 0.0614253933581434\n",
      "MSE for epoch 93: 0.062202732262477\n",
      "MSE for epoch 94: 0.05992491171735393\n",
      "MSE for epoch 95: 0.05930253388317415\n",
      "MSE for epoch 96: 0.06139581224593976\n",
      "MSE for epoch 97: 0.058981290278843225\n",
      "MSE for epoch 98: 0.06147456152664039\n",
      "MSE for epoch 99: 0.05812335856825742\n",
      "MSE for epoch 100: 0.060200735762500825\n",
      "MSE for epoch 101: 0.05722754609076024\n",
      "MSE for epoch 102: 0.05729133943226082\n",
      "MSE for epoch 103: 0.05815268720394136\n",
      "MSE for epoch 104: 0.058170807958406505\n",
      "MSE for epoch 105: 0.05646162772506353\n",
      "MSE for epoch 106: 0.057183769431181225\n",
      "MSE for epoch 107: 0.05613274634104649\n",
      "MSE for epoch 108: 0.05569430817226796\n",
      "MSE for epoch 109: 0.054027793307265405\n",
      "MSE for epoch 110: 0.05335157921026018\n",
      "MSE for epoch 111: 0.054945030406286635\n",
      "MSE for epoch 112: 0.055115554309164004\n",
      "MSE for epoch 113: 0.05400464128445077\n",
      "MSE for epoch 114: 0.05309923607247547\n",
      "MSE for epoch 115: 0.05149460731022625\n",
      "MSE for epoch 116: 0.05210845837455406\n",
      "MSE for epoch 117: 0.05074213030064898\n",
      "MSE for epoch 118: 0.05157331422936221\n",
      "MSE for epoch 119: 0.05196961667451999\n",
      "MSE for epoch 120: 0.05030929560744678\n",
      "MSE for epoch 121: 0.04985465067033756\n",
      "MSE for epoch 122: 0.05039373261067912\n",
      "MSE for epoch 123: 0.04899202202571563\n",
      "MSE for epoch 124: 0.04927984392410068\n",
      "MSE for epoch 125: 0.05053201922036502\n",
      "MSE for epoch 126: 0.04799367421975214\n",
      "MSE for epoch 127: 0.04867345416419963\n",
      "MSE for epoch 128: 0.04806127965838421\n",
      "MSE for epoch 129: 0.04891651673420088\n",
      "MSE for epoch 130: 0.04720044495570614\n",
      "MSE for epoch 131: 0.04733094180758307\n",
      "MSE for epoch 132: 0.048027499615485456\n",
      "MSE for epoch 133: 0.04771923885192638\n",
      "MSE for epoch 134: 0.0477111095154987\n",
      "MSE for epoch 135: 0.047019204544507205\n",
      "MSE for epoch 136: 0.04799218917021393\n",
      "MSE for epoch 137: 0.04605844219073581\n",
      "MSE for epoch 138: 0.046113540473066185\n",
      "MSE for epoch 139: 0.04602071615501533\n",
      "MSE for epoch 140: 0.046208492968109936\n",
      "MSE for epoch 141: 0.04562354193209736\n",
      "MSE for epoch 142: 0.04482071247502191\n",
      "MSE for epoch 143: 0.04553262958851983\n",
      "MSE for epoch 144: 0.04566033000926344\n",
      "MSE for epoch 145: 0.04367365868842551\n",
      "MSE for epoch 146: 0.044008797150495965\n",
      "MSE for epoch 147: 0.04381903088591738\n",
      "MSE for epoch 148: 0.043310784898178106\n",
      "MSE for epoch 149: 0.04495765025908609\n",
      "MSE for epoch 150: 0.043347944452427484\n",
      "MSE for epoch 151: 0.04220087697901579\n",
      "MSE for epoch 152: 0.04345240732811981\n",
      "MSE for epoch 153: 0.042933490406610895\n",
      "MSE for epoch 154: 0.041417959281797825\n",
      "MSE for epoch 155: 0.04180610215151991\n",
      "MSE for epoch 156: 0.041607500767036856\n",
      "MSE for epoch 157: 0.041961347680486004\n",
      "MSE for epoch 158: 0.04035725747531562\n",
      "MSE for epoch 159: 0.04199104505297939\n",
      "MSE for epoch 160: 0.0427289944164609\n",
      "MSE for epoch 161: 0.04053144955899929\n",
      "MSE for epoch 162: 0.039893006224708275\n",
      "MSE for epoch 163: 0.0401094002335018\n",
      "MSE for epoch 164: 0.04019293216960839\n",
      "MSE for epoch 165: 0.04009475656985884\n",
      "MSE for epoch 166: 0.041018394988005503\n",
      "MSE for epoch 167: 0.039157383674959356\n",
      "MSE for epoch 168: 0.03955175178022034\n",
      "MSE for epoch 169: 0.039461453760066593\n",
      "MSE for epoch 170: 0.03870116855149096\n",
      "MSE for epoch 171: 0.04030857598483685\n",
      "MSE for epoch 172: 0.04021437336733311\n",
      "MSE for epoch 173: 0.038801147765888735\n",
      "MSE for epoch 174: 0.03968979117575471\n",
      "MSE for epoch 175: 0.03877728847183874\n",
      "MSE for epoch 176: 0.03809680210227761\n",
      "MSE for epoch 177: 0.03772272521500012\n",
      "MSE for epoch 178: 0.0391085911305655\n",
      "MSE for epoch 179: 0.037265310641663954\n",
      "MSE for epoch 180: 0.03778785948174924\n",
      "MSE for epoch 181: 0.03743450696122322\n",
      "MSE for epoch 182: 0.03810540935235874\n",
      "MSE for epoch 183: 0.03695422698930315\n",
      "MSE for epoch 184: 0.03771741911246172\n",
      "MSE for epoch 185: 0.03749323667640514\n",
      "MSE for epoch 186: 0.03822479378630639\n",
      "MSE for epoch 187: 0.036582568231062255\n",
      "MSE for epoch 188: 0.03514506363421247\n",
      "MSE for epoch 189: 0.03717647281984416\n",
      "MSE for epoch 190: 0.036596943369570124\n",
      "MSE for epoch 191: 0.036882898035465066\n",
      "MSE for epoch 192: 0.03603449740070044\n",
      "MSE for epoch 193: 0.03664316281953647\n",
      "MSE for epoch 194: 0.03588725789759367\n",
      "MSE for epoch 195: 0.03568394969171127\n",
      "MSE for epoch 196: 0.03618059424914004\n",
      "MSE for epoch 197: 0.0348743514185206\n",
      "MSE for epoch 198: 0.034407594924467606\n",
      "MSE for epoch 199: 0.03475093299696842\n",
      "MSE for epoch 200: 0.03534649641371891\n",
      "MSE for epoch 201: 0.0331055994829451\n",
      "MSE for epoch 202: 0.032749357972794386\n",
      "MSE for epoch 203: 0.034142491680473716\n",
      "MSE for epoch 204: 0.03387513447814959\n",
      "MSE for epoch 205: 0.03420949948533085\n",
      "MSE for epoch 206: 0.03533229762536227\n",
      "MSE for epoch 207: 0.03445972452025466\n",
      "MSE for epoch 208: 0.03452298547988565\n",
      "MSE for epoch 209: 0.034206462420860714\n",
      "MSE for epoch 210: 0.03365535924706169\n",
      "MSE for epoch 211: 0.032158205554321063\n",
      "MSE for epoch 212: 0.032874708117034454\n",
      "MSE for epoch 213: 0.03343559954019938\n",
      "MSE for epoch 214: 0.03345564007169182\n",
      "MSE for epoch 215: 0.033373639314650934\n",
      "MSE for epoch 216: 0.032891160256531674\n",
      "MSE for epoch 217: 0.03273156797910011\n",
      "MSE for epoch 218: 0.03430773981503278\n",
      "MSE for epoch 219: 0.03196309015552293\n",
      "MSE for epoch 220: 0.03459781911037242\n",
      "MSE for epoch 221: 0.03168363557076048\n",
      "MSE for epoch 222: 0.03211120421123781\n",
      "MSE for epoch 223: 0.03071158395599404\n",
      "MSE for epoch 224: 0.0331850568895818\n",
      "MSE for epoch 225: 0.03259334487422419\n",
      "MSE for epoch 226: 0.03211463284031961\n",
      "MSE for epoch 227: 0.030904022776651555\n",
      "MSE for epoch 228: 0.031085491721279092\n",
      "MSE for epoch 229: 0.03128121298316582\n",
      "MSE for epoch 230: 0.0312964845462701\n",
      "MSE for epoch 231: 0.032159237593950896\n",
      "MSE for epoch 232: 0.03144314135186421\n",
      "MSE for epoch 233: 0.03121442812092989\n",
      "MSE for epoch 234: 0.02991183015859157\n",
      "MSE for epoch 235: 0.028952014229713916\n",
      "MSE for epoch 236: 0.031547408497385084\n",
      "MSE for epoch 237: 0.02979524681396974\n",
      "MSE for epoch 238: 0.029755664212048505\n",
      "MSE for epoch 239: 0.03107339981448232\n",
      "MSE for epoch 240: 0.029230727068005335\n",
      "MSE for epoch 241: 0.029725293856591128\n",
      "MSE for epoch 242: 0.03091996797277112\n",
      "MSE for epoch 243: 0.028553953904865613\n",
      "MSE for epoch 244: 0.030049138186066554\n",
      "MSE for epoch 245: 0.02901239164361017\n",
      "MSE for epoch 246: 0.028639354871052614\n",
      "MSE for epoch 247: 0.030219479429714053\n",
      "MSE for epoch 248: 0.030168256287427857\n",
      "MSE for epoch 249: 0.02932349947198954\n",
      "MSE for epoch 250: 0.028815076437553933\n",
      "MSE for epoch 251: 0.028730218358909834\n",
      "MSE for epoch 252: 0.02817009640875328\n",
      "MSE for epoch 253: 0.028493543103574492\n",
      "MSE for epoch 254: 0.029835811226274787\n",
      "MSE for epoch 255: 0.030099934173832617\n",
      "MSE for epoch 256: 0.02881432799846306\n",
      "MSE for epoch 257: 0.02926846993309721\n",
      "MSE for epoch 258: 0.030246786457171264\n",
      "MSE for epoch 259: 0.02847746940599433\n",
      "MSE for epoch 260: 0.028438372631687282\n",
      "MSE for epoch 261: 0.028749327544509196\n",
      "MSE for epoch 262: 0.02731864844336626\n",
      "MSE for epoch 263: 0.02849482752905066\n",
      "MSE for epoch 264: 0.02900542637383257\n",
      "MSE for epoch 265: 0.028060527099442286\n",
      "MSE for epoch 266: 0.028801243278709178\n",
      "MSE for epoch 267: 0.02706036125783214\n",
      "MSE for epoch 268: 0.0273416866381249\n",
      "MSE for epoch 269: 0.028200360225725852\n",
      "MSE for epoch 270: 0.028646222911082212\n",
      "MSE for epoch 271: 0.027769934134531295\n",
      "MSE for epoch 272: 0.027969923323950336\n",
      "MSE for epoch 273: 0.02800758823792325\n",
      "MSE for epoch 274: 0.028387710046514383\n",
      "MSE for epoch 275: 0.02891385115417834\n",
      "MSE for epoch 276: 0.026163451781150624\n",
      "MSE for epoch 277: 0.026342069808939127\n",
      "MSE for epoch 278: 0.02746440996451907\n",
      "MSE for epoch 279: 0.027140449055595067\n",
      "MSE for epoch 280: 0.02803905452627917\n",
      "MSE for epoch 281: 0.027051775882765645\n",
      "MSE for epoch 282: 0.02617185796382263\n",
      "MSE for epoch 283: 0.027035063722962216\n",
      "MSE for epoch 284: 0.02558750477094082\n",
      "MSE for epoch 285: 0.026144369486542675\n",
      "MSE for epoch 286: 0.025134919446834287\n",
      "MSE for epoch 287: 0.025309373173152756\n",
      "MSE for epoch 288: 0.02600946007945132\n",
      "MSE for epoch 289: 0.02589251960644105\n",
      "MSE for epoch 290: 0.02679965634813275\n",
      "MSE for epoch 291: 0.02661595417489312\n",
      "MSE for epoch 292: 0.025527727265892062\n",
      "MSE for epoch 293: 0.02521443412794251\n",
      "MSE for epoch 294: 0.025694692958718967\n",
      "MSE for epoch 295: 0.026256117914220764\n",
      "MSE for epoch 296: 0.026299138411672633\n",
      "MSE for epoch 297: 0.026148601699738747\n",
      "MSE for epoch 298: 0.025024185055575777\n",
      "MSE for epoch 299: 0.02646121299055099\n"
     ]
    }
   ],
   "source": [
    "rbm.train_model(data, n_epoch=300)"
   ]
  },
  {
   "cell_type": "code",
   "execution_count": 31,
   "metadata": {},
   "outputs": [
    {
     "data": {
      "text/plain": [
       "<matplotlib.image.AxesImage at 0x21e00d23640>"
      ]
     },
     "execution_count": 31,
     "metadata": {},
     "output_type": "execute_result"
    },
    {
     "data": {
      "image/png": "[encoded data removed]",
      "text/plain": [
       "<Figure size 432x288 with 1 Axes>"
      ]
     },
     "metadata": {
      "needs_background": "light"
     },
     "output_type": "display_data"
    }
   ],
   "source": [
    "plt.imshow(data[39*2].reshape(20,16), cmap='Greys_r')"
   ]
  },
  {
   "cell_type": "code",
   "execution_count": 32,
   "metadata": {},
   "outputs": [
    {
     "data": {
      "text/plain": [
       "<matplotlib.image.AxesImage at 0x21e00d77cd0>"
      ]
     },
     "execution_count": 32,
     "metadata": {},
     "output_type": "execute_result"
    },
    {
     "data": {
      "image/png": "[encoded data removed]",
      "text/plain": [
       "<Figure size 432x288 with 1 Axes>"
      ]
     },
     "metadata": {
      "needs_background": "light"
     },
     "output_type": "display_data"
    }
   ],
   "source": [
    "plt.imshow(rbm.reconstruct(data[39*2].T)[0].reshape(20,16), cmap='Greys_r')"
   ]
  },
  {
   "cell_type": "code",
   "execution_count": 33,
   "metadata": {},
   "outputs": [],
   "source": [
    "generated_images = rbm.generate_image(iter_gibbs=1000, number_image=100)"
   ]
  },
  {
   "cell_type": "code",
   "execution_count": 34,
   "metadata": {},
   "outputs": [
    {
     "data": {
      "text/plain": [
       "<matplotlib.image.AxesImage at 0x21e00dd70a0>"
      ]
     },
     "execution_count": 34,
     "metadata": {},
     "output_type": "execute_result"
    },
    {
     "data": {
      "image/png": "[encoded data removed]",
      "text/plain": [
       "<Figure size 432x288 with 1 Axes>"
      ]
     },
     "metadata": {
      "needs_background": "light"
     },
     "output_type": "display_data"
    }
   ],
   "source": [
    "plt.imshow(generated_images[39].reshape(20,16), cmap='Greys_r')"
   ]
  },
  {
   "cell_type": "markdown",
   "metadata": {},
   "source": [
    "---"
   ]
  },
  {
   "cell_type": "markdown",
   "metadata": {},
   "source": [
    "### DBN"
   ]
  },
  {
   "cell_type": "code",
   "execution_count": 40,
   "metadata": {},
   "outputs": [],
   "source": [
    "class DBN():\n",
    "    def __init__(self, n_v, layers, k=1):\n",
    "        \n",
    "        if n_v is None or layers is None: raise ValueError(\"Incorrect inputs for layer 0.\")\n",
    "        \n",
    "        n_hs = [n_v]        \n",
    "        n_layer = 0\n",
    "        # training_done = True\n",
    "        rbms = []\n",
    "        for (n_h, model) in layers:\n",
    "            n_layer += 1\n",
    "            if n_h <= 0: raise ValueError(\"Incorrect inputs for layer %d\" % (n_layer))\n",
    "            else: n_hs.append(n_h)\n",
    "\n",
    "            rbm = RBM(n_hs[n_layer-1], n_h, k=k)\n",
    "            # training_done = False\n",
    "            rbms.append(rbm)\n",
    "\n",
    "        self.n_hs = n_hs\n",
    "        self.n_layer = n_layer\n",
    "        # self.training_done = training_done\n",
    "        self.rbms = rbms\n",
    "        return\n",
    "    \n",
    "    def forward(self, X):\n",
    "        # assert self.training_done\n",
    "        \n",
    "        Hp = X\n",
    "        for i in range(self.n_layer):\n",
    "            Hp, Hs = self.rbms[i].forward(Hp)\n",
    "        \n",
    "        return Hp, Hs\n",
    "\n",
    "    def backward(self, H):\n",
    "        # assert self.training_done\n",
    "\n",
    "        Vp = H\n",
    "        for i in reversed(range(self.n_layer)):\n",
    "            Vp, Vs = self.rbms[i].backward(Vp)\n",
    "        \n",
    "        return Vp, Vs\n",
    "\n",
    "    # def train_1layer_1batch(self, V, layer):\n",
    "    #     Hp = V\n",
    "    #     for i in range(layer):\n",
    "    #         Hp, Hs = self.rbms[i].forward(Hp)\n",
    "        \n",
    "    #     if layer==0: \n",
    "    #         self.rbms[layer].contrastive_divergence(Hp, self.learning)\n",
    "    #     else:\n",
    "    #         for j in range(5):\n",
    "    #             Vs = np.random.binomial(1, Hp, size=Hp.shape)\n",
    "    #             self.rbms[layer].contrastive_divergence(Vs, self.learning)\n",
    "                \n",
    "    #     return\n",
    "\n",
    "    # def train_1layer(self, X, layer, epochs, batch_size=10, learning=0.01):\n",
    "    #     # assert not self.rbms[layer].training_done\n",
    "        \n",
    "    #     self.learning = learning\n",
    "    #     n_x = X.shape[0]\n",
    "    #     n_batch = n_x//batch_size\n",
    "    #     for e in range(epochs):\n",
    "    #         for i in range(n_batch):\n",
    "    #             s = i*batch_size\n",
    "    #             V = X[s:s+batch_size]\n",
    "    #             self.train_1layer_1batch(V, layer)\n",
    "\n",
    "    #     # self.rbms[layer].training_done = True\n",
    "    #     return\n",
    "    \n",
    "    # this is internal API for more complex network to use\n",
    "    def train_model(self, X, epochs=1, batch_size=10, learning=0.01):\n",
    "        \n",
    "        for layer in range(self.n_layer):\n",
    "            # if self.rbms[layer].training_done: continue\n",
    "            self.rbms[layer].train_model(X, n_epoch=epochs, learning=learning)\n",
    "            X = tupleself.rbms[layer].forward(X)\n",
    "            # self.train_1layer(X, layer, epochs, batch_size, learning)\n",
    "        \n",
    "        return\n",
    "    \n",
    "    def reconstruct(self, X):\n",
    "        h_layer = self.n_layer - 1\n",
    "        Hp = X\n",
    "        for i in range(h_layer):\n",
    "            Hp, Hs = self.rbms[i].forward(Hp)\n",
    "        \n",
    "        Vp, Vs = self.rbms[h_layer].reconstruct(Hp)\n",
    "\n",
    "        for i in reversed(range(h_layer)):\n",
    "            Hp, Hs = self.rbms[i].backward(Hp)\n",
    "\n",
    "        return Hp, Hs"
   ]
  },
  {
   "cell_type": "code",
   "execution_count": 41,
   "metadata": {},
   "outputs": [],
   "source": [
    "n_v = 20*16\n",
    "h_1 = 20*10\n",
    "h_2 = 20*8\n",
    "h_3 = 20*8\n",
    "\n",
    "layers = [\n",
    "    (h_1, None),\n",
    "    (h_2, None),\n",
    "    (h_3, None),\n",
    "]\n",
    "\n",
    "dbn = DBN(n_v, layers)"
   ]
  },
  {
   "cell_type": "code",
   "execution_count": 42,
   "metadata": {},
   "outputs": [
    {
     "data": {
      "text/plain": [
       "<matplotlib.image.AxesImage at 0x21e00f0cb80>"
      ]
     },
     "execution_count": 42,
     "metadata": {},
     "output_type": "execute_result"
    },
    {
     "data": {
      "image/png": "[encoded data removed]",
      "text/plain": [
       "<Figure size 432x288 with 1 Axes>"
      ]
     },
     "metadata": {
      "needs_background": "light"
     },
     "output_type": "display_data"
    }
   ],
   "source": [
    "plt.imshow(data[39*2].T.reshape(20,16), cmap='Greys_r')"
   ]
  },
  {
   "cell_type": "code",
   "execution_count": 43,
   "metadata": {},
   "outputs": [
    {
     "data": {
      "text/plain": [
       "<matplotlib.image.AxesImage at 0x21e00f6d220>"
      ]
     },
     "execution_count": 43,
     "metadata": {},
     "output_type": "execute_result"
    },
    {
     "data": {
      "image/png": "[encoded data removed]",
      "text/plain": [
       "<Figure size 432x288 with 1 Axes>"
      ]
     },
     "metadata": {
      "needs_background": "light"
     },
     "output_type": "display_data"
    }
   ],
   "source": [
    "plt.imshow(dbn.reconstruct(data[39*2].T)[0].reshape(20,16), cmap='Greys_r')"
   ]
  },
  {
   "cell_type": "code",
   "execution_count": 44,
   "metadata": {},
   "outputs": [
    {
     "name": "stdout",
     "output_type": "stream",
     "text": [
      "MSE for epoch 0: 0.3967476903560114\n",
      "MSE for epoch 1: 0.3144423083447578\n",
      "MSE for epoch 2: 0.27775549906449115\n",
      "MSE for epoch 3: 0.25885124859914166\n",
      "MSE for epoch 4: 0.23840871352395426\n",
      "MSE for epoch 5: 0.22814662326120227\n",
      "MSE for epoch 6: 0.21165043465673217\n",
      "MSE for epoch 7: 0.20242901539520705\n",
      "MSE for epoch 8: 0.19584270848785243\n",
      "MSE for epoch 9: 0.18633565750844744\n",
      "MSE for epoch 10: 0.17980629868310352\n",
      "MSE for epoch 11: 0.1726281739562483\n",
      "MSE for epoch 12: 0.1665894320893549\n",
      "MSE for epoch 13: 0.16100516259905523\n",
      "MSE for epoch 14: 0.15724727758547188\n",
      "MSE for epoch 15: 0.1527629265870576\n",
      "MSE for epoch 16: 0.14688546325387722\n",
      "MSE for epoch 17: 0.14430450549727428\n",
      "MSE for epoch 18: 0.1386403149144094\n",
      "MSE for epoch 19: 0.13323489186970364\n",
      "MSE for epoch 20: 0.13203276327089902\n",
      "MSE for epoch 21: 0.12885565844852528\n",
      "MSE for epoch 22: 0.12403520889076994\n",
      "MSE for epoch 23: 0.1222925488843357\n",
      "MSE for epoch 24: 0.1191757662734246\n",
      "MSE for epoch 25: 0.11613951291266612\n",
      "MSE for epoch 26: 0.11280826282167718\n",
      "MSE for epoch 27: 0.11088385134681261\n",
      "MSE for epoch 28: 0.10725111353408927\n",
      "MSE for epoch 29: 0.10639141800325229\n",
      "MSE for epoch 30: 0.10638240445564787\n",
      "MSE for epoch 31: 0.10349980656369301\n",
      "MSE for epoch 32: 0.09926236945864657\n",
      "MSE for epoch 33: 0.09643133703099706\n",
      "MSE for epoch 34: 0.09596901321604583\n",
      "MSE for epoch 35: 0.0943980512906367\n",
      "MSE for epoch 36: 0.09221901904075545\n",
      "MSE for epoch 37: 0.0908389428052286\n",
      "MSE for epoch 38: 0.08816387580910011\n",
      "MSE for epoch 39: 0.08700608988548289\n",
      "MSE for epoch 40: 0.08708318114657902\n",
      "MSE for epoch 41: 0.0857830109426096\n",
      "MSE for epoch 42: 0.08232552986626639\n",
      "MSE for epoch 43: 0.08155213923346713\n",
      "MSE for epoch 44: 0.079161785662962\n",
      "MSE for epoch 45: 0.07947181767459038\n",
      "MSE for epoch 46: 0.08056367670655046\n",
      "MSE for epoch 47: 0.07682190374097637\n",
      "MSE for epoch 48: 0.07581027179951702\n",
      "MSE for epoch 49: 0.07457940617582652\n",
      "MSE for epoch 50: 0.07188765659747268\n",
      "MSE for epoch 51: 0.06910607218570392\n",
      "MSE for epoch 52: 0.06944664181009491\n",
      "MSE for epoch 53: 0.07025880097152827\n",
      "MSE for epoch 54: 0.06657284949851322\n",
      "MSE for epoch 55: 0.0679459836179453\n",
      "MSE for epoch 56: 0.06639922136940583\n",
      "MSE for epoch 57: 0.06698950762204021\n",
      "MSE for epoch 58: 0.06489289218536395\n",
      "MSE for epoch 59: 0.06334982687924594\n",
      "MSE for epoch 60: 0.06330389396865646\n",
      "MSE for epoch 61: 0.06286684199843504\n",
      "MSE for epoch 62: 0.06240957172354063\n",
      "MSE for epoch 63: 0.061955885750248185\n",
      "MSE for epoch 64: 0.05897499798208544\n",
      "MSE for epoch 65: 0.05931638597711798\n",
      "MSE for epoch 66: 0.0574401372759821\n",
      "MSE for epoch 67: 0.05900489277584389\n",
      "MSE for epoch 68: 0.05671870853967608\n",
      "MSE for epoch 69: 0.05541139754963559\n",
      "MSE for epoch 70: 0.05628021008213219\n",
      "MSE for epoch 71: 0.056612757344240414\n",
      "MSE for epoch 72: 0.053194015939134476\n",
      "MSE for epoch 73: 0.05440928429404988\n",
      "MSE for epoch 74: 0.05413822645470976\n",
      "MSE for epoch 75: 0.05275388902024448\n",
      "MSE for epoch 76: 0.0521104125526828\n",
      "MSE for epoch 77: 0.05133987212212403\n",
      "MSE for epoch 78: 0.05114891523012273\n",
      "MSE for epoch 79: 0.05153326796048908\n",
      "MSE for epoch 80: 0.051269871741839716\n",
      "MSE for epoch 81: 0.049404462363990036\n",
      "MSE for epoch 82: 0.04848223613190103\n",
      "MSE for epoch 83: 0.04843692207325942\n",
      "MSE for epoch 84: 0.04821586539787456\n",
      "MSE for epoch 85: 0.04775073650722796\n",
      "MSE for epoch 86: 0.04599113839901852\n",
      "MSE for epoch 87: 0.04656998249892556\n",
      "MSE for epoch 88: 0.04740636398931391\n",
      "MSE for epoch 89: 0.046675140682440684\n",
      "MSE for epoch 90: 0.0463063041438028\n",
      "MSE for epoch 91: 0.0443817736106099\n",
      "MSE for epoch 92: 0.04410927780974251\n",
      "MSE for epoch 93: 0.04377381359770679\n",
      "MSE for epoch 94: 0.0445249021837828\n",
      "MSE for epoch 95: 0.043773237981990426\n",
      "MSE for epoch 96: 0.0449747588107059\n",
      "MSE for epoch 97: 0.04367193368856566\n",
      "MSE for epoch 98: 0.043027024041856876\n",
      "MSE for epoch 99: 0.04357871620596365\n"
     ]
    },
    {
     "ename": "ValueError",
     "evalue": "too many values to unpack (expected 2)",
     "output_type": "error",
     "traceback": [
      "\u001b[1;31m---------------------------------------------------------------------------\u001b[0m",
      "\u001b[1;31mValueError\u001b[0m                                Traceback (most recent call last)",
      "\u001b[1;32m<ipython-input-44-ea948b7637cd>\u001b[0m in \u001b[0;36m<module>\u001b[1;34m\u001b[0m\n\u001b[1;32m----> 1\u001b[1;33m \u001b[0mdbn\u001b[0m\u001b[1;33m.\u001b[0m\u001b[0mtrain_model\u001b[0m\u001b[1;33m(\u001b[0m\u001b[0mdata\u001b[0m\u001b[1;33m,\u001b[0m \u001b[0mepochs\u001b[0m\u001b[1;33m=\u001b[0m\u001b[1;36m100\u001b[0m\u001b[1;33m)\u001b[0m\u001b[1;33m\u001b[0m\u001b[1;33m\u001b[0m\u001b[0m\n\u001b[0m",
      "\u001b[1;32m<ipython-input-40-ec6f7f94bf98>\u001b[0m in \u001b[0;36mtrain_model\u001b[1;34m(self, X, epochs, batch_size, learning)\u001b[0m\n\u001b[0;32m     76\u001b[0m             \u001b[1;31m# if self.rbms[layer].training_done: continue\u001b[0m\u001b[1;33m\u001b[0m\u001b[1;33m\u001b[0m\u001b[1;33m\u001b[0m\u001b[0m\n\u001b[0;32m     77\u001b[0m             \u001b[0mself\u001b[0m\u001b[1;33m.\u001b[0m\u001b[0mrbms\u001b[0m\u001b[1;33m[\u001b[0m\u001b[0mlayer\u001b[0m\u001b[1;33m]\u001b[0m\u001b[1;33m.\u001b[0m\u001b[0mtrain_model\u001b[0m\u001b[1;33m(\u001b[0m\u001b[0mX\u001b[0m\u001b[1;33m,\u001b[0m \u001b[0mn_epoch\u001b[0m\u001b[1;33m=\u001b[0m\u001b[0mepochs\u001b[0m\u001b[1;33m,\u001b[0m \u001b[0mlearning\u001b[0m\u001b[1;33m=\u001b[0m\u001b[0mlearning\u001b[0m\u001b[1;33m)\u001b[0m\u001b[1;33m\u001b[0m\u001b[1;33m\u001b[0m\u001b[0m\n\u001b[1;32m---> 78\u001b[1;33m             \u001b[0mX\u001b[0m \u001b[1;33m=\u001b[0m \u001b[0mself\u001b[0m\u001b[1;33m.\u001b[0m\u001b[0mrbms\u001b[0m\u001b[1;33m[\u001b[0m\u001b[0mlayer\u001b[0m\u001b[1;33m]\u001b[0m\u001b[1;33m.\u001b[0m\u001b[0mforward\u001b[0m\u001b[1;33m(\u001b[0m\u001b[0mX\u001b[0m\u001b[1;33m)\u001b[0m\u001b[1;33m\u001b[0m\u001b[1;33m\u001b[0m\u001b[0m\n\u001b[0m\u001b[0;32m     79\u001b[0m             \u001b[1;31m# self.train_1layer(X, layer, epochs, batch_size, learning)\u001b[0m\u001b[1;33m\u001b[0m\u001b[1;33m\u001b[0m\u001b[1;33m\u001b[0m\u001b[0m\n\u001b[0;32m     80\u001b[0m \u001b[1;33m\u001b[0m\u001b[0m\n",
      "\u001b[1;32m<ipython-input-24-61c1caec4729>\u001b[0m in \u001b[0;36mforward\u001b[1;34m(self, V)\u001b[0m\n\u001b[0;32m     17\u001b[0m \u001b[1;33m\u001b[0m\u001b[0m\n\u001b[0;32m     18\u001b[0m     \u001b[1;32mdef\u001b[0m \u001b[0mforward\u001b[0m\u001b[1;33m(\u001b[0m\u001b[0mself\u001b[0m\u001b[1;33m,\u001b[0m \u001b[0mV\u001b[0m\u001b[1;33m)\u001b[0m\u001b[1;33m:\u001b[0m\u001b[1;33m\u001b[0m\u001b[1;33m\u001b[0m\u001b[0m\n\u001b[1;32m---> 19\u001b[1;33m         \u001b[0mn_sample\u001b[0m\u001b[1;33m,\u001b[0m \u001b[0mn_v\u001b[0m \u001b[1;33m=\u001b[0m \u001b[0mV\u001b[0m\u001b[1;33m.\u001b[0m\u001b[0mshape\u001b[0m\u001b[1;33m\u001b[0m\u001b[1;33m\u001b[0m\u001b[0m\n\u001b[0m\u001b[0;32m     20\u001b[0m \u001b[1;33m\u001b[0m\u001b[0m\n\u001b[0;32m     21\u001b[0m         \u001b[0mhsignal\u001b[0m \u001b[1;33m=\u001b[0m \u001b[0mnp\u001b[0m\u001b[1;33m.\u001b[0m\u001b[0mdot\u001b[0m\u001b[1;33m(\u001b[0m\u001b[0mV\u001b[0m\u001b[1;33m,\u001b[0m \u001b[0mself\u001b[0m\u001b[1;33m.\u001b[0m\u001b[0mW\u001b[0m\u001b[1;33m.\u001b[0m\u001b[0mT\u001b[0m\u001b[1;33m)\u001b[0m \u001b[1;33m+\u001b[0m \u001b[0mself\u001b[0m\u001b[1;33m.\u001b[0m\u001b[0mc\u001b[0m\u001b[1;33m\u001b[0m\u001b[1;33m\u001b[0m\u001b[0m\n",
      "\u001b[1;31mValueError\u001b[0m: too many values to unpack (expected 2)"
     ]
    }
   ],
   "source": [
    "dbn.train_model(data, epochs=100)"
   ]
  },
  {
   "cell_type": "code",
   "execution_count": 45,
   "metadata": {},
   "outputs": [
    {
     "data": {
      "text/plain": [
       "(117, 320, 1)"
      ]
     },
     "execution_count": 45,
     "metadata": {},
     "output_type": "execute_result"
    }
   ],
   "source": [
    "data.shape"
   ]
  },
  {
   "cell_type": "code",
   "execution_count": 65,
   "metadata": {},
   "outputs": [
    {
     "data": {
      "text/plain": [
       "(1, 160)"
      ]
     },
     "execution_count": 65,
     "metadata": {},
     "output_type": "execute_result"
    }
   ],
   "source": [
    "np.array(list(map(lambda x : rbm.forward(x.T), data)))[0][0].shape"
   ]
  },
  {
   "cell_type": "code",
   "execution_count": null,
   "metadata": {},
   "outputs": [
    {
     "data": {
      "text/plain": [
       "<matplotlib.image.AxesImage at 0x1e2cbf5b430>"
      ]
     },
     "execution_count": 140,
     "metadata": {},
     "output_type": "execute_result"
    },
    {
     "data": {
      "image/png": "[encoded data removed]",
      "text/plain": [
       "<Figure size 432x288 with 1 Axes>"
      ]
     },
     "metadata": {
      "needs_background": "light"
     },
     "output_type": "display_data"
    }
   ],
   "source": [
    "plt.imshow(dbn.reconstruct(data[39*2].T)[0].reshape(20,16), cmap='Greys_r')"
   ]
  }
 ],
 "metadata": {
  "interpreter": {
   "hash": "7e2f77450d574f743a6d9d7e6faf87aa64c8f9c3d83f2013a355475f93227b48"
  },
  "kernelspec": {
   "display_name": "Python 3.8.8 ('data')",
   "language": "python",
   "name": "python3"
  },
  "language_info": {
   "codemirror_mode": {
    "name": "ipython",
    "version": 3
   },
   "file_extension": ".py",
   "mimetype": "text/x-python",
   "name": "python",
   "nbconvert_exporter": "python",
   "pygments_lexer": "ipython3",
   "version": "3.8.8"
  },
  "orig_nbformat": 4
 },
 "nbformat": 4,
 "nbformat_minor": 2
}
