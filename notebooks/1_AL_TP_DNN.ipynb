{
 "cells": [
  {
   "cell_type": "markdown",
   "metadata": {},
   "source": [
    "# First, let's load the MNIST dataset"
   ]
  },
  {
   "cell_type": "code",
   "execution_count": 97,
   "metadata": {},
   "outputs": [],
   "source": [
    "import numpy as np\n",
    "import matplotlib.pyplot as plt"
   ]
  },
  {
   "cell_type": "code",
   "execution_count": 98,
   "metadata": {},
   "outputs": [],
   "source": [
    "import requests # for alpha-binary digits\n",
    "\n",
    "# import torch\n",
    "# from torchvision import datasets, transforms # for MNIST"
   ]
  },
  {
   "cell_type": "markdown",
   "metadata": {},
   "source": [
    "### Downloading, preprocessing & loading MNIST"
   ]
  },
  {
   "cell_type": "code",
   "execution_count": 99,
   "metadata": {},
   "outputs": [
    {
     "ename": "NameError",
     "evalue": "name 'transforms' is not defined",
     "output_type": "error",
     "traceback": [
      "\u001b[1;31m---------------------------------------------------------------------------\u001b[0m",
      "\u001b[1;31mNameError\u001b[0m                                 Traceback (most recent call last)",
      "\u001b[1;32m<ipython-input-99-a1c4a02d811c>\u001b[0m in \u001b[0;36m<module>\u001b[1;34m\u001b[0m\n\u001b[0;32m      1\u001b[0m \u001b[1;31m# Define a transform to normalize the data\u001b[0m\u001b[1;33m\u001b[0m\u001b[1;33m\u001b[0m\u001b[1;33m\u001b[0m\u001b[0m\n\u001b[1;32m----> 2\u001b[1;33m transform = transforms.Compose([transforms.ToTensor(),\n\u001b[0m\u001b[0;32m      3\u001b[0m                                 transforms.Normalize((0.5,), (0.5,))])\n\u001b[0;32m      4\u001b[0m \u001b[1;31m# Download and load the training data\u001b[0m\u001b[1;33m\u001b[0m\u001b[1;33m\u001b[0m\u001b[1;33m\u001b[0m\u001b[0m\n\u001b[0;32m      5\u001b[0m \u001b[0mtrainset\u001b[0m \u001b[1;33m=\u001b[0m \u001b[0mdatasets\u001b[0m\u001b[1;33m.\u001b[0m\u001b[0mMNIST\u001b[0m\u001b[1;33m(\u001b[0m\u001b[1;34m'../data/processed'\u001b[0m\u001b[1;33m,\u001b[0m \u001b[0mdownload\u001b[0m\u001b[1;33m=\u001b[0m\u001b[1;32mFalse\u001b[0m\u001b[1;33m,\u001b[0m \u001b[0mtrain\u001b[0m\u001b[1;33m=\u001b[0m\u001b[1;32mTrue\u001b[0m\u001b[1;33m,\u001b[0m \u001b[0mtransform\u001b[0m\u001b[1;33m=\u001b[0m\u001b[0mtransform\u001b[0m\u001b[1;33m)\u001b[0m\u001b[1;33m\u001b[0m\u001b[1;33m\u001b[0m\u001b[0m\n",
      "\u001b[1;31mNameError\u001b[0m: name 'transforms' is not defined"
     ]
    }
   ],
   "source": [
    "# Define a transform to normalize the data\n",
    "transform = transforms.Compose([transforms.ToTensor(),\n",
    "                                transforms.Normalize((0.5,), (0.5,))])\n",
    "# Download and load the training data\n",
    "trainset = datasets.MNIST('../data/processed', download=False, train=True, transform=transform)\n",
    "trainloader = torch.utils.data.DataLoader(trainset, batch_size=64, shuffle=True)\n",
    "# Download and load the test data\n",
    "testset = datasets.MNIST('../data/processed', download=False, train=False, transform=transform)\n",
    "testloader = torch.utils.data.DataLoader(testset, batch_size=64, shuffle=True)\n"
   ]
  },
  {
   "cell_type": "code",
   "execution_count": null,
   "metadata": {},
   "outputs": [],
   "source": [
    "dataiter = iter(trainloader)"
   ]
  },
  {
   "cell_type": "code",
   "execution_count": null,
   "metadata": {},
   "outputs": [],
   "source": [
    "images, labels = dataiter.next()"
   ]
  },
  {
   "cell_type": "code",
   "execution_count": null,
   "metadata": {},
   "outputs": [
    {
     "name": "stdout",
     "output_type": "stream",
     "text": [
      "torch.Size([64, 1, 28, 28]) torch.Size([64])\n"
     ]
    }
   ],
   "source": [
    "print(images.shape, labels.shape) #loading 64 images of shape 28x28"
   ]
  },
  {
   "cell_type": "code",
   "execution_count": null,
   "metadata": {},
   "outputs": [
    {
     "data": {
      "text/plain": [
       "<matplotlib.image.AxesImage at 0x1fc7caddb20>"
      ]
     },
     "execution_count": 8,
     "metadata": {},
     "output_type": "execute_result"
    },
    {
     "data": {
      "image/png": "[encoded data removed]",
      "text/plain": [
       "<Figure size 432x288 with 1 Axes>"
      ]
     },
     "metadata": {
      "needs_background": "light"
     },
     "output_type": "display_data"
    }
   ],
   "source": [
    "plt.imshow(images[0].squeeze(), cmap='Greys_r')"
   ]
  },
  {
   "cell_type": "markdown",
   "metadata": {},
   "source": [
    "---"
   ]
  },
  {
   "cell_type": "markdown",
   "metadata": {},
   "source": [
    "### Downloading AlphaBinary"
   ]
  },
  {
   "cell_type": "code",
   "execution_count": null,
   "metadata": {},
   "outputs": [],
   "source": [
    "# alpha_binary_mat = requests.get('https://cs.nyu.edu/~roweis/data/binaryalphadigs.mat')"
   ]
  },
  {
   "cell_type": "code",
   "execution_count": null,
   "metadata": {},
   "outputs": [],
   "source": [
    "# with open('../data/raw/alpha_binary.mat', 'wb') as f:\n",
    "    # f.write(alpha_binary_mat.content)"
   ]
  },
  {
   "cell_type": "markdown",
   "metadata": {},
   "source": [
    "### Preprocessing AlphaBinary"
   ]
  },
  {
   "cell_type": "code",
   "execution_count": null,
   "metadata": {},
   "outputs": [],
   "source": [
    "import scipy.io"
   ]
  },
  {
   "cell_type": "code",
   "execution_count": null,
   "metadata": {},
   "outputs": [],
   "source": [
    "file_mat = '../data/raw/alpha_binary.mat'\n",
    "mat = scipy.io.loadmat(file_mat)"
   ]
  },
  {
   "cell_type": "code",
   "execution_count": null,
   "metadata": {},
   "outputs": [
    {
     "data": {
      "text/plain": [
       "dict"
      ]
     },
     "execution_count": 6,
     "metadata": {},
     "output_type": "execute_result"
    }
   ],
   "source": [
    "type(mat)"
   ]
  },
  {
   "cell_type": "code",
   "execution_count": null,
   "metadata": {},
   "outputs": [
    {
     "data": {
      "text/plain": [
       "dict_keys(['__header__', '__version__', '__globals__', 'dat', 'numclass', 'classlabels', 'classcounts'])"
      ]
     },
     "execution_count": 7,
     "metadata": {},
     "output_type": "execute_result"
    }
   ],
   "source": [
    "mat.keys()"
   ]
  },
  {
   "cell_type": "code",
   "execution_count": null,
   "metadata": {},
   "outputs": [
    {
     "data": {
      "text/plain": [
       "(36, 39)"
      ]
     },
     "execution_count": 8,
     "metadata": {},
     "output_type": "execute_result"
    }
   ],
   "source": [
    "mat['dat'].shape # 39 samples for each of the 36 classes - 10 digits & 26 letters"
   ]
  },
  {
   "cell_type": "code",
   "execution_count": null,
   "metadata": {},
   "outputs": [
    {
     "data": {
      "text/plain": [
       "array([array(['0'], dtype='<U1'), array(['1'], dtype='<U1'),\n",
       "       array(['2'], dtype='<U1'), array(['3'], dtype='<U1'),\n",
       "       array(['4'], dtype='<U1'), array(['5'], dtype='<U1'),\n",
       "       array(['6'], dtype='<U1'), array(['7'], dtype='<U1'),\n",
       "       array(['8'], dtype='<U1'), array(['9'], dtype='<U1'),\n",
       "       array(['A'], dtype='<U1'), array(['B'], dtype='<U1'),\n",
       "       array(['C'], dtype='<U1'), array(['D'], dtype='<U1'),\n",
       "       array(['E'], dtype='<U1'), array(['F'], dtype='<U1'),\n",
       "       array(['G'], dtype='<U1'), array(['H'], dtype='<U1'),\n",
       "       array(['I'], dtype='<U1'), array(['J'], dtype='<U1'),\n",
       "       array(['K'], dtype='<U1'), array(['L'], dtype='<U1'),\n",
       "       array(['M'], dtype='<U1'), array(['N'], dtype='<U1'),\n",
       "       array(['O'], dtype='<U1'), array(['P'], dtype='<U1'),\n",
       "       array(['Q'], dtype='<U1'), array(['R'], dtype='<U1'),\n",
       "       array(['S'], dtype='<U1'), array(['T'], dtype='<U1'),\n",
       "       array(['U'], dtype='<U1'), array(['V'], dtype='<U1'),\n",
       "       array(['W'], dtype='<U1'), array(['X'], dtype='<U1'),\n",
       "       array(['Y'], dtype='<U1'), array(['Z'], dtype='<U1')], dtype=object)"
      ]
     },
     "execution_count": 9,
     "metadata": {},
     "output_type": "execute_result"
    }
   ],
   "source": [
    "mat['classlabels'][0]"
   ]
  },
  {
   "cell_type": "code",
   "execution_count": null,
   "metadata": {},
   "outputs": [],
   "source": [
    "labels = np.array([label.item() for label in mat['classlabels'][0]])"
   ]
  },
  {
   "cell_type": "code",
   "execution_count": null,
   "metadata": {},
   "outputs": [
    {
     "data": {
      "text/plain": [
       "array(['0', '1', '2', '3', '4', '5', '6', '7', '8', '9', 'A', 'B', 'C',\n",
       "       'D', 'E', 'F', 'G', 'H', 'I', 'J', 'K', 'L', 'M', 'N', 'O', 'P',\n",
       "       'Q', 'R', 'S', 'T', 'U', 'V', 'W', 'X', 'Y', 'Z'], dtype='<U1')"
      ]
     },
     "execution_count": 11,
     "metadata": {},
     "output_type": "execute_result"
    }
   ],
   "source": [
    "labels"
   ]
  },
  {
   "cell_type": "markdown",
   "metadata": {},
   "source": [
    "---"
   ]
  },
  {
   "cell_type": "code",
   "execution_count": null,
   "metadata": {},
   "outputs": [],
   "source": [
    "images = mat['dat']"
   ]
  },
  {
   "cell_type": "code",
   "execution_count": null,
   "metadata": {},
   "outputs": [
    {
     "data": {
      "text/plain": [
       "<matplotlib.image.AxesImage at 0x256ba7c5880>"
      ]
     },
     "execution_count": 13,
     "metadata": {},
     "output_type": "execute_result"
    },
    {
     "data": {
      "image/png": "[encoded data removed]",
      "text/plain": [
       "<Figure size 432x288 with 1 Axes>"
      ]
     },
     "metadata": {
      "needs_background": "light"
     },
     "output_type": "display_data"
    }
   ],
   "source": [
    "plt.imshow(images[3][0], cmap='Greys_r')"
   ]
  },
  {
   "cell_type": "code",
   "execution_count": null,
   "metadata": {},
   "outputs": [
    {
     "data": {
      "text/plain": [
       "<matplotlib.image.AxesImage at 0x256ba8a6ee0>"
      ]
     },
     "execution_count": 14,
     "metadata": {},
     "output_type": "execute_result"
    },
    {
     "data": {
      "image/png": "[encoded data removed]",
      "text/plain": [
       "<Figure size 432x288 with 1 Axes>"
      ]
     },
     "metadata": {
      "needs_background": "light"
     },
     "output_type": "display_data"
    }
   ],
   "source": [
    "plt.imshow(images[10][0], cmap='Greys_r')"
   ]
  },
  {
   "cell_type": "code",
   "execution_count": null,
   "metadata": {},
   "outputs": [],
   "source": [
    "labels_array = []"
   ]
  },
  {
   "cell_type": "code",
   "execution_count": null,
   "metadata": {},
   "outputs": [],
   "source": [
    "for index, classe in enumerate(images):\n",
    "    for image in classe:\n",
    "        labels_array.append(labels[index])\n",
    "\n",
    "labels_array = np.array(labels_array)"
   ]
  },
  {
   "cell_type": "code",
   "execution_count": null,
   "metadata": {},
   "outputs": [
    {
     "data": {
      "text/plain": [
       "True"
      ]
     },
     "execution_count": 17,
     "metadata": {},
     "output_type": "execute_result"
    }
   ],
   "source": [
    "labels_array.shape[0] == 36*39"
   ]
  },
  {
   "cell_type": "code",
   "execution_count": null,
   "metadata": {},
   "outputs": [
    {
     "data": {
      "text/plain": [
       "('0', '0', '1')"
      ]
     },
     "execution_count": 18,
     "metadata": {},
     "output_type": "execute_result"
    }
   ],
   "source": [
    "labels_array[0], labels_array[38], labels_array[39]"
   ]
  },
  {
   "cell_type": "markdown",
   "metadata": {},
   "source": [
    "---"
   ]
  },
  {
   "cell_type": "code",
   "execution_count": null,
   "metadata": {},
   "outputs": [
    {
     "data": {
      "text/plain": [
       "(320,)"
      ]
     },
     "execution_count": 19,
     "metadata": {},
     "output_type": "execute_result"
    }
   ],
   "source": [
    "images[0][0].flatten().shape"
   ]
  },
  {
   "cell_type": "code",
   "execution_count": null,
   "metadata": {},
   "outputs": [
    {
     "data": {
      "text/plain": [
       "(20, 16)"
      ]
     },
     "execution_count": 20,
     "metadata": {},
     "output_type": "execute_result"
    }
   ],
   "source": [
    "images[0][0].shape"
   ]
  },
  {
   "cell_type": "code",
   "execution_count": null,
   "metadata": {},
   "outputs": [],
   "source": [
    "def lire_alpha_digit(all_images, classes:list):\n",
    "    data = []\n",
    "    for cls in classes:\n",
    "        for image in all_images[cls]:\n",
    "            data.append(image.flatten().reshape(-1,1))\n",
    "    \n",
    "    return np.array(data)"
   ]
  },
  {
   "cell_type": "markdown",
   "metadata": {},
   "source": [
    "All our data has been loaded and is ready to be used in a python data environment !"
   ]
  },
  {
   "cell_type": "markdown",
   "metadata": {},
   "source": [
    "---"
   ]
  },
  {
   "cell_type": "markdown",
   "metadata": {},
   "source": [
    "# Creating NN classes & methods\n",
    "### RBM"
   ]
  },
  {
   "cell_type": "code",
   "execution_count": null,
   "metadata": {},
   "outputs": [],
   "source": [
    "def sigmoid(x):\n",
    "    return 1 / (1 + np.exp(-x))"
   ]
  },
  {
   "cell_type": "code",
   "execution_count": null,
   "metadata": {},
   "outputs": [],
   "source": [
    "def logistic(x,w,b):\n",
    "   xw = np.dot(x, w)\n",
    "   replicated_b = np.tile(b, (x.shape[0], 1))\n",
    "\n",
    "   return 1.0 / (1 + np.exp(- xw - b))"
   ]
  },
  {
   "cell_type": "code",
   "execution_count": 133,
   "metadata": {},
   "outputs": [],
   "source": [
    "class RBM:\n",
    "    \n",
    "    def __init__(self, n_v, n_h, W=None, b=None, c=None, k=1):\n",
    "        assert n_v != 0 and n_h != 0\n",
    "        self.n_v = n_v\n",
    "        self.n_h = n_h\n",
    "        shape = (n_h, n_v)\n",
    "        \n",
    "        self.W = W if W is not None else np.random.uniform(-1, 1, size=shape)\n",
    "        self.b = b if b is not None else np.zeros(n_v)\n",
    "        self.c = c if c is not None else np.zeros(n_h)\n",
    "\n",
    "        assert self.W.shape==shape and n_v == len(self.b) and n_h == len(self.c)\n",
    "        \n",
    "        self.k = k\n",
    "        return\n",
    "        \n",
    "    def forward(self, V):\n",
    "        n_sample, n_v = V.shape\n",
    "        \n",
    "        hsignal = np.dot(V, self.W.T) + self.c\n",
    "        assert hsignal.shape == (n_sample, self.n_h)\n",
    "        Hp = sigmoid(hsignal)\n",
    "        \n",
    "        #s = np.random.uniform(0, 1, size=hsignal.shape)\n",
    "        #Hs = (s < Hp) * 1  # same as:\n",
    "        Hs = np.random.binomial(1, Hp, size=Hp.shape)\n",
    "        return Hp, Hs\n",
    "    \n",
    "    def backward(self, H):\n",
    "        n_sample, n_h = H.shape\n",
    "        \n",
    "        vsignal = np.dot(H, self.W) + self.b\n",
    "        assert vsignal.shape == (n_sample, self.n_v)\n",
    "        #print(vsignal)\n",
    "        Vp = sigmoid(vsignal)\n",
    "        \n",
    "        s = np.random.uniform(0, 1, size=vsignal.shape)\n",
    "        Vs = (s < Vp) * 1\n",
    "        return Vp, Vs\n",
    "\n",
    "    def gibbs(self, V):  #return (probability, samples) of visible units\n",
    "        Vs = V\n",
    "        for i in range(self.k):\n",
    "            Hp, Hs = self.forward(Vs)\n",
    "            Vp, Vs = self.backward(Hs)\n",
    "            \n",
    "        return Hp, Hs, Vp, Vs\n",
    "    \n",
    "    def contrastive_divergence(self, V, learning=0.01):\n",
    "        #set_trace()\n",
    "        n_sample, n_v = V.shape\n",
    "        \n",
    "        Vs = V\n",
    "        Hp, Hs, Vp_, Vs_ = self.gibbs(Vs)   # underscore _ refers to tilde for negative sample\n",
    "        Hp_, Hs_ = self.forward(Vs_)\n",
    "\n",
    "        Vs1 = np.mean(Vs, axis=0) \n",
    "        Vs2 = np.mean(Vs_, axis=0) \n",
    "        Hp1 = np.mean(Hp, axis=0)\n",
    "        Hp2 = np.mean(Hp_, axis=0)\n",
    "        Hs1 = np.mean(Hs, axis=0)\n",
    "        Hs2 = np.mean(Hs_, axis=0)\n",
    "        \n",
    "        # note, there are variances in how to compute the gradients.\n",
    "        # Hugo suggests:     h(v1)*v1 - h(v2)*v2\n",
    "        # Bengio suggests:   h1*v1 - h(v2)*v2\n",
    "        # My derivation:     h1(v1)*v1 - h2*v2 \n",
    "        \n",
    "        Eh_b = Vs1; Evh_b = Vs2      # Evh_b refers to the Expectation (over v and h) of -logP(v) gradient wrt b\n",
    "        \n",
    "        #Eh_c = Hs1; Evh_c = Hp2  # bengio\n",
    "        Eh_c = Hp1; Evh_c = Hp2  # hugo\n",
    "        #Eh_c = Hp1; Evh_c = Hs2  # Mine\n",
    "\n",
    "        g_b = Evh_b - Eh_b  # gradient of -logP(v) wrt b\n",
    "        g_c = Evh_c - Eh_c\n",
    "\n",
    "        Eh_W = np.outer(Eh_c, Eh_b) \n",
    "        Evh_W = np.outer(Evh_c, Evh_b)\n",
    "        g_W = Evh_W - Eh_W\n",
    "    \n",
    "        self.W -= g_W * learning\n",
    "        self.b -= g_b * learning\n",
    "        self.c -= g_c * learning        \n",
    "        return\n",
    "    \n",
    "    def reconstruct(self, V):\n",
    "        Hp, Hs = self.forward(V)\n",
    "        Vp, Vs = self.backward(Hp)\n",
    "        return Vp, Vs\n",
    "    \n",
    "    def train_model(self, train_data, n_epoch=100, batch_size=10, learning=0.01):\n",
    "        for _ in range(n_epoch):\n",
    "            MSE = []\n",
    "            data = train_data.copy()\n",
    "            np.random.shuffle(data)\n",
    "            for x in data:\n",
    "                self.contrastive_divergence(x.T, learning)\n",
    "                reconstructed = self.reconstruct(x.T)\n",
    "                MSE.append(((x.T - reconstructed)**2).sum()/len(x))\n",
    "            print(f'MSE for epoch {_}: {np.array(MSE).mean()}')                      \n",
    "        return\n",
    "    \n",
    "    def generate_image(self, iter_gibbs, number_image):\n",
    "        images = []\n",
    "        for _ in range(number_image):\n",
    "            v = np.zeros(self.n_v).reshape(1, -1)\n",
    "            for _ in range(iter_gibbs):\n",
    "                _, v = self.reconstruct(v)\n",
    "            images.append(v)\n",
    "        return images"
   ]
  },
  {
   "cell_type": "markdown",
   "metadata": {},
   "source": [
    "---"
   ]
  },
  {
   "cell_type": "code",
   "execution_count": 134,
   "metadata": {},
   "outputs": [],
   "source": [
    "rbm = RBM(20*16, 20*8)"
   ]
  },
  {
   "cell_type": "code",
   "execution_count": 135,
   "metadata": {},
   "outputs": [],
   "source": [
    "data = lire_alpha_digit(images, [0, 1, 2, 3, 4, 5, 6, 7, 8, 9])"
   ]
  },
  {
   "cell_type": "code",
   "execution_count": 136,
   "metadata": {},
   "outputs": [],
   "source": [
    "# train_data = list(zip(data, labels_array[:39*3]))"
   ]
  },
  {
   "cell_type": "code",
   "execution_count": 137,
   "metadata": {},
   "outputs": [
    {
     "name": "stdout",
     "output_type": "stream",
     "text": [
      "MSE for epoch 0: 0.42862414419445516\n",
      "MSE for epoch 1: 0.3868149673138777\n",
      "MSE for epoch 2: 0.355629045674937\n",
      "MSE for epoch 3: 0.33011233844999993\n",
      "MSE for epoch 4: 0.30808886484194054\n",
      "MSE for epoch 5: 0.2921808626610921\n",
      "MSE for epoch 6: 0.2801228079630586\n",
      "MSE for epoch 7: 0.2672422362053826\n",
      "MSE for epoch 8: 0.2577068530167081\n",
      "MSE for epoch 9: 0.24911463266255526\n",
      "MSE for epoch 10: 0.24371127452894767\n",
      "MSE for epoch 11: 0.23448648842912004\n",
      "MSE for epoch 12: 0.22973678649721876\n",
      "MSE for epoch 13: 0.22330127278783965\n",
      "MSE for epoch 14: 0.21716895417236945\n",
      "MSE for epoch 15: 0.21191591290179027\n",
      "MSE for epoch 16: 0.20806601999560523\n",
      "MSE for epoch 17: 0.2027890008541817\n",
      "MSE for epoch 18: 0.20070521733759095\n",
      "MSE for epoch 19: 0.19742639532992734\n",
      "MSE for epoch 20: 0.1921876392089706\n",
      "MSE for epoch 21: 0.19052889234678977\n",
      "MSE for epoch 22: 0.18530924176655023\n",
      "MSE for epoch 23: 0.181339251235823\n",
      "MSE for epoch 24: 0.18017156890887784\n",
      "MSE for epoch 25: 0.17773023114313843\n",
      "MSE for epoch 26: 0.17530645035646705\n",
      "MSE for epoch 27: 0.17131845706586263\n",
      "MSE for epoch 28: 0.16762304999162408\n",
      "MSE for epoch 29: 0.16556637444067354\n",
      "MSE for epoch 30: 0.16355290588051416\n",
      "MSE for epoch 31: 0.1616416717149872\n",
      "MSE for epoch 32: 0.1592160941110963\n",
      "MSE for epoch 33: 0.15714533667229164\n",
      "MSE for epoch 34: 0.15590390619432254\n",
      "MSE for epoch 35: 0.15481642550856065\n",
      "MSE for epoch 36: 0.15143026325082873\n",
      "MSE for epoch 37: 0.15075763200834416\n",
      "MSE for epoch 38: 0.14851627208521775\n",
      "MSE for epoch 39: 0.14615397008017375\n",
      "MSE for epoch 40: 0.14487381570196775\n",
      "MSE for epoch 41: 0.14284167495046207\n",
      "MSE for epoch 42: 0.14229350876653335\n",
      "MSE for epoch 43: 0.13866725258649396\n",
      "MSE for epoch 44: 0.13756607224248002\n",
      "MSE for epoch 45: 0.1373968943592183\n",
      "MSE for epoch 46: 0.13574543253073088\n",
      "MSE for epoch 47: 0.13507705055219332\n",
      "MSE for epoch 48: 0.13230526968790302\n",
      "MSE for epoch 49: 0.13242081614004947\n",
      "MSE for epoch 50: 0.13065898715711832\n",
      "MSE for epoch 51: 0.1291581227574664\n",
      "MSE for epoch 52: 0.12674991834396176\n",
      "MSE for epoch 53: 0.12591066316196226\n",
      "MSE for epoch 54: 0.12521723091165693\n",
      "MSE for epoch 55: 0.12445693090979398\n",
      "MSE for epoch 56: 0.12372927885661886\n",
      "MSE for epoch 57: 0.12044943137885714\n",
      "MSE for epoch 58: 0.12082193065295198\n",
      "MSE for epoch 59: 0.1194342334473721\n",
      "MSE for epoch 60: 0.11828038800565314\n",
      "MSE for epoch 61: 0.118266803043834\n",
      "MSE for epoch 62: 0.11785835072895488\n",
      "MSE for epoch 63: 0.11703653307873448\n",
      "MSE for epoch 64: 0.11548575524747604\n",
      "MSE for epoch 65: 0.11446484077795806\n",
      "MSE for epoch 66: 0.11393992174127882\n",
      "MSE for epoch 67: 0.11239081762003911\n",
      "MSE for epoch 68: 0.11057566880565349\n",
      "MSE for epoch 69: 0.11120830316751196\n",
      "MSE for epoch 70: 0.11115924422047291\n",
      "MSE for epoch 71: 0.1098152338829451\n",
      "MSE for epoch 72: 0.10851111707942379\n",
      "MSE for epoch 73: 0.10871035708229737\n",
      "MSE for epoch 74: 0.10689719935801593\n",
      "MSE for epoch 75: 0.10671595103436972\n",
      "MSE for epoch 76: 0.10434018248570748\n",
      "MSE for epoch 77: 0.10580293279876826\n",
      "MSE for epoch 78: 0.10436264644814165\n",
      "MSE for epoch 79: 0.10334713279119674\n",
      "MSE for epoch 80: 0.1028104968659023\n",
      "MSE for epoch 81: 0.10188012176869436\n",
      "MSE for epoch 82: 0.10061502588774356\n",
      "MSE for epoch 83: 0.10073383862671434\n",
      "MSE for epoch 84: 0.10047367728790445\n",
      "MSE for epoch 85: 0.09951024732340957\n",
      "MSE for epoch 86: 0.09850609755266786\n",
      "MSE for epoch 87: 0.09791279005932012\n",
      "MSE for epoch 88: 0.09735652461454225\n",
      "MSE for epoch 89: 0.0989555352370101\n",
      "MSE for epoch 90: 0.09717706353350986\n",
      "MSE for epoch 91: 0.09564102460067632\n",
      "MSE for epoch 92: 0.09572343701198004\n",
      "MSE for epoch 93: 0.09305669638578568\n",
      "MSE for epoch 94: 0.09305548668267606\n",
      "MSE for epoch 95: 0.09310952377318076\n",
      "MSE for epoch 96: 0.0919029757032913\n",
      "MSE for epoch 97: 0.09172912888478785\n",
      "MSE for epoch 98: 0.09173169604469016\n",
      "MSE for epoch 99: 0.09186966599079814\n",
      "MSE for epoch 100: 0.09146730838975502\n",
      "MSE for epoch 101: 0.09053030195737938\n",
      "MSE for epoch 102: 0.09108083277903599\n",
      "MSE for epoch 103: 0.088388563454921\n",
      "MSE for epoch 104: 0.08906556453810521\n",
      "MSE for epoch 105: 0.08856342759543459\n",
      "MSE for epoch 106: 0.0892911755876369\n",
      "MSE for epoch 107: 0.08808076110759315\n",
      "MSE for epoch 108: 0.08687064652412148\n",
      "MSE for epoch 109: 0.08711166647404057\n",
      "MSE for epoch 110: 0.08636995614920165\n",
      "MSE for epoch 111: 0.08560287944246146\n",
      "MSE for epoch 112: 0.08450365850538936\n",
      "MSE for epoch 113: 0.08526423113618294\n",
      "MSE for epoch 114: 0.08430409195835008\n",
      "MSE for epoch 115: 0.08475061347609042\n",
      "MSE for epoch 116: 0.08256667320505295\n",
      "MSE for epoch 117: 0.08239510196451798\n",
      "MSE for epoch 118: 0.08244225762316752\n",
      "MSE for epoch 119: 0.08282415728393201\n",
      "MSE for epoch 120: 0.08204401149204917\n",
      "MSE for epoch 121: 0.08074602320411955\n",
      "MSE for epoch 122: 0.0817562101083757\n",
      "MSE for epoch 123: 0.08045055192538536\n",
      "MSE for epoch 124: 0.08103297739012102\n",
      "MSE for epoch 125: 0.08000430738741168\n",
      "MSE for epoch 126: 0.07922734191673096\n",
      "MSE for epoch 127: 0.07732676771471994\n",
      "MSE for epoch 128: 0.07930653529984884\n",
      "MSE for epoch 129: 0.07881583588362871\n",
      "MSE for epoch 130: 0.07797414595022033\n",
      "MSE for epoch 131: 0.07710008878564158\n",
      "MSE for epoch 132: 0.07693883958202603\n",
      "MSE for epoch 133: 0.07603263176815789\n",
      "MSE for epoch 134: 0.07722454001936367\n",
      "MSE for epoch 135: 0.07594337849006529\n",
      "MSE for epoch 136: 0.0762347995920438\n",
      "MSE for epoch 137: 0.07452376031388591\n",
      "MSE for epoch 138: 0.0747279288439611\n",
      "MSE for epoch 139: 0.07574942562073878\n",
      "MSE for epoch 140: 0.07444147113942333\n",
      "MSE for epoch 141: 0.07431463354808421\n",
      "MSE for epoch 142: 0.0737210459217245\n",
      "MSE for epoch 143: 0.07310126484854067\n",
      "MSE for epoch 144: 0.0734351242449225\n",
      "MSE for epoch 145: 0.07273052237020806\n",
      "MSE for epoch 146: 0.07193422171956289\n",
      "MSE for epoch 147: 0.07292650230271765\n",
      "MSE for epoch 148: 0.07256764622872067\n",
      "MSE for epoch 149: 0.07204774950931336\n",
      "MSE for epoch 150: 0.07088909935830524\n",
      "MSE for epoch 151: 0.0707195886695445\n",
      "MSE for epoch 152: 0.07028805885858692\n",
      "MSE for epoch 153: 0.07086002669939208\n",
      "MSE for epoch 154: 0.07119791826694605\n",
      "MSE for epoch 155: 0.0693754397694863\n",
      "MSE for epoch 156: 0.07036280151220282\n",
      "MSE for epoch 157: 0.0702364362672323\n",
      "MSE for epoch 158: 0.06879339657205084\n",
      "MSE for epoch 159: 0.06882556851229836\n",
      "MSE for epoch 160: 0.06790348476323867\n",
      "MSE for epoch 161: 0.06763912005548037\n",
      "MSE for epoch 162: 0.06742744156163352\n",
      "MSE for epoch 163: 0.06715465903293466\n",
      "MSE for epoch 164: 0.06694894002011226\n",
      "MSE for epoch 165: 0.06815267949554707\n",
      "MSE for epoch 166: 0.06730131999368258\n",
      "MSE for epoch 167: 0.06671447948777938\n",
      "MSE for epoch 168: 0.06734227463492463\n",
      "MSE for epoch 169: 0.06631146300101445\n",
      "MSE for epoch 170: 0.0668071346090269\n",
      "MSE for epoch 171: 0.06606859991998201\n",
      "MSE for epoch 172: 0.0663053055416275\n",
      "MSE for epoch 173: 0.06602678028768548\n",
      "MSE for epoch 174: 0.06531960755147895\n",
      "MSE for epoch 175: 0.06527799703263437\n",
      "MSE for epoch 176: 0.06504885342410506\n",
      "MSE for epoch 177: 0.06518239535853274\n",
      "MSE for epoch 178: 0.06450979531905639\n",
      "MSE for epoch 179: 0.06468351387069608\n",
      "MSE for epoch 180: 0.06436256000253292\n",
      "MSE for epoch 181: 0.06375538101708933\n",
      "MSE for epoch 182: 0.063674496726418\n",
      "MSE for epoch 183: 0.062462379803785904\n",
      "MSE for epoch 184: 0.06381570261859466\n",
      "MSE for epoch 185: 0.06295377685039409\n",
      "MSE for epoch 186: 0.06312644305131611\n",
      "MSE for epoch 187: 0.06250987107616254\n",
      "MSE for epoch 188: 0.0624183694083307\n",
      "MSE for epoch 189: 0.06209781090273077\n",
      "MSE for epoch 190: 0.06248426090761339\n",
      "MSE for epoch 191: 0.06155097477998747\n",
      "MSE for epoch 192: 0.06155264480480697\n",
      "MSE for epoch 193: 0.061136508438592786\n",
      "MSE for epoch 194: 0.06086374121181415\n",
      "MSE for epoch 195: 0.061109162122333964\n",
      "MSE for epoch 196: 0.060607934858637656\n",
      "MSE for epoch 197: 0.06176415220871544\n",
      "MSE for epoch 198: 0.06030350550599131\n",
      "MSE for epoch 199: 0.05968517161023887\n",
      "MSE for epoch 200: 0.059616121059879734\n",
      "MSE for epoch 201: 0.06009614755755978\n",
      "MSE for epoch 202: 0.0590437998871118\n",
      "MSE for epoch 203: 0.05953944287336961\n",
      "MSE for epoch 204: 0.05898618800468464\n",
      "MSE for epoch 205: 0.05905980334242751\n",
      "MSE for epoch 206: 0.05944369734361769\n",
      "MSE for epoch 207: 0.05904425512920843\n",
      "MSE for epoch 208: 0.058790432463681805\n",
      "MSE for epoch 209: 0.05903207106580128\n",
      "MSE for epoch 210: 0.05811390981066085\n",
      "MSE for epoch 211: 0.058497763219101835\n",
      "MSE for epoch 212: 0.05771172845198361\n",
      "MSE for epoch 213: 0.057396519265348535\n",
      "MSE for epoch 214: 0.057823598310556605\n",
      "MSE for epoch 215: 0.05794563059504185\n",
      "MSE for epoch 216: 0.05636489204526594\n",
      "MSE for epoch 217: 0.057057371004292486\n",
      "MSE for epoch 218: 0.05680404139182501\n",
      "MSE for epoch 219: 0.056383417318839474\n",
      "MSE for epoch 220: 0.05558522131973756\n",
      "MSE for epoch 221: 0.05665252574527621\n",
      "MSE for epoch 222: 0.056819995694748195\n",
      "MSE for epoch 223: 0.05613415481961533\n",
      "MSE for epoch 224: 0.0556603994740777\n",
      "MSE for epoch 225: 0.05583069241824115\n",
      "MSE for epoch 226: 0.054343194896571544\n",
      "MSE for epoch 227: 0.05446920130065632\n",
      "MSE for epoch 228: 0.054935466127705876\n",
      "MSE for epoch 229: 0.05562203113907917\n",
      "MSE for epoch 230: 0.05468145162011728\n",
      "MSE for epoch 231: 0.05513781864168789\n",
      "MSE for epoch 232: 0.054331770023683265\n",
      "MSE for epoch 233: 0.05434340931166406\n",
      "MSE for epoch 234: 0.053579196664707895\n",
      "MSE for epoch 235: 0.054398735186020036\n",
      "MSE for epoch 236: 0.05430869159680548\n",
      "MSE for epoch 237: 0.05353833527243516\n",
      "MSE for epoch 238: 0.054538924403288794\n",
      "MSE for epoch 239: 0.05398014168558347\n",
      "MSE for epoch 240: 0.05255190437302556\n",
      "MSE for epoch 241: 0.05346232683727276\n",
      "MSE for epoch 242: 0.05335483605419994\n",
      "MSE for epoch 243: 0.052326451015194626\n",
      "MSE for epoch 244: 0.05312910984905688\n",
      "MSE for epoch 245: 0.05230972183558791\n",
      "MSE for epoch 246: 0.05203419664472369\n",
      "MSE for epoch 247: 0.05154441430405603\n",
      "MSE for epoch 248: 0.05256619173750191\n",
      "MSE for epoch 249: 0.051548220543335514\n",
      "MSE for epoch 250: 0.05128900626844835\n",
      "MSE for epoch 251: 0.05141980835684067\n",
      "MSE for epoch 252: 0.05089039495936806\n",
      "MSE for epoch 253: 0.05210186807198264\n",
      "MSE for epoch 254: 0.05152460823545666\n",
      "MSE for epoch 255: 0.05232518558796857\n",
      "MSE for epoch 256: 0.05096798772107501\n",
      "MSE for epoch 257: 0.050935216772257784\n",
      "MSE for epoch 258: 0.05098396983227532\n",
      "MSE for epoch 259: 0.05047643795702925\n",
      "MSE for epoch 260: 0.05043367555280456\n",
      "MSE for epoch 261: 0.05034832327630052\n",
      "MSE for epoch 262: 0.04972278691767321\n",
      "MSE for epoch 263: 0.04911436279253524\n",
      "MSE for epoch 264: 0.0497378183311666\n",
      "MSE for epoch 265: 0.05018004089393102\n",
      "MSE for epoch 266: 0.049641478384867356\n",
      "MSE for epoch 267: 0.04927535665099964\n",
      "MSE for epoch 268: 0.04989598368962017\n",
      "MSE for epoch 269: 0.04974932991220262\n",
      "MSE for epoch 270: 0.04906462083587313\n",
      "MSE for epoch 271: 0.048898195682748884\n",
      "MSE for epoch 272: 0.04845083265848353\n",
      "MSE for epoch 273: 0.04814016750587885\n",
      "MSE for epoch 274: 0.04830545261618487\n",
      "MSE for epoch 275: 0.04893414870566503\n",
      "MSE for epoch 276: 0.04782812021726282\n",
      "MSE for epoch 277: 0.0481391975972695\n",
      "MSE for epoch 278: 0.04843381327678212\n",
      "MSE for epoch 279: 0.048998740067284864\n",
      "MSE for epoch 280: 0.048537555278122216\n",
      "MSE for epoch 281: 0.0477549269585227\n",
      "MSE for epoch 282: 0.047851351475235615\n",
      "MSE for epoch 283: 0.04756593656955668\n",
      "MSE for epoch 284: 0.04732176398853645\n",
      "MSE for epoch 285: 0.047298387203639346\n",
      "MSE for epoch 286: 0.04754972292811103\n",
      "MSE for epoch 287: 0.04702169302858134\n",
      "MSE for epoch 288: 0.04716361346546564\n",
      "MSE for epoch 289: 0.047571011415011945\n",
      "MSE for epoch 290: 0.04568073793826882\n",
      "MSE for epoch 291: 0.04753160142490516\n",
      "MSE for epoch 292: 0.04608043981717115\n",
      "MSE for epoch 293: 0.04636960442810259\n",
      "MSE for epoch 294: 0.04607716408638729\n",
      "MSE for epoch 295: 0.0473871133321494\n",
      "MSE for epoch 296: 0.046668029374308764\n",
      "MSE for epoch 297: 0.0462627128335058\n",
      "MSE for epoch 298: 0.04662392541014074\n",
      "MSE for epoch 299: 0.04617342393451517\n"
     ]
    }
   ],
   "source": [
    "rbm.train_model(data, n_epoch=300)"
   ]
  },
  {
   "cell_type": "code",
   "execution_count": 138,
   "metadata": {},
   "outputs": [
    {
     "data": {
      "text/plain": [
       "<matplotlib.image.AxesImage at 0x256bdec3220>"
      ]
     },
     "execution_count": 138,
     "metadata": {},
     "output_type": "execute_result"
    },
    {
     "data": {
      "image/png": "[encoded data removed]",
      "text/plain": [
       "<Figure size 432x288 with 1 Axes>"
      ]
     },
     "metadata": {
      "needs_background": "light"
     },
     "output_type": "display_data"
    }
   ],
   "source": [
    "plt.imshow(data[39*2].reshape(20,16), cmap='Greys_r')"
   ]
  },
  {
   "cell_type": "code",
   "execution_count": 139,
   "metadata": {},
   "outputs": [
    {
     "data": {
      "text/plain": [
       "<matplotlib.image.AxesImage at 0x256bdf19790>"
      ]
     },
     "execution_count": 139,
     "metadata": {},
     "output_type": "execute_result"
    },
    {
     "data": {
      "image/png": "[encoded data removed]",
      "text/plain": [
       "<Figure size 432x288 with 1 Axes>"
      ]
     },
     "metadata": {
      "needs_background": "light"
     },
     "output_type": "display_data"
    }
   ],
   "source": [
    "plt.imshow(rbm.reconstruct(data[39*2].T)[0].reshape(20,16), cmap='Greys_r')"
   ]
  },
  {
   "cell_type": "code",
   "execution_count": 140,
   "metadata": {},
   "outputs": [],
   "source": [
    "generated_images = rbm.generate_image(iter_gibbs=1000, number_image=100)"
   ]
  },
  {
   "cell_type": "code",
   "execution_count": 164,
   "metadata": {},
   "outputs": [
    {
     "data": {
      "image/png": "[encoded data removed]",
      "text/plain": [
       "<Figure size 1152x3456 with 100 Axes>"
      ]
     },
     "metadata": {
      "needs_background": "light"
     },
     "output_type": "display_data"
    }
   ],
   "source": [
    "fig = plt.figure(figsize=(16, 48))\n",
    "columns = 5\n",
    "rows = 20\n",
    "for i in range(1, columns*rows +1):\n",
    "    img = generated_images[i-1].reshape(20,16)\n",
    "    fig.add_subplot(rows, columns, i)\n",
    "    plt.imshow(img, cmap='Greys_r')\n",
    "plt.show()"
   ]
  },
  {
   "cell_type": "code",
   "execution_count": 165,
   "metadata": {},
   "outputs": [],
   "source": [
    "def calcul_softmax(rbm:RBM, data):\n",
    "    h, _ = rbm.forward(data)\n",
    "    sum_exp = np.exp(h).sum()\n",
    "    softmax = np.exp(h) / sum_exp\n",
    "    \n",
    "    assert softmax.shape == h.shape, 'probability layer should have the same shape as hidden layer'\n",
    "    assert round(softmax.sum(), 2) == 1.0, 'probabilities should sum to 1'\n",
    "    \n",
    "    return softmax"
   ]
  },
  {
   "cell_type": "code",
   "execution_count": 166,
   "metadata": {},
   "outputs": [
    {
     "data": {
      "text/plain": [
       "<__main__.RBM at 0x256bde634f0>"
      ]
     },
     "execution_count": 166,
     "metadata": {},
     "output_type": "execute_result"
    }
   ],
   "source": [
    "calcul_softmax"
   ]
  },
  {
   "cell_type": "markdown",
   "metadata": {},
   "source": [
    "---"
   ]
  },
  {
   "cell_type": "markdown",
   "metadata": {},
   "source": [
    "### DBN"
   ]
  },
  {
   "cell_type": "code",
   "execution_count": 149,
   "metadata": {},
   "outputs": [],
   "source": [
    "class DBN():\n",
    "    def __init__(self, n_v, layers, k=1):\n",
    "        \n",
    "        if n_v is None or layers is None: raise ValueError(\"Incorrect inputs for layer 0.\")\n",
    "        \n",
    "        n_hs = [n_v]        \n",
    "        n_layer = 0\n",
    "        \n",
    "        rbms = []\n",
    "        for (n_h, model) in layers:\n",
    "            n_layer += 1\n",
    "            if n_h <= 0: raise ValueError(\"Incorrect inputs for layer %d\" % (n_layer))\n",
    "            else: n_hs.append(n_h)\n",
    "\n",
    "            rbm = RBM(n_hs[n_layer-1], n_h, k=k)\n",
    "            rbms.append(rbm)\n",
    "\n",
    "        self.n_hs = n_hs\n",
    "        self.n_layer = n_layer\n",
    "        self.rbms = rbms\n",
    "        return\n",
    "    \n",
    "    def forward(self, X):\n",
    "        \n",
    "        Hp = X\n",
    "        for i in range(self.n_layer):\n",
    "            Hp, Hs = self.rbms[i].forward(Hp)\n",
    "        \n",
    "        return Hp, Hs\n",
    "\n",
    "    def backward(self, H):\n",
    "\n",
    "        Vp = H\n",
    "        for i in reversed(range(self.n_layer)):\n",
    "            Vp, Vs = self.rbms[i].backward(Vp)\n",
    "        \n",
    "        return Vp, Vs\n",
    "\n",
    "    def train_model(self, X, epochs=1, learning=0.01):\n",
    "        \n",
    "        for layer in range(self.n_layer):\n",
    "            self.rbms[layer].train_model(X, n_epoch=epochs, learning=learning)\n",
    "            X = np.swapaxes((np.array(list(map(lambda x : self.rbms[layer].forward(x.T), X)))[:, 0, :, :]), 1, 2)\n",
    "        \n",
    "        return\n",
    "    \n",
    "    def reconstruct(self, X):\n",
    "        h_layer = self.n_layer - 1\n",
    "        Hp = X\n",
    "        for i in range(h_layer):\n",
    "            Hp, Hs = self.rbms[i].forward(Hp)\n",
    "        \n",
    "        Vp, Vs = self.rbms[h_layer].reconstruct(Hp)\n",
    "\n",
    "        for i in reversed(range(h_layer)):\n",
    "            Hp, Hs = self.rbms[i].backward(Hp)\n",
    "\n",
    "        return Hp, Hs\n",
    "    \n",
    "    def generate_image(self, iter_gibbs, n_images):\n",
    "        images = []\n",
    "        for _ in range(n_images):\n",
    "            v = np.zeros(self.n_hs[0]).reshape(1, -1) # n_hs[0] = n_v first layer\n",
    "            for _ in range(iter_gibbs):\n",
    "                _, v = self.reconstruct(v)\n",
    "            images.append(v)\n",
    "        return images"
   ]
  },
  {
   "cell_type": "code",
   "execution_count": 150,
   "metadata": {},
   "outputs": [],
   "source": [
    "n_v = 20*16\n",
    "h_1 = 20*10\n",
    "h_2 = 20*8\n",
    "h_3 = 20*8\n",
    "\n",
    "layers = [\n",
    "    (h_1, None),\n",
    "    (h_2, None),\n",
    "    # (h_3, None),\n",
    "]\n",
    "\n",
    "dbn = DBN(n_v, layers)"
   ]
  },
  {
   "cell_type": "code",
   "execution_count": 151,
   "metadata": {},
   "outputs": [
    {
     "data": {
      "text/plain": [
       "<matplotlib.image.AxesImage at 0x256bf0b7f40>"
      ]
     },
     "execution_count": 151,
     "metadata": {},
     "output_type": "execute_result"
    },
    {
     "data": {
      "image/png": "[encoded data removed]",
      "text/plain": [
       "<Figure size 432x288 with 1 Axes>"
      ]
     },
     "metadata": {
      "needs_background": "light"
     },
     "output_type": "display_data"
    }
   ],
   "source": [
    "plt.imshow(data[39*2].T.reshape(20,16), cmap='Greys_r')"
   ]
  },
  {
   "cell_type": "code",
   "execution_count": 152,
   "metadata": {},
   "outputs": [
    {
     "data": {
      "text/plain": [
       "<matplotlib.image.AxesImage at 0x256bf1174f0>"
      ]
     },
     "execution_count": 152,
     "metadata": {},
     "output_type": "execute_result"
    },
    {
     "data": {
      "image/png": "[encoded data removed]",
      "text/plain": [
       "<Figure size 432x288 with 1 Axes>"
      ]
     },
     "metadata": {
      "needs_background": "light"
     },
     "output_type": "display_data"
    }
   ],
   "source": [
    "plt.imshow(dbn.reconstruct(data[39*2].T)[0].reshape(20,16), cmap='Greys_r')"
   ]
  },
  {
   "cell_type": "code",
   "execution_count": 153,
   "metadata": {},
   "outputs": [
    {
     "name": "stdout",
     "output_type": "stream",
     "text": [
      "MSE for epoch 0: 0.39138372200233484\n",
      "MSE for epoch 1: 0.3491004336053576\n",
      "MSE for epoch 2: 0.31496987541588684\n",
      "MSE for epoch 3: 0.294364287895193\n",
      "MSE for epoch 4: 0.27187045622094996\n",
      "MSE for epoch 5: 0.25887599689167157\n",
      "MSE for epoch 6: 0.2457277979613508\n",
      "MSE for epoch 7: 0.2364229702931839\n",
      "MSE for epoch 8: 0.22337872767297048\n",
      "MSE for epoch 9: 0.21672875295472793\n",
      "MSE for epoch 10: 0.21064614537470075\n",
      "MSE for epoch 11: 0.2034657283920685\n",
      "MSE for epoch 12: 0.19474057477968837\n",
      "MSE for epoch 13: 0.18986319090733508\n",
      "MSE for epoch 14: 0.1852791038516748\n",
      "MSE for epoch 15: 0.18042375487044507\n",
      "MSE for epoch 16: 0.17527742471582505\n",
      "MSE for epoch 17: 0.17068561633335486\n",
      "MSE for epoch 18: 0.1684070701785246\n",
      "MSE for epoch 19: 0.165243533585317\n",
      "MSE for epoch 20: 0.16037897311634047\n",
      "MSE for epoch 21: 0.15712369137916743\n",
      "MSE for epoch 22: 0.15561618204971214\n",
      "MSE for epoch 23: 0.15096920002790926\n",
      "MSE for epoch 24: 0.14837739579882817\n",
      "MSE for epoch 25: 0.14634514632646506\n",
      "MSE for epoch 26: 0.14284129143661173\n",
      "MSE for epoch 27: 0.1397938654909135\n",
      "MSE for epoch 28: 0.13812788401559326\n",
      "MSE for epoch 29: 0.13589887620533705\n",
      "MSE for epoch 30: 0.1342941082203877\n",
      "MSE for epoch 31: 0.13183421353728994\n",
      "MSE for epoch 32: 0.12843893184825783\n",
      "MSE for epoch 33: 0.127994886578564\n",
      "MSE for epoch 34: 0.12547914257360226\n",
      "MSE for epoch 35: 0.12365286417681824\n",
      "MSE for epoch 36: 0.12296516833867173\n",
      "MSE for epoch 37: 0.1199008177022111\n",
      "MSE for epoch 38: 0.1189713788031374\n",
      "MSE for epoch 39: 0.11772975602544172\n",
      "MSE for epoch 40: 0.11429310333890384\n",
      "MSE for epoch 41: 0.11312162399941271\n",
      "MSE for epoch 42: 0.11376128785849644\n",
      "MSE for epoch 43: 0.11097456315487664\n",
      "MSE for epoch 44: 0.10931664859542009\n",
      "MSE for epoch 45: 0.1089061902816183\n",
      "MSE for epoch 46: 0.10663266865799444\n",
      "MSE for epoch 47: 0.1064394447133698\n",
      "MSE for epoch 48: 0.10492063517330395\n",
      "MSE for epoch 49: 0.10333895734408431\n",
      "MSE for epoch 50: 0.10090275261066134\n",
      "MSE for epoch 51: 0.10299044198351738\n",
      "MSE for epoch 52: 0.1014678010219189\n",
      "MSE for epoch 53: 0.09930605677799795\n",
      "MSE for epoch 54: 0.09757548412234043\n",
      "MSE for epoch 55: 0.0975353950105818\n",
      "MSE for epoch 56: 0.09601537717619216\n",
      "MSE for epoch 57: 0.09489467307938898\n",
      "MSE for epoch 58: 0.0947069227101263\n",
      "MSE for epoch 59: 0.09319882180716893\n",
      "MSE for epoch 60: 0.09145223221011205\n",
      "MSE for epoch 61: 0.089889391420233\n",
      "MSE for epoch 62: 0.09127824684411714\n",
      "MSE for epoch 63: 0.08951066507657143\n",
      "MSE for epoch 64: 0.0890888529433154\n",
      "MSE for epoch 65: 0.08773234495642394\n",
      "MSE for epoch 66: 0.08715384161890985\n",
      "MSE for epoch 67: 0.08609490401970149\n",
      "MSE for epoch 68: 0.08721151241639877\n",
      "MSE for epoch 69: 0.0853915144666009\n",
      "MSE for epoch 70: 0.08464256632655381\n",
      "MSE for epoch 71: 0.08293680781149859\n",
      "MSE for epoch 72: 0.08149897424517787\n",
      "MSE for epoch 73: 0.0831704572451229\n",
      "MSE for epoch 74: 0.08115060924030196\n",
      "MSE for epoch 75: 0.08040969626688324\n",
      "MSE for epoch 76: 0.07945512843428133\n",
      "MSE for epoch 77: 0.07859908574021271\n",
      "MSE for epoch 78: 0.07909084776739954\n",
      "MSE for epoch 79: 0.078222170980552\n",
      "MSE for epoch 80: 0.07639179942988836\n",
      "MSE for epoch 81: 0.07549773382928712\n",
      "MSE for epoch 82: 0.07622474890598127\n",
      "MSE for epoch 83: 0.07553875811070927\n",
      "MSE for epoch 84: 0.07511038479740334\n",
      "MSE for epoch 85: 0.07471397983539989\n",
      "MSE for epoch 86: 0.07380376431792784\n",
      "MSE for epoch 87: 0.07291653444971266\n",
      "MSE for epoch 88: 0.07312642613153914\n",
      "MSE for epoch 89: 0.07154338802961861\n",
      "MSE for epoch 90: 0.07171241049627416\n",
      "MSE for epoch 91: 0.07052670786243524\n",
      "MSE for epoch 92: 0.07041985588412653\n",
      "MSE for epoch 93: 0.07007640758386681\n",
      "MSE for epoch 94: 0.06928820109721573\n",
      "MSE for epoch 95: 0.0698240730222966\n",
      "MSE for epoch 96: 0.06939410544064718\n",
      "MSE for epoch 97: 0.06859722515382914\n",
      "MSE for epoch 98: 0.06720121598913525\n",
      "MSE for epoch 99: 0.06688489252379748\n",
      "MSE for epoch 100: 0.06626384589446403\n",
      "MSE for epoch 101: 0.06523601857546737\n",
      "MSE for epoch 102: 0.06558747673369127\n",
      "MSE for epoch 103: 0.0660432435136949\n",
      "MSE for epoch 104: 0.06480081536396567\n",
      "MSE for epoch 105: 0.06440958844543539\n",
      "MSE for epoch 106: 0.06484720607562569\n",
      "MSE for epoch 107: 0.06391502010398882\n",
      "MSE for epoch 108: 0.06423269046809672\n",
      "MSE for epoch 109: 0.06320777416001701\n",
      "MSE for epoch 110: 0.06277634918290753\n",
      "MSE for epoch 111: 0.06204118994958108\n",
      "MSE for epoch 112: 0.06187952145370959\n",
      "MSE for epoch 113: 0.06063327031707761\n",
      "MSE for epoch 114: 0.06106246987576626\n",
      "MSE for epoch 115: 0.061687559701080356\n",
      "MSE for epoch 116: 0.059307806347278814\n",
      "MSE for epoch 117: 0.05916878659725132\n",
      "MSE for epoch 118: 0.06033204268395416\n",
      "MSE for epoch 119: 0.058440737397703696\n",
      "MSE for epoch 120: 0.05707351105891857\n",
      "MSE for epoch 121: 0.05792009720337953\n",
      "MSE for epoch 122: 0.05882685800182933\n",
      "MSE for epoch 123: 0.05746430243272174\n",
      "MSE for epoch 124: 0.05700105385217546\n",
      "MSE for epoch 125: 0.05691874543732003\n",
      "MSE for epoch 126: 0.056081792708350335\n",
      "MSE for epoch 127: 0.05668765300077768\n",
      "MSE for epoch 128: 0.0557904557714877\n",
      "MSE for epoch 129: 0.055564821799628863\n",
      "MSE for epoch 130: 0.05524894207304526\n",
      "MSE for epoch 131: 0.05512758805476298\n",
      "MSE for epoch 132: 0.05471879795588246\n",
      "MSE for epoch 133: 0.05512097729263021\n",
      "MSE for epoch 134: 0.05354297432742175\n",
      "MSE for epoch 135: 0.05371959223326991\n",
      "MSE for epoch 136: 0.05368925434799744\n",
      "MSE for epoch 137: 0.05401336667284282\n",
      "MSE for epoch 138: 0.05219206088975004\n",
      "MSE for epoch 139: 0.05298355829574077\n",
      "MSE for epoch 140: 0.05199323952677249\n",
      "MSE for epoch 141: 0.052279033985284745\n",
      "MSE for epoch 142: 0.052786298359621904\n",
      "MSE for epoch 143: 0.05241221149381247\n",
      "MSE for epoch 144: 0.05195489884740961\n",
      "MSE for epoch 145: 0.05105902181450241\n",
      "MSE for epoch 146: 0.050006331763156026\n",
      "MSE for epoch 147: 0.05114778736185157\n",
      "MSE for epoch 148: 0.04970145491856173\n",
      "MSE for epoch 149: 0.04943723674003751\n",
      "MSE for epoch 150: 0.050303747905308005\n",
      "MSE for epoch 151: 0.05000989214549816\n",
      "MSE for epoch 152: 0.05017469846894807\n",
      "MSE for epoch 153: 0.04868890520054289\n",
      "MSE for epoch 154: 0.049045247374480676\n",
      "MSE for epoch 155: 0.04854523983137159\n",
      "MSE for epoch 156: 0.04819712588182785\n",
      "MSE for epoch 157: 0.048457408163493025\n",
      "MSE for epoch 158: 0.04832260774460084\n",
      "MSE for epoch 159: 0.04738172162359514\n",
      "MSE for epoch 160: 0.047117900250637064\n",
      "MSE for epoch 161: 0.04755743228224173\n",
      "MSE for epoch 162: 0.047311148006223\n",
      "MSE for epoch 163: 0.047425727389319695\n",
      "MSE for epoch 164: 0.04634879853752096\n",
      "MSE for epoch 165: 0.0459979758047229\n",
      "MSE for epoch 166: 0.045735019120638064\n",
      "MSE for epoch 167: 0.04584977948116215\n",
      "MSE for epoch 168: 0.04628554389096141\n",
      "MSE for epoch 169: 0.04547877515552546\n",
      "MSE for epoch 170: 0.045690789764033124\n",
      "MSE for epoch 171: 0.04492308774597023\n",
      "MSE for epoch 172: 0.04565725872205546\n",
      "MSE for epoch 173: 0.04503238834808345\n",
      "MSE for epoch 174: 0.04495578145896607\n",
      "MSE for epoch 175: 0.044529323484349806\n",
      "MSE for epoch 176: 0.04357947178468871\n",
      "MSE for epoch 177: 0.04304455493434664\n",
      "MSE for epoch 178: 0.04422288679205347\n",
      "MSE for epoch 179: 0.0439842153333743\n",
      "MSE for epoch 180: 0.043424180882065365\n",
      "MSE for epoch 181: 0.042862775988084495\n",
      "MSE for epoch 182: 0.0429786336214973\n",
      "MSE for epoch 183: 0.04264154159513258\n",
      "MSE for epoch 184: 0.04297772471820349\n",
      "MSE for epoch 185: 0.04249065525789296\n",
      "MSE for epoch 186: 0.0416218304083295\n",
      "MSE for epoch 187: 0.04215610898735825\n",
      "MSE for epoch 188: 0.04177709714805708\n",
      "MSE for epoch 189: 0.042867490297218105\n",
      "MSE for epoch 190: 0.04185680852518317\n",
      "MSE for epoch 191: 0.042049091597407724\n",
      "MSE for epoch 192: 0.04152019040860447\n",
      "MSE for epoch 193: 0.041644197706174106\n",
      "MSE for epoch 194: 0.04008286505080431\n",
      "MSE for epoch 195: 0.040403800847979975\n",
      "MSE for epoch 196: 0.04107818901188553\n",
      "MSE for epoch 197: 0.040279181697132266\n",
      "MSE for epoch 198: 0.040053141501572596\n",
      "MSE for epoch 199: 0.04079628120599718\n",
      "MSE for epoch 200: 0.039608648851830325\n",
      "MSE for epoch 201: 0.03972236847995987\n",
      "MSE for epoch 202: 0.039811171647025155\n",
      "MSE for epoch 203: 0.03965553562302028\n",
      "MSE for epoch 204: 0.03919710272497279\n",
      "MSE for epoch 205: 0.03953752627925422\n",
      "MSE for epoch 206: 0.03891406616905048\n",
      "MSE for epoch 207: 0.03907328078922576\n",
      "MSE for epoch 208: 0.03845799402895824\n",
      "MSE for epoch 209: 0.038780698311385545\n",
      "MSE for epoch 210: 0.039693951494485326\n",
      "MSE for epoch 211: 0.038458142644888886\n",
      "MSE for epoch 212: 0.03896534741290779\n",
      "MSE for epoch 213: 0.03813400134759032\n",
      "MSE for epoch 214: 0.03793937974998848\n",
      "MSE for epoch 215: 0.03738954665928161\n",
      "MSE for epoch 216: 0.03809588556855945\n",
      "MSE for epoch 217: 0.03773483481852706\n",
      "MSE for epoch 218: 0.03779038532930371\n",
      "MSE for epoch 219: 0.03676402602035226\n",
      "MSE for epoch 220: 0.03751493970894998\n",
      "MSE for epoch 221: 0.03660201013097649\n",
      "MSE for epoch 222: 0.037314510571060944\n",
      "MSE for epoch 223: 0.03682094019428907\n",
      "MSE for epoch 224: 0.03704359190982732\n",
      "MSE for epoch 225: 0.03722202059363398\n",
      "MSE for epoch 226: 0.03592937008571476\n",
      "MSE for epoch 227: 0.03647549911306744\n",
      "MSE for epoch 228: 0.03624006456491304\n",
      "MSE for epoch 229: 0.03549206159394329\n",
      "MSE for epoch 230: 0.03618066473281582\n",
      "MSE for epoch 231: 0.03632261894881984\n",
      "MSE for epoch 232: 0.03570617876530137\n",
      "MSE for epoch 233: 0.03549199962974387\n",
      "MSE for epoch 234: 0.035158076829613805\n",
      "MSE for epoch 235: 0.03596287696073158\n",
      "MSE for epoch 236: 0.035377116329688575\n",
      "MSE for epoch 237: 0.03522838575136841\n",
      "MSE for epoch 238: 0.034850187084774296\n",
      "MSE for epoch 239: 0.03528816417402853\n",
      "MSE for epoch 240: 0.035128356588322134\n",
      "MSE for epoch 241: 0.03418125796491547\n",
      "MSE for epoch 242: 0.03468463269057305\n",
      "MSE for epoch 243: 0.03470720007927582\n",
      "MSE for epoch 244: 0.03436429087406791\n",
      "MSE for epoch 245: 0.03464730236111765\n",
      "MSE for epoch 246: 0.033191637203527885\n",
      "MSE for epoch 247: 0.034633460296932254\n",
      "MSE for epoch 248: 0.034616477322441185\n",
      "MSE for epoch 249: 0.03411116844889398\n",
      "MSE for epoch 250: 0.033536919186914704\n",
      "MSE for epoch 251: 0.033431071409383166\n",
      "MSE for epoch 252: 0.03330409855475258\n",
      "MSE for epoch 253: 0.033338632875256395\n",
      "MSE for epoch 254: 0.033215916717805063\n",
      "MSE for epoch 255: 0.033116935489295236\n",
      "MSE for epoch 256: 0.03355388763300937\n",
      "MSE for epoch 257: 0.03335337812467961\n",
      "MSE for epoch 258: 0.03285613229240548\n",
      "MSE for epoch 259: 0.032704830114056865\n",
      "MSE for epoch 260: 0.032229400875806134\n",
      "MSE for epoch 261: 0.032484536169149196\n",
      "MSE for epoch 262: 0.03191751713142121\n",
      "MSE for epoch 263: 0.03289690315770414\n",
      "MSE for epoch 264: 0.03269077714165239\n",
      "MSE for epoch 265: 0.031503426404817965\n",
      "MSE for epoch 266: 0.03165493618543589\n",
      "MSE for epoch 267: 0.031725826205783986\n",
      "MSE for epoch 268: 0.0318504272931637\n",
      "MSE for epoch 269: 0.03191853759123513\n",
      "MSE for epoch 270: 0.031631907897281084\n",
      "MSE for epoch 271: 0.03140523165289441\n",
      "MSE for epoch 272: 0.03133151275410315\n",
      "MSE for epoch 273: 0.031224963854503827\n",
      "MSE for epoch 274: 0.03073292498082392\n",
      "MSE for epoch 275: 0.031594151621899214\n",
      "MSE for epoch 276: 0.03216206497674877\n",
      "MSE for epoch 277: 0.03125708167838928\n",
      "MSE for epoch 278: 0.03142894456928534\n",
      "MSE for epoch 279: 0.031142615404252515\n",
      "MSE for epoch 280: 0.031088947406506254\n",
      "MSE for epoch 281: 0.030882136032381803\n",
      "MSE for epoch 282: 0.030360023955265866\n",
      "MSE for epoch 283: 0.030249234868444136\n",
      "MSE for epoch 284: 0.030343925234373067\n",
      "MSE for epoch 285: 0.030351269709487004\n",
      "MSE for epoch 286: 0.030598836354756947\n",
      "MSE for epoch 287: 0.029609341546196297\n",
      "MSE for epoch 288: 0.030062063698996066\n",
      "MSE for epoch 289: 0.03060439706974891\n",
      "MSE for epoch 290: 0.029478464341978768\n",
      "MSE for epoch 291: 0.029890646775684586\n",
      "MSE for epoch 292: 0.030295935125176154\n",
      "MSE for epoch 293: 0.030942544163298225\n",
      "MSE for epoch 294: 0.029534003438650102\n",
      "MSE for epoch 295: 0.030425804711732427\n",
      "MSE for epoch 296: 0.029331917555760093\n",
      "MSE for epoch 297: 0.029688815100787334\n",
      "MSE for epoch 298: 0.028703280305678532\n",
      "MSE for epoch 299: 0.029666625288990646\n",
      "MSE for epoch 0: 0.15245664138795925\n",
      "MSE for epoch 1: 0.11552672007554951\n",
      "MSE for epoch 2: 0.1073152310725526\n",
      "MSE for epoch 3: 0.1002821476594354\n",
      "MSE for epoch 4: 0.09742069140458647\n",
      "MSE for epoch 5: 0.09215940390291429\n",
      "MSE for epoch 6: 0.0873974003439566\n",
      "MSE for epoch 7: 0.083732367567091\n",
      "MSE for epoch 8: 0.07991826761390214\n",
      "MSE for epoch 9: 0.07627685307775871\n",
      "MSE for epoch 10: 0.0740383686182008\n",
      "MSE for epoch 11: 0.06993126059092114\n",
      "MSE for epoch 12: 0.06940227344522962\n",
      "MSE for epoch 13: 0.06516845810242197\n",
      "MSE for epoch 14: 0.0647887513563419\n",
      "MSE for epoch 15: 0.06283900074666642\n",
      "MSE for epoch 16: 0.05995219297971107\n",
      "MSE for epoch 17: 0.059810251834890964\n",
      "MSE for epoch 18: 0.05751519251744331\n",
      "MSE for epoch 19: 0.05634703258160536\n",
      "MSE for epoch 20: 0.05376363764519648\n",
      "MSE for epoch 21: 0.05266021436670438\n",
      "MSE for epoch 22: 0.05190955063208979\n",
      "MSE for epoch 23: 0.05013843832226893\n",
      "MSE for epoch 24: 0.04928929076379771\n",
      "MSE for epoch 25: 0.049382447388924625\n",
      "MSE for epoch 26: 0.046425839646349214\n",
      "MSE for epoch 27: 0.046874284391463746\n",
      "MSE for epoch 28: 0.04562595440900775\n",
      "MSE for epoch 29: 0.04419674026134148\n",
      "MSE for epoch 30: 0.042916561729304636\n",
      "MSE for epoch 31: 0.04227234054794546\n",
      "MSE for epoch 32: 0.04239136661243489\n",
      "MSE for epoch 33: 0.04114332377425591\n",
      "MSE for epoch 34: 0.03897864352037017\n",
      "MSE for epoch 35: 0.03888188438884008\n",
      "MSE for epoch 36: 0.038503131471715364\n",
      "MSE for epoch 37: 0.03851326628510854\n",
      "MSE for epoch 38: 0.03723357569359728\n",
      "MSE for epoch 39: 0.036810402513531716\n",
      "MSE for epoch 40: 0.03637770746616489\n",
      "MSE for epoch 41: 0.03467014593975602\n",
      "MSE for epoch 42: 0.034985016666530346\n",
      "MSE for epoch 43: 0.033973291393800675\n",
      "MSE for epoch 44: 0.03346528460571042\n",
      "MSE for epoch 45: 0.03249861237591547\n",
      "MSE for epoch 46: 0.031672490168869756\n",
      "MSE for epoch 47: 0.0321559888799608\n",
      "MSE for epoch 48: 0.03117465874369494\n",
      "MSE for epoch 49: 0.030724514110099944\n",
      "MSE for epoch 50: 0.02960823306513879\n",
      "MSE for epoch 51: 0.028782703532220958\n",
      "MSE for epoch 52: 0.029611978975489364\n",
      "MSE for epoch 53: 0.02896872175994399\n",
      "MSE for epoch 54: 0.028803142344827753\n",
      "MSE for epoch 55: 0.02779229627033173\n",
      "MSE for epoch 56: 0.027514784386049075\n",
      "MSE for epoch 57: 0.026937844860901335\n",
      "MSE for epoch 58: 0.02675843550486885\n",
      "MSE for epoch 59: 0.026571405070592073\n",
      "MSE for epoch 60: 0.025699536631371252\n",
      "MSE for epoch 61: 0.025339238131290437\n",
      "MSE for epoch 62: 0.02502532461547861\n",
      "MSE for epoch 63: 0.02413254280018021\n",
      "MSE for epoch 64: 0.024444080525117123\n",
      "MSE for epoch 65: 0.02519531592423018\n",
      "MSE for epoch 66: 0.023045405851422\n",
      "MSE for epoch 67: 0.022802791874136193\n",
      "MSE for epoch 68: 0.023162394492208988\n",
      "MSE for epoch 69: 0.022155640117246852\n",
      "MSE for epoch 70: 0.022894198725704376\n",
      "MSE for epoch 71: 0.022151557440941542\n",
      "MSE for epoch 72: 0.021599047376551148\n",
      "MSE for epoch 73: 0.021439108300504845\n",
      "MSE for epoch 74: 0.02121014144972048\n",
      "MSE for epoch 75: 0.021500124749487582\n",
      "MSE for epoch 76: 0.020530697157353398\n",
      "MSE for epoch 77: 0.02026231838353256\n",
      "MSE for epoch 78: 0.02024023995768367\n",
      "MSE for epoch 79: 0.019835694724206442\n",
      "MSE for epoch 80: 0.02009889210363019\n",
      "MSE for epoch 81: 0.02023094938890377\n",
      "MSE for epoch 82: 0.019189751231495085\n",
      "MSE for epoch 83: 0.01960455142354273\n",
      "MSE for epoch 84: 0.019307285732017395\n",
      "MSE for epoch 85: 0.018700105142702022\n",
      "MSE for epoch 86: 0.01857290340210282\n",
      "MSE for epoch 87: 0.01783064701946512\n",
      "MSE for epoch 88: 0.017903546196919938\n",
      "MSE for epoch 89: 0.01750549252931999\n",
      "MSE for epoch 90: 0.017845806097308223\n",
      "MSE for epoch 91: 0.017394427946108893\n",
      "MSE for epoch 92: 0.01695421583722879\n",
      "MSE for epoch 93: 0.01673814507151997\n",
      "MSE for epoch 94: 0.016313752389541646\n",
      "MSE for epoch 95: 0.01592637376967479\n",
      "MSE for epoch 96: 0.01638691909829844\n",
      "MSE for epoch 97: 0.0160223092578732\n",
      "MSE for epoch 98: 0.016173086085575026\n",
      "MSE for epoch 99: 0.015750171075214658\n",
      "MSE for epoch 100: 0.015676146431177054\n",
      "MSE for epoch 101: 0.015386528368539923\n",
      "MSE for epoch 102: 0.015367543688682827\n",
      "MSE for epoch 103: 0.015264970238560247\n",
      "MSE for epoch 104: 0.014315276490833475\n",
      "MSE for epoch 105: 0.014445335891298282\n",
      "MSE for epoch 106: 0.013956928722900249\n",
      "MSE for epoch 107: 0.014868364139489044\n",
      "MSE for epoch 108: 0.013976268326612393\n",
      "MSE for epoch 109: 0.014376109086470953\n",
      "MSE for epoch 110: 0.013807670691050645\n",
      "MSE for epoch 111: 0.013918163005075082\n",
      "MSE for epoch 112: 0.014139942990175106\n",
      "MSE for epoch 113: 0.013835633101471227\n",
      "MSE for epoch 114: 0.013773081926740288\n",
      "MSE for epoch 115: 0.013458138903883489\n",
      "MSE for epoch 116: 0.013800361123902937\n",
      "MSE for epoch 117: 0.012813570267057277\n",
      "MSE for epoch 118: 0.012966351579370398\n",
      "MSE for epoch 119: 0.013322674633762056\n",
      "MSE for epoch 120: 0.013061654238301423\n",
      "MSE for epoch 121: 0.012508517444076024\n",
      "MSE for epoch 122: 0.012995581297225995\n",
      "MSE for epoch 123: 0.012737930153580414\n",
      "MSE for epoch 124: 0.012148737298984868\n",
      "MSE for epoch 125: 0.012787152438690545\n",
      "MSE for epoch 126: 0.012837630159701855\n",
      "MSE for epoch 127: 0.011696060464297116\n",
      "MSE for epoch 128: 0.012011998387690025\n",
      "MSE for epoch 129: 0.011294715830237587\n",
      "MSE for epoch 130: 0.011925130457503232\n",
      "MSE for epoch 131: 0.011968608071640983\n",
      "MSE for epoch 132: 0.01194857098814652\n",
      "MSE for epoch 133: 0.011748055974323365\n",
      "MSE for epoch 134: 0.011955154653727358\n",
      "MSE for epoch 135: 0.01117511427949813\n",
      "MSE for epoch 136: 0.011229239638013167\n",
      "MSE for epoch 137: 0.011558729710105457\n",
      "MSE for epoch 138: 0.010909488276278736\n",
      "MSE for epoch 139: 0.010844773292610627\n",
      "MSE for epoch 140: 0.010812076653482026\n",
      "MSE for epoch 141: 0.010704097636228687\n",
      "MSE for epoch 142: 0.010784760383141022\n",
      "MSE for epoch 143: 0.010549520382822614\n",
      "MSE for epoch 144: 0.011256398718569751\n",
      "MSE for epoch 145: 0.010511331590059477\n",
      "MSE for epoch 146: 0.010015392949560685\n",
      "MSE for epoch 147: 0.010051330693396199\n",
      "MSE for epoch 148: 0.010628598692452983\n",
      "MSE for epoch 149: 0.010450850426305613\n",
      "MSE for epoch 150: 0.01007879706431436\n",
      "MSE for epoch 151: 0.009427491999125811\n",
      "MSE for epoch 152: 0.009488588974702646\n",
      "MSE for epoch 153: 0.010210251309126195\n",
      "MSE for epoch 154: 0.009339589695131115\n",
      "MSE for epoch 155: 0.01011294246080368\n",
      "MSE for epoch 156: 0.0097606503124146\n",
      "MSE for epoch 157: 0.009809485038849246\n",
      "MSE for epoch 158: 0.010007459263023181\n",
      "MSE for epoch 159: 0.009130239371693256\n",
      "MSE for epoch 160: 0.00968036165088726\n",
      "MSE for epoch 161: 0.009501943515454959\n",
      "MSE for epoch 162: 0.008765677641145646\n",
      "MSE for epoch 163: 0.009422064427200217\n",
      "MSE for epoch 164: 0.008892813723147867\n",
      "MSE for epoch 165: 0.009184987333546741\n",
      "MSE for epoch 166: 0.009268302789699184\n",
      "MSE for epoch 167: 0.008317687785938357\n",
      "MSE for epoch 168: 0.008670707041946576\n",
      "MSE for epoch 169: 0.008868534825319432\n",
      "MSE for epoch 170: 0.008583179864744961\n",
      "MSE for epoch 171: 0.008839416225227763\n",
      "MSE for epoch 172: 0.00821944963674468\n",
      "MSE for epoch 173: 0.008831894136895849\n",
      "MSE for epoch 174: 0.008350464922203826\n",
      "MSE for epoch 175: 0.00839396948515193\n",
      "MSE for epoch 176: 0.008548939096715951\n",
      "MSE for epoch 177: 0.008570637553140541\n",
      "MSE for epoch 178: 0.008674039576619238\n",
      "MSE for epoch 179: 0.008294130512014004\n",
      "MSE for epoch 180: 0.008546269572754117\n",
      "MSE for epoch 181: 0.00848003918947843\n",
      "MSE for epoch 182: 0.008122422599460093\n",
      "MSE for epoch 183: 0.007743574595276831\n",
      "MSE for epoch 184: 0.007524010277143396\n",
      "MSE for epoch 185: 0.007684669172300129\n",
      "MSE for epoch 186: 0.0075472515795092605\n",
      "MSE for epoch 187: 0.007883730211832201\n",
      "MSE for epoch 188: 0.007196119192154342\n",
      "MSE for epoch 189: 0.007617876085211465\n",
      "MSE for epoch 190: 0.007455596083720839\n",
      "MSE for epoch 191: 0.007309635760862447\n",
      "MSE for epoch 192: 0.007053595658429998\n",
      "MSE for epoch 193: 0.007721298953863284\n",
      "MSE for epoch 194: 0.007083775962666393\n",
      "MSE for epoch 195: 0.0074733225955617\n",
      "MSE for epoch 196: 0.006917050972611178\n",
      "MSE for epoch 197: 0.007275120819505785\n",
      "MSE for epoch 198: 0.007166152481298538\n",
      "MSE for epoch 199: 0.007345591169758767\n",
      "MSE for epoch 200: 0.007249305325333929\n",
      "MSE for epoch 201: 0.0066001835054723896\n",
      "MSE for epoch 202: 0.007138799698119755\n",
      "MSE for epoch 203: 0.0074277855536945886\n",
      "MSE for epoch 204: 0.007015892751552279\n",
      "MSE for epoch 205: 0.007135984102715443\n",
      "MSE for epoch 206: 0.006929228373200924\n",
      "MSE for epoch 207: 0.0070198322668986795\n",
      "MSE for epoch 208: 0.007062486814418107\n",
      "MSE for epoch 209: 0.007099632301290878\n",
      "MSE for epoch 210: 0.006811906529497743\n",
      "MSE for epoch 211: 0.006670689358624286\n",
      "MSE for epoch 212: 0.007286565827973808\n",
      "MSE for epoch 213: 0.006699609406228321\n",
      "MSE for epoch 214: 0.006411655100315242\n",
      "MSE for epoch 215: 0.00630635781254767\n",
      "MSE for epoch 216: 0.006328114580715854\n",
      "MSE for epoch 217: 0.006758102385041987\n",
      "MSE for epoch 218: 0.00599672837934436\n",
      "MSE for epoch 219: 0.00655034672345428\n",
      "MSE for epoch 220: 0.0064010082603534815\n",
      "MSE for epoch 221: 0.006105754917009518\n",
      "MSE for epoch 222: 0.006256288407089644\n",
      "MSE for epoch 223: 0.006677750352982258\n",
      "MSE for epoch 224: 0.005957363842551068\n",
      "MSE for epoch 225: 0.005875578984533852\n",
      "MSE for epoch 226: 0.006095716267939869\n",
      "MSE for epoch 227: 0.006057195452400088\n",
      "MSE for epoch 228: 0.006171661243800156\n",
      "MSE for epoch 229: 0.005995358969812663\n",
      "MSE for epoch 230: 0.005780596550913805\n",
      "MSE for epoch 231: 0.005950668975638554\n",
      "MSE for epoch 232: 0.006150607328491703\n",
      "MSE for epoch 233: 0.006003222435555708\n",
      "MSE for epoch 234: 0.0063980670421997345\n",
      "MSE for epoch 235: 0.006215197435711048\n",
      "MSE for epoch 236: 0.005675565008181703\n",
      "MSE for epoch 237: 0.005869965478717593\n",
      "MSE for epoch 238: 0.006245233730061264\n",
      "MSE for epoch 239: 0.005552421630201682\n",
      "MSE for epoch 240: 0.005255193927443851\n",
      "MSE for epoch 241: 0.0054492741657895406\n",
      "MSE for epoch 242: 0.0053803851319683006\n",
      "MSE for epoch 243: 0.0058884096817794765\n",
      "MSE for epoch 244: 0.005645228964064238\n",
      "MSE for epoch 245: 0.005937187883413305\n",
      "MSE for epoch 246: 0.0053780630472588225\n",
      "MSE for epoch 247: 0.005705492547394829\n",
      "MSE for epoch 248: 0.0057157042844665\n",
      "MSE for epoch 249: 0.005015281627753311\n",
      "MSE for epoch 250: 0.005174451065677906\n",
      "MSE for epoch 251: 0.005308392902550476\n",
      "MSE for epoch 252: 0.005387192740534705\n",
      "MSE for epoch 253: 0.005727009038011481\n",
      "MSE for epoch 254: 0.005336065556849038\n",
      "MSE for epoch 255: 0.005449856521740839\n",
      "MSE for epoch 256: 0.005131798799435734\n",
      "MSE for epoch 257: 0.0053171697106208175\n",
      "MSE for epoch 258: 0.0054456272784339475\n",
      "MSE for epoch 259: 0.005324472864819328\n",
      "MSE for epoch 260: 0.005180373545846228\n",
      "MSE for epoch 261: 0.005250597573694406\n",
      "MSE for epoch 262: 0.005153377383836734\n",
      "MSE for epoch 263: 0.004797828990556668\n",
      "MSE for epoch 264: 0.004995137515762573\n",
      "MSE for epoch 265: 0.004730740694371477\n",
      "MSE for epoch 266: 0.005046681664260764\n",
      "MSE for epoch 267: 0.005337699798797579\n",
      "MSE for epoch 268: 0.005170911067928235\n",
      "MSE for epoch 269: 0.004891132735862337\n",
      "MSE for epoch 270: 0.004798037384830582\n",
      "MSE for epoch 271: 0.0045152716159236024\n",
      "MSE for epoch 272: 0.00513048492579759\n",
      "MSE for epoch 273: 0.004946075496082567\n",
      "MSE for epoch 274: 0.004588219986659946\n",
      "MSE for epoch 275: 0.004931178240506298\n",
      "MSE for epoch 276: 0.005340385014469419\n",
      "MSE for epoch 277: 0.004890735993633353\n",
      "MSE for epoch 278: 0.004828551018890869\n",
      "MSE for epoch 279: 0.004542712684220674\n",
      "MSE for epoch 280: 0.004832893009483997\n",
      "MSE for epoch 281: 0.005049120458399504\n",
      "MSE for epoch 282: 0.004862802423319153\n",
      "MSE for epoch 283: 0.004661111143124616\n",
      "MSE for epoch 284: 0.004728098767326685\n",
      "MSE for epoch 285: 0.005053887472911069\n",
      "MSE for epoch 286: 0.004783922864094975\n",
      "MSE for epoch 287: 0.004833587690636367\n",
      "MSE for epoch 288: 0.004811328680501103\n",
      "MSE for epoch 289: 0.004163862240635637\n",
      "MSE for epoch 290: 0.004513112822777144\n",
      "MSE for epoch 291: 0.004349142046304319\n",
      "MSE for epoch 292: 0.004601496894185584\n",
      "MSE for epoch 293: 0.00451298606502143\n",
      "MSE for epoch 294: 0.004275636492285131\n",
      "MSE for epoch 295: 0.0045027143058652816\n",
      "MSE for epoch 296: 0.004636762093438808\n",
      "MSE for epoch 297: 0.004256414756722782\n",
      "MSE for epoch 298: 0.004364821234807757\n",
      "MSE for epoch 299: 0.0044764273422821625\n"
     ]
    }
   ],
   "source": [
    "dbn.train_model(data, epochs=300)"
   ]
  },
  {
   "cell_type": "code",
   "execution_count": 154,
   "metadata": {},
   "outputs": [
    {
     "data": {
      "text/plain": [
       "<matplotlib.image.AxesImage at 0x256bf175940>"
      ]
     },
     "execution_count": 154,
     "metadata": {},
     "output_type": "execute_result"
    },
    {
     "data": {
      "image/png": "[encoded data removed]",
      "text/plain": [
       "<Figure size 432x288 with 1 Axes>"
      ]
     },
     "metadata": {
      "needs_background": "light"
     },
     "output_type": "display_data"
    }
   ],
   "source": [
    "plt.imshow(dbn.reconstruct(data[39*2].T)[0].reshape(20,16), cmap='Greys_r')"
   ]
  },
  {
   "cell_type": "code",
   "execution_count": 155,
   "metadata": {},
   "outputs": [],
   "source": [
    "generated_images_dbn = dbn.generate_image(1000, 100)"
   ]
  },
  {
   "cell_type": "code",
   "execution_count": 163,
   "metadata": {},
   "outputs": [
    {
     "data": {
      "image/png": "[encoded data removed]",
      "text/plain": [
       "<Figure size 1152x3456 with 100 Axes>"
      ]
     },
     "metadata": {
      "needs_background": "light"
     },
     "output_type": "display_data"
    }
   ],
   "source": [
    "fig = plt.figure(figsize=(16, 48))\n",
    "columns = 5\n",
    "rows = 20\n",
    "for i in range(1, columns*rows +1):\n",
    "    img = generated_images_dbn[i-1].reshape(20,16)\n",
    "    fig.add_subplot(rows, columns, i)\n",
    "    plt.imshow(img, cmap='Greys_r')\n",
    "plt.show()"
   ]
  }
 ],
 "metadata": {
  "interpreter": {
   "hash": "7e2f77450d574f743a6d9d7e6faf87aa64c8f9c3d83f2013a355475f93227b48"
  },
  "kernelspec": {
   "display_name": "Python 3.8.8 ('data')",
   "language": "python",
   "name": "python3"
  },
  "language_info": {
   "codemirror_mode": {
    "name": "ipython",
    "version": 3
   },
   "file_extension": ".py",
   "mimetype": "text/x-python",
   "name": "python",
   "nbconvert_exporter": "python",
   "pygments_lexer": "ipython3",
   "version": "3.8.8"
  },
  "orig_nbformat": 4
 },
 "nbformat": 4,
 "nbformat_minor": 2
}
